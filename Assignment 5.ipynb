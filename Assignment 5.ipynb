{
 "cells": [
  {
   "cell_type": "markdown",
   "id": "5726ac83",
   "metadata": {},
   "source": [
    "# 1\n",
    "Generate a list of 100 integers containing values between 90 to 130 and store it in the variable `int_list`. \n",
    "After generating the list, find the following:\n",
    "\n",
    "  \n",
    "\n",
    "  (i) Write a Python function to calculate the mean of a given list of numbers.\n",
    "\n",
    "Create a function to find the median of a list of numbers.\n",
    "\n",
    "  \n",
    "\n",
    "  (ii) Develop a program to compute the mode of a list of integers.\n",
    "\n",
    "  \n",
    "\n",
    "  (iii) Implement a function to calculate the weighted mean of a list of values and their corresponding weights.\n",
    "\n",
    "  \n",
    "\n",
    "  (iv) Write a Python function to find the geometric mean of a list of positive numbers.\n",
    "\n",
    "  \n",
    "\n",
    "  (v) Create a program to calculate the harmonic mean of a list of values.\n",
    "\n",
    "  \n",
    "\n",
    "  (vi) Build a function to determine the midrange of a list of numbers (average of the minimum and maximum).\n",
    "\n",
    "  \n",
    "\n",
    "  (vii) Implement a Python program to find the trimmed mean of a list, excluding a certain percentage of \n",
    "outliers."
   ]
  },
  {
   "cell_type": "code",
   "execution_count": 1,
   "id": "cb3b391a",
   "metadata": {},
   "outputs": [
    {
     "name": "stdout",
     "output_type": "stream",
     "text": [
      "Generated List: [129, 110, 114, 130, 104, 114, 115, 117, 92, 128, 118, 105, 97, 105, 127, 99, 119, 99, 90, 103, 125, 107, 111, 90, 117, 102, 108, 107, 90, 125, 104, 96, 110, 124, 122, 99, 118, 120, 101, 101, 128, 112, 103, 96, 96, 101, 105, 90, 101, 107, 117, 118, 108, 129, 118, 123, 107, 98, 98, 93, 117, 118, 92, 106, 118, 119, 118, 98, 92, 96, 129, 91, 108, 102, 104, 92, 121, 94, 107, 100, 96, 104, 96, 98, 94, 124, 102, 130, 129, 120, 120, 130, 103, 109, 100, 95, 119, 115, 104, 124]\n",
      "Mean: 108.74\n",
      "Median: 107.0\n",
      "Mode: 118\n",
      "Weighted Mean: 109.33725286341729\n",
      "Geometric Mean: 108.10423465112594\n",
      "Harmonic Mean: 107.47551480636713\n",
      "Midrange: 110.0\n",
      "Trimmed Mean (10%): 108.4125\n"
     ]
    }
   ],
   "source": [
    "import random\n",
    "import statistics\n",
    "from scipy.stats import gmean\n",
    "\n",
    "# Generate a list of 100 integers containing values between 90 to 130\n",
    "int_list = [random.randint(90, 130) for _ in range(100)]\n",
    "\n",
    "# (i) Function to calculate the mean of a list of numbers\n",
    "def calculate_mean(numbers):\n",
    "    return sum(numbers) / len(numbers)\n",
    "\n",
    "# Function to calculate the median of a list of numbers\n",
    "def calculate_median(numbers):\n",
    "    sorted_numbers = sorted(numbers)\n",
    "    n = len(sorted_numbers)\n",
    "    if n % 2 == 0:\n",
    "        return (sorted_numbers[n//2 - 1] + sorted_numbers[n//2]) / 2\n",
    "    else:\n",
    "        return sorted_numbers[n//2]\n",
    "\n",
    "# (ii) Function to compute the mode of a list of integers\n",
    "def calculate_mode(numbers):\n",
    "    return statistics.mode(numbers)\n",
    "\n",
    "# (iii) Function to calculate the weighted mean\n",
    "def calculate_weighted_mean(values, weights):\n",
    "    return sum(v * w for v, w in zip(values, weights)) / sum(weights)\n",
    "\n",
    "# (iv) Function to calculate the geometric mean\n",
    "def calculate_geometric_mean(numbers):\n",
    "    return gmean(numbers)\n",
    "\n",
    "# (v) Function to calculate the harmonic mean\n",
    "def calculate_harmonic_mean(numbers):\n",
    "    return len(numbers) / sum(1 / x for x in numbers)\n",
    "\n",
    "# (vi) Function to calculate the midrange\n",
    "def calculate_midrange(numbers):\n",
    "    return (min(numbers) + max(numbers)) / 2\n",
    "\n",
    "# (vii) Function to calculate the trimmed mean, excluding a certain percentage of outliers\n",
    "def calculate_trimmed_mean(numbers, trim_percentage):\n",
    "    numbers = sorted(numbers)\n",
    "    n = len(numbers)\n",
    "    trim_count = int(n * trim_percentage / 100)\n",
    "    trimmed_numbers = numbers[trim_count:n - trim_count]\n",
    "    return calculate_mean(trimmed_numbers)\n",
    "\n",
    "# Example usage\n",
    "print(\"Generated List:\", int_list)\n",
    "print(\"Mean:\", calculate_mean(int_list))\n",
    "print(\"Median:\", calculate_median(int_list))\n",
    "print(\"Mode:\", calculate_mode(int_list))\n",
    "example_weights = [random.uniform(1, 5) for _ in range(100)]  # Example weights\n",
    "print(\"Weighted Mean:\", calculate_weighted_mean(int_list, example_weights))\n",
    "print(\"Geometric Mean:\", calculate_geometric_mean(int_list))\n",
    "print(\"Harmonic Mean:\", calculate_harmonic_mean(int_list))\n",
    "print(\"Midrange:\", calculate_midrange(int_list))\n",
    "print(\"Trimmed Mean (10%):\", calculate_trimmed_mean(int_list, 10))\n"
   ]
  },
  {
   "cell_type": "markdown",
   "id": "fa28c7b6",
   "metadata": {},
   "source": [
    "# 2\n",
    "Generate a list of 500 integers containing values between 200 to 300 and store it in the variable `int_list2`. \n",
    "After generating the list, find the following:\n",
    "\n",
    "\n",
    "  (i) Compare the given list of visualization for the given data:\n",
    "\n",
    "    \n",
    "\n",
    "    1. Frequency & Gaussian distribution\n",
    "\n",
    "    2. Frequency smoothened KDE plot\n",
    "\n",
    "    3. Gaussian distribution & smoothened KDE plot\n",
    "\n",
    "\n",
    "  (ii) Write a Python function to calculate the range of a given list of numbers.\n",
    "\n",
    "\n",
    "  (iii) Create a program to find the variance and standard deviation of a list of numbers.\n",
    "\n",
    "\n",
    "  (iv) Implement a function to compute the interquartile range (IQR) of a list of values.\n",
    "\n",
    "\n",
    "  (v) Build a program to calculate the coefficient of variation for a dataset.\n",
    "\n",
    "  \n",
    "\n",
    "  (vi) Write a Python function to find the mean absolute deviation (MAD) of a list of numbers.\n",
    "\n",
    "\n",
    "  (vii) Create a program to calculate the quartile deviation of a list of values.\n",
    "\n",
    "  \n",
    "\n",
    "  (viii) Implement a function to find the range-based coefficient of dispersion for a dataset."
   ]
  },
  {
   "cell_type": "code",
   "execution_count": 2,
   "id": "aba8f421",
   "metadata": {},
   "outputs": [
    {
     "data": {
      "image/png": "[encoded data removed]",
      "text/plain": [
       "<Figure size 432x288 with 1 Axes>"
      ]
     },
     "metadata": {
      "needs_background": "light"
     },
     "output_type": "display_data"
    },
    {
     "data": {
      "image/png": "[encoded data removed]",
      "text/plain": [
       "<Figure size 432x288 with 1 Axes>"
      ]
     },
     "metadata": {
      "needs_background": "light"
     },
     "output_type": "display_data"
    },
    {
     "data": {
      "image/png": "[encoded data removed]",
      "text/plain": [
       "<Figure size 432x288 with 1 Axes>"
      ]
     },
     "metadata": {
      "needs_background": "light"
     },
     "output_type": "display_data"
    },
    {
     "name": "stdout",
     "output_type": "stream",
     "text": [
      "Generated List: [267, 210, 258, 280, 225, 227, 251, 278, 259, 297, 226, 219, 273, 215, 250, 204, 222, 242, 265, 293, 237, 274, 290, 208, 236, 210, 219, 268, 293, 258, 244, 299, 235, 228, 260, 260, 277, 279, 259, 238, 221, 293, 290, 267, 249, 219, 205, 254, 205, 267, 289, 287, 259, 276, 256, 273, 215, 275, 217, 256, 225, 268, 287, 275, 298, 247, 280, 203, 285, 288, 251, 235, 284, 291, 274, 278, 286, 245, 268, 248, 225, 234, 256, 257, 251, 258, 293, 290, 245, 234, 237, 218, 291, 230, 279, 233, 242, 206, 222, 218, 220, 214, 289, 207, 203, 202, 239, 212, 219, 206, 254, 229, 202, 206, 233, 208, 292, 247, 272, 295, 226, 268, 264, 274, 269, 259, 220, 271, 297, 216, 279, 293, 235, 246, 220, 228, 275, 233, 206, 262, 271, 214, 221, 273, 283, 279, 267, 245, 239, 300, 275, 234, 226, 260, 284, 212, 214, 290, 290, 271, 273, 272, 201, 224, 290, 208, 270, 229, 289, 272, 291, 246, 252, 238, 299, 272, 256, 226, 219, 264, 276, 248, 248, 263, 287, 271, 210, 238, 249, 243, 271, 248, 265, 230, 205, 236, 277, 231, 258, 253, 297, 242, 264, 206, 300, 252, 266, 284, 279, 257, 263, 278, 213, 233, 223, 239, 257, 292, 236, 227, 227, 273, 280, 276, 300, 274, 299, 299, 212, 223, 227, 299, 268, 246, 256, 200, 298, 264, 285, 299, 240, 256, 247, 214, 291, 252, 270, 232, 297, 210, 227, 200, 221, 251, 295, 273, 247, 277, 226, 244, 285, 220, 272, 295, 285, 244, 236, 203, 279, 275, 231, 247, 220, 216, 249, 283, 203, 226, 270, 203, 242, 229, 258, 240, 269, 278, 255, 250, 254, 273, 291, 244, 266, 254, 267, 205, 269, 203, 262, 289, 230, 231, 280, 211, 268, 225, 269, 271, 239, 286, 203, 208, 288, 215, 217, 243, 263, 300, 223, 246, 210, 260, 276, 274, 240, 222, 273, 284, 275, 259, 272, 249, 255, 244, 269, 209, 226, 221, 206, 233, 259, 280, 297, 270, 242, 275, 234, 250, 280, 265, 225, 226, 297, 245, 266, 214, 228, 276, 229, 300, 296, 241, 290, 204, 250, 205, 200, 250, 270, 285, 244, 208, 290, 293, 228, 266, 208, 229, 203, 256, 220, 294, 269, 297, 212, 219, 289, 268, 211, 219, 250, 215, 229, 268, 237, 201, 251, 277, 241, 271, 299, 223, 215, 213, 239, 216, 285, 238, 298, 226, 257, 264, 208, 219, 204, 210, 275, 216, 270, 228, 222, 273, 286, 232, 228, 292, 221, 265, 288, 257, 297, 235, 222, 207, 226, 235, 247, 285, 288, 295, 272, 257, 260, 255, 283, 234, 276, 250, 209, 222, 212, 200, 276, 241, 293, 285, 255, 215, 225, 259, 278, 209, 259, 223, 272, 207, 274, 203, 205, 258, 204, 291, 271, 296, 232, 207, 263, 247, 272, 237, 274, 288, 263, 280, 259, 225, 242, 300, 211, 203, 208, 214, 256, 200, 223, 270, 259, 284, 299, 218]\n",
      "Range: 100\n",
      "Variance: 850.120625250501\n",
      "Standard Deviation: 29.156828106817468\n",
      "IQR: 49.25\n",
      "Coefficient of Variation: 11.62998121562379\n",
      "Mean Absolute Deviation (MAD): 25.371104000000006\n",
      "Quartile Deviation: 24.625\n",
      "Range-Based Coefficient of Dispersion: 39.88767630352926\n"
     ]
    }
   ],
   "source": [
    "import numpy as np\n",
    "import seaborn as sns\n",
    "import matplotlib.pyplot as plt\n",
    "from scipy.stats import gaussian_kde\n",
    "\n",
    "# Generate a list of 500 integers containing values between 200 to 300\n",
    "int_list2 = [random.randint(200, 300) for _ in range(500)]\n",
    "\n",
    "# (i) Visualization for the given data\n",
    "# 1. Frequency & Gaussian distribution\n",
    "sns.histplot(int_list2, kde=False, stat=\"density\", bins=20, label=\"Frequency\")\n",
    "sns.kdeplot(int_list2, label=\"Gaussian Distribution\", color=\"red\")\n",
    "plt.legend()\n",
    "plt.title(\"Frequency & Gaussian Distribution\")\n",
    "plt.show()\n",
    "\n",
    "# 2. Frequency smoothened KDE plot\n",
    "sns.histplot(int_list2, kde=False, stat=\"density\", bins=20, label=\"Frequency\")\n",
    "sns.kdeplot(int_list2, label=\"Smoothened KDE\", color=\"green\")\n",
    "plt.legend()\n",
    "plt.title(\"Frequency & Smoothened KDE Plot\")\n",
    "plt.show()\n",
    "\n",
    "# 3. Gaussian distribution & smoothened KDE plot\n",
    "sns.kdeplot(int_list2, label=\"Gaussian Distribution\", color=\"red\")\n",
    "sns.kdeplot(int_list2, label=\"Smoothened KDE\", color=\"green\", linestyle=\"--\")\n",
    "plt.legend()\n",
    "plt.title(\"Gaussian Distribution & Smoothened KDE Plot\")\n",
    "plt.show()\n",
    "\n",
    "# (ii) Function to calculate the range of a list of numbers\n",
    "def calculate_range(numbers):\n",
    "    return max(numbers) - min(numbers)\n",
    "\n",
    "# (iii) Program to find the variance and standard deviation of a list of numbers\n",
    "def calculate_variance(numbers):\n",
    "    return statistics.variance(numbers)\n",
    "\n",
    "def calculate_standard_deviation(numbers):\n",
    "    return statistics.stdev(numbers)\n",
    "\n",
    "# (iv) Function to compute the interquartile range (IQR)\n",
    "def calculate_iqr(numbers):\n",
    "    q1 = np.percentile(numbers, 25)\n",
    "    q3 = np.percentile(numbers, 75)\n",
    "    return q3 - q1\n",
    "\n",
    "# (v) Function to calculate the coefficient of variation\n",
    "def calculate_coefficient_of_variation(numbers):\n",
    "    mean = calculate_mean(numbers)\n",
    "    std_dev = calculate_standard_deviation(numbers)\n",
    "    return (std_dev / mean) * 100\n",
    "\n",
    "# (vi) Function to calculate the mean absolute deviation (MAD)\n",
    "def calculate_mad(numbers):\n",
    "    mean = calculate_mean(numbers)\n",
    "    return sum(abs(x - mean) for x in numbers) / len(numbers)\n",
    "\n",
    "# (vii) Function to calculate the quartile deviation\n",
    "def calculate_quartile_deviation(numbers):\n",
    "    q1 = np.percentile(numbers, 25)\n",
    "    q3 = np.percentile(numbers, 75)\n",
    "    return (q3 - q1) / 2\n",
    "\n",
    "# (viii) Function to find the range-based coefficient of dispersion\n",
    "def calculate_range_coefficient_of_dispersion(numbers):\n",
    "    range_value = calculate_range(numbers)\n",
    "    mean = calculate_mean(numbers)\n",
    "    return (range_value / mean) * 100\n",
    "\n",
    "# Example usage\n",
    "print(\"Generated List:\", int_list2)\n",
    "print(\"Range:\", calculate_range(int_list2))\n",
    "print(\"Variance:\", calculate_variance(int_list2))\n",
    "print(\"Standard Deviation:\", calculate_standard_deviation(int_list2))\n",
    "print(\"IQR:\", calculate_iqr(int_list2))\n",
    "print(\"Coefficient of Variation:\", calculate_coefficient_of_variation(int_list2))\n",
    "print(\"Mean Absolute Deviation (MAD):\", calculate_mad(int_list2))\n",
    "print(\"Quartile Deviation:\", calculate_quartile_deviation(int_list2))\n",
    "print(\"Range-Based Coefficient of Dispersion:\", calculate_range_coefficient_of_dispersion(int_list2))\n"
   ]
  },
  {
   "cell_type": "markdown",
   "id": "b83b4372",
   "metadata": {},
   "source": [
    "# 3\n",
    "Write a Python class representing a discrete random variable with methods to calculate its expected \n",
    "value and variance."
   ]
  },
  {
   "cell_type": "code",
   "execution_count": 3,
   "id": "a991b2d3",
   "metadata": {},
   "outputs": [
    {
     "name": "stdout",
     "output_type": "stream",
     "text": [
      "Expected Value: 3.2\n",
      "Variance: 1.56\n"
     ]
    }
   ],
   "source": [
    "class DiscreteRandomVariable:\n",
    "    def __init__(self, values, probabilities):\n",
    "        \"\"\"\n",
    "        Initializes the DiscreteRandomVariable with values and corresponding probabilities.\n",
    "\n",
    "        :param values: List of possible values the random variable can take.\n",
    "        :param probabilities: List of probabilities corresponding to each value.\n",
    "        \"\"\"\n",
    "        if len(values) != len(probabilities):\n",
    "            raise ValueError(\"Values and probabilities lists must have the same length.\")\n",
    "        if not abs(sum(probabilities) - 1.0) < 1e-9:\n",
    "            raise ValueError(\"Probabilities must sum to 1.\")\n",
    "        if any(p < 0 or p > 1 for p in probabilities):\n",
    "            raise ValueError(\"Probabilities must be between 0 and 1.\")\n",
    "\n",
    "        self.values = values\n",
    "        self.probabilities = probabilities\n",
    "\n",
    "    def expected_value(self):\n",
    "        \"\"\"\n",
    "        Calculates the expected value (mean) of the random variable.\n",
    "\n",
    "        :return: Expected value as a float.\n",
    "        \"\"\"\n",
    "        return sum(v * p for v, p in zip(self.values, self.probabilities))\n",
    "\n",
    "    def variance(self):\n",
    "        \"\"\"\n",
    "        Calculates the variance of the random variable.\n",
    "\n",
    "        :return: Variance as a float.\n",
    "        \"\"\"\n",
    "        mean = self.expected_value()\n",
    "        return sum(p * (v - mean) ** 2 for v, p in zip(self.values, self.probabilities))\n",
    "\n",
    "# Example usage\n",
    "if __name__ == \"__main__\":\n",
    "    values = [1, 2, 3, 4, 5]\n",
    "    probabilities = [0.1, 0.2, 0.3, 0.2, 0.2]\n",
    "\n",
    "    rv = DiscreteRandomVariable(values, probabilities)\n",
    "\n",
    "    print(\"Expected Value:\", rv.expected_value())\n",
    "    print(\"Variance:\", rv.variance())\n"
   ]
  },
  {
   "cell_type": "markdown",
   "id": "cfe58f42",
   "metadata": {},
   "source": [
    "# 4\n",
    "Implement a program to simulate the rolling of a fair six-sided die and calculate the expected value and \n",
    "variance of the outcomes."
   ]
  },
  {
   "cell_type": "code",
   "execution_count": 4,
   "id": "6dd60141",
   "metadata": {},
   "outputs": [
    {
     "name": "stdout",
     "output_type": "stream",
     "text": [
      "Expected Value (predefined RV): 3.2\n",
      "Variance (predefined RV): 1.56\n",
      "\n",
      "Simulated Die Rolls (10000 trials):\n",
      "Expected Value: 3.4617\n",
      "Variance: 2.88413311\n"
     ]
    }
   ],
   "source": [
    "\n",
    "class DiscreteRandomVariable:\n",
    "    def __init__(self, values, probabilities):\n",
    "        \"\"\"\n",
    "        Initializes the DiscreteRandomVariable with values and corresponding probabilities.\n",
    "\n",
    "        :param values: List of possible values the random variable can take.\n",
    "        :param probabilities: List of probabilities corresponding to each value.\n",
    "        \"\"\"\n",
    "        if len(values) != len(probabilities):\n",
    "            raise ValueError(\"Values and probabilities lists must have the same length.\")\n",
    "        if not abs(sum(probabilities) - 1.0) < 1e-9:\n",
    "            raise ValueError(\"Probabilities must sum to 1.\")\n",
    "        if any(p < 0 or p > 1 for p in probabilities):\n",
    "            raise ValueError(\"Probabilities must be between 0 and 1.\")\n",
    "\n",
    "        self.values = values\n",
    "        self.probabilities = probabilities\n",
    "\n",
    "    def expected_value(self):\n",
    "        \"\"\"\n",
    "        Calculates the expected value (mean) of the random variable.\n",
    "\n",
    "        :return: Expected value as a float.\n",
    "        \"\"\"\n",
    "        return sum(v * p for v, p in zip(self.values, self.probabilities))\n",
    "\n",
    "    def variance(self):\n",
    "        \"\"\"\n",
    "        Calculates the variance of the random variable.\n",
    "\n",
    "        :return: Variance as a float.\n",
    "        \"\"\"\n",
    "        mean = self.expected_value()\n",
    "        return sum(p * (v - mean) ** 2 for v, p in zip(self.values, self.probabilities))\n",
    "\n",
    "def simulate_die_rolls(trials):\n",
    "    \"\"\"\n",
    "    Simulates rolling a fair six-sided die and calculates expected value and variance.\n",
    "\n",
    "    :param trials: Number of trials to simulate.\n",
    "    :return: Expected value and variance of the outcomes.\n",
    "    \"\"\"\n",
    "    die_values = [1, 2, 3, 4, 5, 6]\n",
    "    outcomes = [random.choice(die_values) for _ in range(trials)]\n",
    "\n",
    "    # Calculate frequencies of outcomes\n",
    "    frequencies = {value: outcomes.count(value) / trials for value in die_values}\n",
    "\n",
    "    # Create the random variable from frequencies\n",
    "    probabilities = [frequencies.get(value, 0) for value in die_values]\n",
    "    die_rv = DiscreteRandomVariable(die_values, probabilities)\n",
    "\n",
    "    return die_rv.expected_value(), die_rv.variance()\n",
    "\n",
    "# Example usage\n",
    "if __name__ == \"__main__\":\n",
    "    values = [1, 2, 3, 4, 5]\n",
    "    probabilities = [0.1, 0.2, 0.3, 0.2, 0.2]\n",
    "\n",
    "    rv = DiscreteRandomVariable(values, probabilities)\n",
    "\n",
    "    print(\"Expected Value (predefined RV):\", rv.expected_value())\n",
    "    print(\"Variance (predefined RV):\", rv.variance())\n",
    "\n",
    "    # Simulate die rolls\n",
    "    trials = 10000\n",
    "    ev, var = simulate_die_rolls(trials)\n",
    "    print(f\"\\nSimulated Die Rolls ({trials} trials):\")\n",
    "    print(\"Expected Value:\", ev)\n",
    "    print(\"Variance:\", var)\n"
   ]
  },
  {
   "cell_type": "markdown",
   "id": "395e6de5",
   "metadata": {},
   "source": [
    "# 5\n",
    "Create a Python function to generate random samples from a given probability distribution (e.g., \n",
    "binomial, Poisson) and calculate their mean and variance."
   ]
  },
  {
   "cell_type": "code",
   "execution_count": 5,
   "id": "dcbab92e",
   "metadata": {},
   "outputs": [
    {
     "name": "stdout",
     "output_type": "stream",
     "text": [
      "Binomial Distribution:\n",
      "Samples (first 10): [5 7 3 4 6 6 2 5 7 4]\n",
      "Mean: 5.073\n",
      "Variance: 2.487671\n",
      "\n",
      "Poisson Distribution:\n",
      "Samples (first 10): [2 5 6 7 4 1 7 3 0 3]\n",
      "Mean: 3.926\n",
      "Variance: 4.1045240000000005\n"
     ]
    }
   ],
   "source": [
    "\n",
    "def generate_random_samples(distribution, params, sample_size):\n",
    "    \"\"\"\n",
    "    Generates random samples from a specified probability distribution and calculates their mean and variance.\n",
    "\n",
    "    :param distribution: Name of the distribution (\"binomial\", \"poisson\", etc.).\n",
    "    :param params: Parameters for the distribution as a dictionary.\n",
    "        - For \"binomial\": {\"n\": number of trials, \"p\": probability of success}\n",
    "        - For \"poisson\": {\"lambda\": average rate of success}\n",
    "    :param sample_size: Number of samples to generate.\n",
    "    :return: A tuple containing the generated samples, their mean, and variance.\n",
    "    \"\"\"\n",
    "    if distribution == \"binomial\":\n",
    "        if \"n\" not in params or \"p\" not in params:\n",
    "            raise ValueError(\"Missing parameters for binomial distribution. Required: 'n', 'p'.\")\n",
    "        samples = np.random.binomial(n=params[\"n\"], p=params[\"p\"], size=sample_size)\n",
    "    elif distribution == \"poisson\":\n",
    "        if \"lambda\" not in params:\n",
    "            raise ValueError(\"Missing parameter for Poisson distribution. Required: 'lambda'.\")\n",
    "        samples = np.random.poisson(lam=params[\"lambda\"], size=sample_size)\n",
    "    else:\n",
    "        raise ValueError(\"Unsupported distribution. Supported: 'binomial', 'poisson'.\")\n",
    "\n",
    "    mean = np.mean(samples)\n",
    "    variance = np.var(samples)\n",
    "\n",
    "    return samples, mean, variance\n",
    "\n",
    "# Example usage\n",
    "if __name__ == \"__main__\":\n",
    "    # Generate samples from a binomial distribution\n",
    "    binomial_params = {\"n\": 10, \"p\": 0.5}\n",
    "    binomial_samples, binomial_mean, binomial_variance = generate_random_samples(\"binomial\", binomial_params, 1000)\n",
    "    print(\"Binomial Distribution:\")\n",
    "    print(\"Samples (first 10):\", binomial_samples[:10])\n",
    "    print(\"Mean:\", binomial_mean)\n",
    "    print(\"Variance:\", binomial_variance)\n",
    "\n",
    "    # Generate samples from a Poisson distribution\n",
    "    poisson_params = {\"lambda\": 4}\n",
    "    poisson_samples, poisson_mean, poisson_variance = generate_random_samples(\"poisson\", poisson_params, 1000)\n",
    "    print(\"\\nPoisson Distribution:\")\n",
    "    print(\"Samples (first 10):\", poisson_samples[:10])\n",
    "    print(\"Mean:\", poisson_mean)\n",
    "    print(\"Variance:\", poisson_variance)\n"
   ]
  },
  {
   "cell_type": "markdown",
   "id": "09184451",
   "metadata": {},
   "source": [
    "# 6\n",
    "Write a Python script to generate random numbers from a Gaussian (normal) distribution and compute \n",
    "the mean, variance, and standard deviation of the samples."
   ]
  },
  {
   "cell_type": "code",
   "execution_count": 6,
   "id": "165186cf",
   "metadata": {},
   "outputs": [
    {
     "name": "stdout",
     "output_type": "stream",
     "text": [
      "Gaussian Distribution:\n",
      "Samples (first 10): [ 1.34811142 -1.54347874  1.42541374  0.66128842  0.26696155 -0.05157977\n",
      "  0.53355171 -0.69833843  1.81788908 -0.75232544]\n",
      "Mean: 0.009408208762126172\n",
      "Variance: 0.9880951787554676\n",
      "Standard Deviation: 0.9940297675399201\n"
     ]
    }
   ],
   "source": [
    "\n",
    "def gaussian_statistics(mean, std_dev, sample_size):\n",
    "    \"\"\"\n",
    "    Generates random samples from a Gaussian (normal) distribution and computes their mean, variance,\n",
    "    and standard deviation.\n",
    "\n",
    "    :param mean: The mean (mu) of the Gaussian distribution.\n",
    "    :param std_dev: The standard deviation (sigma) of the Gaussian distribution.\n",
    "    :param sample_size: Number of random samples to generate.\n",
    "    :return: A dictionary containing mean, variance, and standard deviation of the samples.\n",
    "    \"\"\"\n",
    "    # Generate samples from Gaussian distribution\n",
    "    samples = np.random.normal(loc=mean, scale=std_dev, size=sample_size)\n",
    "\n",
    "    # Calculate statistics\n",
    "    sample_mean = np.mean(samples)\n",
    "    sample_variance = np.var(samples)\n",
    "    sample_std_dev = np.std(samples)\n",
    "\n",
    "    return {\n",
    "        \"samples\": samples,\n",
    "        \"mean\": sample_mean,\n",
    "        \"variance\": sample_variance,\n",
    "        \"standard_deviation\": sample_std_dev,\n",
    "    }\n",
    "\n",
    "# Example usage\n",
    "if __name__ == \"__main__\":\n",
    "    # Define Gaussian distribution parameters\n",
    "    true_mean = 0  # Mean of the distribution\n",
    "    true_std_dev = 1  # Standard deviation of the distribution\n",
    "    sample_size = 1000  # Number of random samples to generate\n",
    "\n",
    "    # Compute statistics\n",
    "    stats = gaussian_statistics(true_mean, true_std_dev, sample_size)\n",
    "\n",
    "    # Print results\n",
    "    print(\"Gaussian Distribution:\")\n",
    "    print(\"Samples (first 10):\", stats[\"samples\"][:10])\n",
    "    print(\"Mean:\", stats[\"mean\"])\n",
    "    print(\"Variance:\", stats[\"variance\"])\n",
    "    print(\"Standard Deviation:\", stats[\"standard_deviation\"])\n"
   ]
  },
  {
   "cell_type": "markdown",
   "id": "519e7c1e",
   "metadata": {},
   "source": [
    "# 7\n",
    "Use seaborn library to load tips dataset. Find the following from the dataset for the columns total_bill \n",
    "and tip`:\n",
    "\n",
    "  \n",
    "\n",
    "  (i) Write a Python function that calculates their skewness.\n",
    "\n",
    "\n",
    "  (ii) Create a program that determines whether the columns exhibit positive skewness, negative skewness, or is \n",
    "approximately symmetric.\n",
    "\n",
    "\n",
    "  (iii) Write a function that calculates the covariance between two columns.\n",
    "\n",
    "\n",
    "  (iv) Implement a Python program that calculates the Pearson correlation coefficient between two columns.\n",
    "\n",
    "\n",
    "  (v) Write a script to visualize the correlation between two specific columns in a Pandas DataFrame using \n",
    "scatter plots."
   ]
  },
  {
   "cell_type": "code",
   "execution_count": 7,
   "id": "c5286380",
   "metadata": {},
   "outputs": [
    {
     "name": "stdout",
     "output_type": "stream",
     "text": [
      "Skewness of total_bill: 1.1332130376158205\n",
      "Skewness of tip: 1.4654510370979401\n",
      "Total_bill skewness type: Positive Skewness\n",
      "Tip skewness type: Positive Skewness\n",
      "Covariance between total_bill and tip: 8.323501629224854\n",
      "Pearson correlation coefficient between total_bill and tip: 0.6757341092113641\n"
     ]
    },
    {
     "data": {
      "image/png": "[encoded data removed]",
      "text/plain": [
       "<Figure size 576x432 with 1 Axes>"
      ]
     },
     "metadata": {
      "needs_background": "light"
     },
     "output_type": "display_data"
    }
   ],
   "source": [
    "import seaborn as sns\n",
    "\n",
    "def calculate_skewness(column):\n",
    "    \"\"\"\n",
    "    Calculates the skewness of a column in a Pandas DataFrame.\n",
    "\n",
    "    :param column: The column to calculate skewness for.\n",
    "    :return: Skewness value as a float.\n",
    "    \"\"\"\n",
    "    return column.skew()\n",
    "\n",
    "def determine_skewness_type(column):\n",
    "    \"\"\"\n",
    "    Determines the type of skewness for a column (positive, negative, or symmetric).\n",
    "\n",
    "    :param column: The column to analyze.\n",
    "    :return: A string indicating the skewness type.\n",
    "    \"\"\"\n",
    "    skewness = calculate_skewness(column)\n",
    "    if skewness > 0:\n",
    "        return \"Positive Skewness\"\n",
    "    elif skewness < 0:\n",
    "        return \"Negative Skewness\"\n",
    "    else:\n",
    "        return \"Approximately Symmetric\"\n",
    "\n",
    "def calculate_covariance(column1, column2):\n",
    "    \"\"\"\n",
    "    Calculates the covariance between two columns.\n",
    "\n",
    "    :param column1: The first column.\n",
    "    :param column2: The second column.\n",
    "    :return: Covariance as a float.\n",
    "    \"\"\"\n",
    "    return np.cov(column1, column2)[0, 1]\n",
    "\n",
    "def calculate_pearson_correlation(column1, column2):\n",
    "    \"\"\"\n",
    "    Calculates the Pearson correlation coefficient between two columns.\n",
    "\n",
    "    :param column1: The first column.\n",
    "    :param column2: The second column.\n",
    "    :return: Pearson correlation coefficient as a float.\n",
    "    \"\"\"\n",
    "    return column1.corr(column2)\n",
    "\n",
    "def visualize_correlation(column1, column2):\n",
    "    \"\"\"\n",
    "    Visualizes the correlation between two columns using a scatter plot.\n",
    "\n",
    "    :param column1: The first column.\n",
    "    :param column2: The second column.\n",
    "    \"\"\"\n",
    "    plt.figure(figsize=(8, 6))\n",
    "    plt.scatter(column1, column2, alpha=0.7, edgecolors='k')\n",
    "    plt.title('Scatter Plot')\n",
    "    plt.xlabel('Column 1')\n",
    "    plt.ylabel('Column 2')\n",
    "    plt.show()\n",
    "\n",
    "# Example usage\n",
    "if __name__ == \"__main__\":\n",
    "    # Load the tips dataset\n",
    "    tips = sns.load_dataset('tips')\n",
    "    total_bill = tips['total_bill']\n",
    "    tip = tips['tip']\n",
    "\n",
    "    # Calculate skewness\n",
    "    total_bill_skewness = calculate_skewness(total_bill)\n",
    "    tip_skewness = calculate_skewness(tip)\n",
    "    print(\"Skewness of total_bill:\", total_bill_skewness)\n",
    "    print(\"Skewness of tip:\", tip_skewness)\n",
    "\n",
    "    # Determine skewness type\n",
    "    print(\"Total_bill skewness type:\", determine_skewness_type(total_bill))\n",
    "    print(\"Tip skewness type:\", determine_skewness_type(tip))\n",
    "\n",
    "    # Calculate covariance\n",
    "    covariance = calculate_covariance(total_bill, tip)\n",
    "    print(\"Covariance between total_bill and tip:\", covariance)\n",
    "\n",
    "    # Calculate Pearson correlation coefficient\n",
    "    pearson_corr = calculate_pearson_correlation(total_bill, tip)\n",
    "    print(\"Pearson correlation coefficient between total_bill and tip:\", pearson_corr)\n",
    "\n",
    "    # Visualize correlation\n",
    "    visualize_correlation(total_bill, tip)\n"
   ]
  },
  {
   "cell_type": "markdown",
   "id": "3a2cc987",
   "metadata": {},
   "source": [
    "# 8\n",
    "Write a Python function to calculate the probability density function (PDF) of a continuous random \n",
    "variable for a given normal distribution."
   ]
  },
  {
   "cell_type": "code",
   "execution_count": 8,
   "id": "1a088e8c",
   "metadata": {},
   "outputs": [
    {
     "data": {
      "image/png": "[encoded data removed]",
      "text/plain": [
       "<Figure size 576x432 with 1 Axes>"
      ]
     },
     "metadata": {
      "needs_background": "light"
     },
     "output_type": "display_data"
    }
   ],
   "source": [
    "\n",
    "def normal_pdf(x, mean, std_dev):\n",
    "    \"\"\"\n",
    "    Calculates the Probability Density Function (PDF) for a given normal distribution.\n",
    "\n",
    "    :param x: The point(s) at which to calculate the PDF (can be a scalar or array).\n",
    "    :param mean: The mean (mu) of the normal distribution.\n",
    "    :param std_dev: The standard deviation (sigma) of the normal distribution.\n",
    "    :return: The PDF value(s) corresponding to x.\n",
    "    \"\"\"\n",
    "    coeff = 1 / (std_dev * np.sqrt(2 * np.pi))\n",
    "    exponent = -0.5 * ((x - mean) / std_dev) ** 2\n",
    "    return coeff * np.exp(exponent)\n",
    "\n",
    "# Example usage\n",
    "if __name__ == \"__main__\":\n",
    "    # Define parameters of the normal distribution\n",
    "    mean = 0  # Mean of the distribution\n",
    "    std_dev = 1  # Standard deviation of the distribution\n",
    "\n",
    "    # Generate x values\n",
    "    x_values = np.linspace(-5, 5, 1000)\n",
    "\n",
    "    # Calculate PDF values\n",
    "    pdf_values = normal_pdf(x_values, mean, std_dev)\n",
    "\n",
    "    # Plot the PDF\n",
    "    plt.figure(figsize=(8, 6))\n",
    "    plt.plot(x_values, pdf_values, label=f\"Normal PDF (mean={mean}, std_dev={std_dev})\", color=\"blue\")\n",
    "    plt.title(\"Probability Density Function of Normal Distribution\")\n",
    "    plt.xlabel(\"x\")\n",
    "    plt.ylabel(\"PDF\")\n",
    "    plt.legend()\n",
    "    plt.grid()\n",
    "    plt.show()\n"
   ]
  },
  {
   "cell_type": "markdown",
   "id": "a304e89a",
   "metadata": {},
   "source": [
    "# 9\n",
    "Create a program to calculate the cumulative distribution function (CDF) of exponential distribution."
   ]
  },
  {
   "cell_type": "code",
   "execution_count": 9,
   "id": "61e8c202",
   "metadata": {},
   "outputs": [
    {
     "data": {
      "image/png": "[encoded data removed]",
      "text/plain": [
       "<Figure size 576x432 with 1 Axes>"
      ]
     },
     "metadata": {
      "needs_background": "light"
     },
     "output_type": "display_data"
    }
   ],
   "source": [
    "\n",
    "def exponential_cdf(x, lambda_):\n",
    "    \"\"\"\n",
    "    Calculates the Cumulative Distribution Function (CDF) for an exponential distribution.\n",
    "\n",
    "    :param x: The point(s) at which to calculate the CDF (can be a scalar or array).\n",
    "    :param lambda_: The rate parameter (1/mean) of the exponential distribution.\n",
    "    :return: The CDF value(s) corresponding to x.\n",
    "    \"\"\"\n",
    "    return 1 - np.exp(-lambda_ * x)\n",
    "\n",
    "# Example usage\n",
    "if __name__ == \"__main__\":\n",
    "    # Define parameters of the exponential distribution\n",
    "    lambda_ = 0.5  # Rate parameter\n",
    "\n",
    "    # Generate x values\n",
    "    x_values = np.linspace(0, 10, 1000)\n",
    "\n",
    "    # Calculate CDF values\n",
    "    cdf_values = exponential_cdf(x_values, lambda_)\n",
    "\n",
    "    # Plot the CDF\n",
    "    plt.figure(figsize=(8, 6))\n",
    "    plt.plot(x_values, cdf_values, label=f\"Exponential CDF (lambda={lambda_})\", color=\"green\")\n",
    "    plt.title(\"Cumulative Distribution Function of Exponential Distribution\")\n",
    "    plt.xlabel(\"x\")\n",
    "    plt.ylabel(\"CDF\")\n",
    "    plt.legend()\n",
    "    plt.grid()\n",
    "    plt.show()"
   ]
  },
  {
   "cell_type": "markdown",
   "id": "36ad20d1",
   "metadata": {},
   "source": [
    "# 10\n",
    "Write a Python function to calculate the probability mass function (PMF) of Poisson distribution."
   ]
  },
  {
   "cell_type": "code",
   "execution_count": 10,
   "id": "67556119",
   "metadata": {},
   "outputs": [
    {
     "name": "stdout",
     "output_type": "stream",
     "text": [
      "P(X=0) = 0.0302\n",
      "P(X=1) = 0.1057\n",
      "P(X=2) = 0.1850\n",
      "P(X=3) = 0.2158\n",
      "P(X=4) = 0.1888\n",
      "P(X=5) = 0.1322\n",
      "P(X=6) = 0.0771\n",
      "P(X=7) = 0.0385\n",
      "P(X=8) = 0.0169\n",
      "P(X=9) = 0.0066\n",
      "P(X=10) = 0.0023\n"
     ]
    }
   ],
   "source": [
    "import math\n",
    "\n",
    "def poisson_pmf(k, lambda_):\n",
    "    \"\"\"\n",
    "    Calculates the Probability Mass Function (PMF) of a Poisson distribution.\n",
    "\n",
    "    :param k: The number of occurrences (non-negative integer).\n",
    "    :param lambda_: The rate parameter (mean number of occurrences).\n",
    "    :return: The PMF value corresponding to k.\n",
    "    \"\"\"\n",
    "    if k < 0 or not isinstance(k, int):\n",
    "        raise ValueError(\"k must be a non-negative integer.\")\n",
    "    \n",
    "    return (math.exp(-lambda_) * (lambda_ ** k)) / math.factorial(k)\n",
    "\n",
    "# Example usage\n",
    "if __name__ == \"__main__\":\n",
    "    # Define rate parameter lambda_\n",
    "    lambda_ = 3.5  # Average number of occurrences\n",
    "\n",
    "    # Calculate PMF for values of k\n",
    "    k_values = range(0, 11)  # k from 0 to 10\n",
    "    pmf_values = [poisson_pmf(k, lambda_) for k in k_values]\n",
    "\n",
    "    # Display results\n",
    "    for k, pmf in zip(k_values, pmf_values):\n",
    "        print(f\"P(X={k}) = {pmf:.4f}\")\n"
   ]
  },
  {
   "cell_type": "markdown",
   "id": "9745be8f",
   "metadata": {},
   "source": [
    "# 11\n",
    "A company wants to test if a new website layout leads to a higher conversion rate (percentage of visitors \n",
    "who make a purchase). They collect data from the old and new layouts to compare.\n",
    "\n",
    "\n",
    "To generate the data use the following command:\n",
    "\n",
    "```python\n",
    "\n",
    "import numpy as np\n",
    "\n",
    "# 50 purchases out of 1000 visitors\n",
    "\n",
    "old_layout = np.array([1] * 50 + [0] * 950)\n",
    "\n",
    "# 70 purchases out of 1000 visitors  \n",
    "\n",
    "new_layout = np.array([1] * 70 + [0] * 930)\n",
    "\n",
    "  ```\n",
    "\n",
    "Apply z-test to find which layout is successful."
   ]
  },
  {
   "cell_type": "code",
   "execution_count": 11,
   "id": "15aa2bb4",
   "metadata": {},
   "outputs": [
    {
     "data": {
      "text/plain": [
       "(-1.883108942886774, 0.9701571972337869)"
      ]
     },
     "execution_count": 11,
     "metadata": {},
     "output_type": "execute_result"
    }
   ],
   "source": [
    "\n",
    "from statsmodels.stats.proportion import proportions_ztest\n",
    "\n",
    "# Data generation\n",
    "old_layout = np.array([1] * 50 + [0] * 950)\n",
    "new_layout = np.array([1] * 70 + [0] * 930)\n",
    "\n",
    "# Summarizing data\n",
    "count = np.array([old_layout.sum(), new_layout.sum()])  # Number of successes\n",
    "nobs = np.array([len(old_layout), len(new_layout)])  # Total observations\n",
    "\n",
    "# Perform the z-test\n",
    "z_stat, p_value = proportions_ztest(count, nobs, alternative='larger')\n",
    "\n",
    "z_stat, p_value\n"
   ]
  },
  {
   "cell_type": "markdown",
   "id": "946c722b",
   "metadata": {},
   "source": [
    "# 12\n",
    "A tutoring service claims that its program improves students' exam scores. A sample of students who \n",
    "participated in the program was taken, and their scores before and after the program were recorded.\n",
    "\n",
    "\n",
    "Use the below code to generate samples of respective arrays of marks:\n",
    "\n",
    "```python\n",
    "\n",
    "before_program = np.array([75, 80, 85, 70, 90, 78, 92, 88, 82, 87])\n",
    "\n",
    "after_program = np.array([80, 85, 90, 80, 92, 80, 95, 90, 85, 88])\n",
    "\n",
    "```\n",
    "\n",
    "Use z-test to find if the claims made by tutor are true or false."
   ]
  },
  {
   "cell_type": "code",
   "execution_count": 12,
   "id": "484e5277",
   "metadata": {},
   "outputs": [
    {
     "data": {
      "text/plain": [
       "(1.3600371723457605, 0.08690908050913837)"
      ]
     },
     "execution_count": 12,
     "metadata": {},
     "output_type": "execute_result"
    }
   ],
   "source": [
    "from statsmodels.stats.weightstats import ztest\n",
    "\n",
    "# Data generation\n",
    "before_program = np.array([75, 80, 85, 70, 90, 78, 92, 88, 82, 87])\n",
    "after_program = np.array([80, 85, 90, 80, 92, 80, 95, 90, 85, 88])\n",
    "\n",
    "# Perform a z-test for paired samples (difference of means)\n",
    "z_stat, p_value = ztest(after_program, before_program, alternative='larger')\n",
    "\n",
    "z_stat, p_value\n"
   ]
  },
  {
   "cell_type": "markdown",
   "id": "2a53f3f8",
   "metadata": {},
   "source": [
    "# 13\n",
    "A pharmaceutical company wants to determine if a new drug is effective in reducing blood pressure. They \n",
    "conduct a study and record blood pressure measurements before and after administering the drug.\n",
    "\n",
    "\n",
    "Use the below code to generate samples of respective arrays of blood pressure:\n",
    "\n",
    "\n",
    "```python\n",
    "\n",
    "before_drug = np.array([145, 150, 140, 135, 155, 160, 152, 148, 130, 138])\n",
    "\n",
    "after_drug = np.array([130, 140, 132, 128, 145, 148, 138, 136, 125, 130])\n",
    "\n",
    "  ```\n",
    "\n",
    "\n",
    "Implement z-test to find if the drug really works or not."
   ]
  },
  {
   "cell_type": "code",
   "execution_count": 13,
   "id": "91f9aef5",
   "metadata": {},
   "outputs": [
    {
     "data": {
      "text/plain": [
       "(-2.639577121919447, 0.004150476693595778)"
      ]
     },
     "execution_count": 13,
     "metadata": {},
     "output_type": "execute_result"
    }
   ],
   "source": [
    "# Data generation\n",
    "before_drug = np.array([145, 150, 140, 135, 155, 160, 152, 148, 130, 138])\n",
    "after_drug = np.array([130, 140, 132, 128, 145, 148, 138, 136, 125, 130])\n",
    "\n",
    "# Perform a z-test for paired samples (difference of means)\n",
    "z_stat, p_value = ztest(after_drug, before_drug, alternative='smaller')\n",
    "\n",
    "z_stat, p_value\n"
   ]
  },
  {
   "cell_type": "markdown",
   "id": "3e17e2c3",
   "metadata": {},
   "source": [
    "# 14\n",
    "A customer service department claims that their average response time is less than 5 minutes. A sample \n",
    "of recent customer interactions was taken, and the response times were recorded.\n",
    "\n",
    "\n",
    "Implement the below code to generate the array of response time:\n",
    "\n",
    "```python\n",
    "\n",
    "response_times = np.array([4.3, 3.8, 5.1, 4.9, 4.7, 4.2, 5.2, 4.5, 4.6, 4.4])\n",
    "\n",
    "```\n",
    "\n",
    "Implement z-test to find the claims made by customer service department are tru or false."
   ]
  },
  {
   "cell_type": "code",
   "execution_count": 14,
   "id": "eb9075e8",
   "metadata": {},
   "outputs": [
    {
     "data": {
      "text/plain": [
       "(-3.1844572260429627, 0.0007251287113068958)"
      ]
     },
     "execution_count": 14,
     "metadata": {},
     "output_type": "execute_result"
    }
   ],
   "source": [
    "# Data generation\n",
    "response_times = np.array([4.3, 3.8, 5.1, 4.9, 4.7, 4.2, 5.2, 4.5, 4.6, 4.4])\n",
    "\n",
    "# Hypothesized mean response time\n",
    "hypothesized_mean = 5\n",
    "\n",
    "# Perform a one-sample z-test\n",
    "z_stat, p_value = ztest(response_times, value=hypothesized_mean, alternative='smaller')\n",
    "\n",
    "z_stat, p_value\n"
   ]
  },
  {
   "cell_type": "markdown",
   "id": "a2dd5b95",
   "metadata": {},
   "source": [
    "# 15\n",
    "A company is testing two different website layouts to see which one leads to higher click-through rates. \n",
    "Write a Python function to perform an A/B test analysis, including calculating the t-statistic, degrees of \n",
    "freedom, and p-value.\n",
    "\n",
    "\n",
    "Use the following data:\n",
    "\n",
    "```python\n",
    "\n",
    "layout_a_clicks = [28, 32, 33, 29, 31, 34, 30, 35, 36, 37]\n",
    "\n",
    "layout_b_clicks = [40, 41, 38, 42, 39, 44, 43, 41, 45, 47]"
   ]
  },
  {
   "cell_type": "code",
   "execution_count": 15,
   "id": "24114846",
   "metadata": {},
   "outputs": [
    {
     "data": {
      "text/plain": [
       "{'t_statistic': -7.298102156175071,\n",
       " 'degrees_of_freedom': 18,\n",
       " 'p_value': 8.833437608301987e-07}"
      ]
     },
     "execution_count": 15,
     "metadata": {},
     "output_type": "execute_result"
    }
   ],
   "source": [
    "from scipy.stats import ttest_ind\n",
    "\n",
    "def ab_test_analysis(layout_a_clicks, layout_b_clicks):\n",
    "    \"\"\"\n",
    "    Perform an A/B test analysis on two datasets (layout clicks).\n",
    "\n",
    "    Args:\n",
    "        layout_a_clicks (list): Click data for layout A.\n",
    "        layout_b_clicks (list): Click data for layout B.\n",
    "\n",
    "    Returns:\n",
    "        dict: Contains t-statistic, degrees of freedom, and p-value.\n",
    "    \"\"\"\n",
    "    # Convert input lists to numpy arrays\n",
    "    data_a = np.array(layout_a_clicks)\n",
    "    data_b = np.array(layout_b_clicks)\n",
    "\n",
    "    # Calculate the t-statistic and p-value\n",
    "    t_stat, p_value = ttest_ind(data_a, data_b, equal_var=True)\n",
    "\n",
    "    # Calculate degrees of freedom\n",
    "    df = len(data_a) + len(data_b) - 2\n",
    "\n",
    "    return {\n",
    "        \"t_statistic\": t_stat,\n",
    "        \"degrees_of_freedom\": df,\n",
    "        \"p_value\": p_value\n",
    "    }\n",
    "\n",
    "# Input data\n",
    "layout_a_clicks = [28, 32, 33, 29, 31, 34, 30, 35, 36, 37]\n",
    "layout_b_clicks = [40, 41, 38, 42, 39, 44, 43, 41, 45, 47]\n",
    "\n",
    "# Perform the A/B test analysis\n",
    "result = ab_test_analysis(layout_a_clicks, layout_b_clicks)\n",
    "result\n"
   ]
  },
  {
   "cell_type": "markdown",
   "id": "93c21117",
   "metadata": {},
   "source": [
    "# 16\n",
    "A pharmaceutical company wants to determine if a new drug is more effective than an existing drug in \n",
    "reducing cholesterol levels. Create a program to analyze the clinical trial data and calculate the t\u0002statistic and p-value for the treatment effect.\n",
    "\n",
    "\n",
    "Use the following data of cholestrol level:\n",
    "\n",
    "```python\n",
    "\n",
    "existing_drug_levels = [180, 182, 175, 185, 178, 176, 172, 184, 179, 183]\n",
    "\n",
    "new_drug_levels = [170, 172, 165, 168, 175, 173, 170, 178, 172, 176]"
   ]
  },
  {
   "cell_type": "code",
   "execution_count": 16,
   "id": "61cbd52f",
   "metadata": {},
   "outputs": [
    {
     "data": {
      "text/plain": [
       "{'t_statistic': -4.14048098620866, 'p_value': 0.00030716992211862526}"
      ]
     },
     "execution_count": 16,
     "metadata": {},
     "output_type": "execute_result"
    }
   ],
   "source": [
    "from scipy.stats import ttest_rel\n",
    "def drug_effectiveness_analysis(existing_drug_levels, new_drug_levels):\n",
    "    \"\"\"\n",
    "    Analyze the effectiveness of a new drug compared to an existing drug by performing a t-test.\n",
    "\n",
    "    Args:\n",
    "        existing_drug_levels (list): Cholesterol levels for the existing drug.\n",
    "        new_drug_levels (list): Cholesterol levels for the new drug.\n",
    "\n",
    "    Returns:\n",
    "        dict: Contains t-statistic and p-value.\n",
    "    \"\"\"\n",
    "    # Convert input lists to numpy arrays\n",
    "    data_existing = np.array(existing_drug_levels)\n",
    "    data_new = np.array(new_drug_levels)\n",
    "\n",
    "    # Perform a two-sample t-test\n",
    "    t_stat, p_value = ttest_ind(data_new, data_existing, alternative='less')\n",
    "\n",
    "    return {\n",
    "        \"t_statistic\": t_stat,\n",
    "        \"p_value\": p_value\n",
    "    }\n",
    "\n",
    "# Input data\n",
    "existing_drug_levels = [180, 182, 175, 185, 178, 176, 172, 184, 179, 183]\n",
    "new_drug_levels = [170, 172, 165, 168, 175, 173, 170, 178, 172, 176]\n",
    "\n",
    "# Perform the analysis\n",
    "result = drug_effectiveness_analysis(existing_drug_levels, new_drug_levels)\n",
    "result\n"
   ]
  },
  {
   "cell_type": "markdown",
   "id": "29f5da08",
   "metadata": {},
   "source": [
    "# 17\n",
    "A school district introduces an educational intervention program to improve math scores. Write a Python \n",
    "function to analyze pre- and post-intervention test scores, calculating the t-statistic and p-value to \n",
    "determine if the intervention had a significant impact.\n",
    "\n",
    "\n",
    "Use the following data of test score:\n",
    "\n",
    "\n",
    "  ```python\n",
    "\n",
    "  pre_intervention_scores = [80, 85, 90, 75, 88, 82, 92, 78, 85, 87]\n",
    "\n",
    "  post_intervention_scores = [90, 92, 88, 92, 95, 91, 96, 93, 89, 93]"
   ]
  },
  {
   "cell_type": "code",
   "execution_count": 17,
   "id": "e5e8d949",
   "metadata": {},
   "outputs": [
    {
     "data": {
      "text/plain": [
       "{'t_statistic': 4.42840883965761, 'p_value': 0.0008254774082897746}"
      ]
     },
     "execution_count": 17,
     "metadata": {},
     "output_type": "execute_result"
    }
   ],
   "source": [
    "\n",
    "def intervention_effect_analysis(pre_scores, post_scores):\n",
    "    \"\"\"\n",
    "    Analyze the impact of an educational intervention program using paired t-test.\n",
    "\n",
    "    Args:\n",
    "        pre_scores (list): Test scores before the intervention.\n",
    "        post_scores (list): Test scores after the intervention.\n",
    "\n",
    "    Returns:\n",
    "        dict: Contains t-statistic and p-value.\n",
    "    \"\"\"\n",
    "    # Convert input lists to numpy arrays\n",
    "    pre_scores = np.array(pre_scores)\n",
    "    post_scores = np.array(post_scores)\n",
    "\n",
    "    # Perform a paired t-test\n",
    "    t_stat, p_value = ttest_rel(post_scores, pre_scores, alternative='greater')\n",
    "\n",
    "    return {\n",
    "        \"t_statistic\": t_stat,\n",
    "        \"p_value\": p_value\n",
    "    }\n",
    "\n",
    "# Input data\n",
    "pre_intervention_scores = [80, 85, 90, 75, 88, 82, 92, 78, 85, 87]\n",
    "post_intervention_scores = [90, 92, 88, 92, 95, 91, 96, 93, 89, 93]\n",
    "\n",
    "# Perform the analysis\n",
    "result = intervention_effect_analysis(pre_intervention_scores, post_intervention_scores)\n",
    "result\n"
   ]
  },
  {
   "cell_type": "markdown",
   "id": "0c14dfb3",
   "metadata": {},
   "source": [
    "# 18\n",
    "An HR department wants to investigate if there's a gender-based salary gap within the company. Develop \n",
    "a program to analyze salary data, calculate the t-statistic, and determine if there's a statistically \n",
    "significant difference between the average salaries of male and female employees.\n",
    "\n",
    "\n",
    "Use the below code to generate synthetic data:\n",
    "\n",
    "\n",
    "```python\n",
    "\n",
    "#Generate synthetic salary data for male and female employees\n",
    "\n",
    "np.random.seed(0)  # For reproducibility\n",
    "\n",
    "male_salaries = np.random.normal(loc=50000, scale=10000, size=20)\n",
    "\n",
    "female_salaries = np.random.normal(loc=55000, scale=9000, size=20)"
   ]
  },
  {
   "cell_type": "code",
   "execution_count": 18,
   "id": "cac8d20c",
   "metadata": {},
   "outputs": [
    {
     "data": {
      "text/plain": [
       "{'t_statistic': 0.06114208969631383, 'p_value': 0.9515826849267927}"
      ]
     },
     "execution_count": 18,
     "metadata": {},
     "output_type": "execute_result"
    }
   ],
   "source": [
    "\n",
    "def gender_salary_gap_analysis(male_salaries, female_salaries):\n",
    "    \"\"\"\n",
    "    Analyze if there is a gender-based salary gap using a t-test.\n",
    "\n",
    "    Args:\n",
    "        male_salaries (array-like): Salaries of male employees.\n",
    "        female_salaries (array-like): Salaries of female employees.\n",
    "\n",
    "    Returns:\n",
    "        dict: Contains t-statistic and p-value.\n",
    "    \"\"\"\n",
    "    # Perform a two-sample t-test\n",
    "    t_stat, p_value = ttest_ind(male_salaries, female_salaries, equal_var=False)\n",
    "\n",
    "    return {\n",
    "        \"t_statistic\": t_stat,\n",
    "        \"p_value\": p_value\n",
    "    }\n",
    "\n",
    "# Generate synthetic salary data for male and female employees\n",
    "np.random.seed(0)  # For reproducibility\n",
    "male_salaries = np.random.normal(loc=50000, scale=10000, size=20)\n",
    "female_salaries = np.random.normal(loc=55000, scale=9000, size=20)\n",
    "\n",
    "# Perform the analysis\n",
    "result = gender_salary_gap_analysis(male_salaries, female_salaries)\n",
    "result\n"
   ]
  },
  {
   "cell_type": "markdown",
   "id": "14b8e762",
   "metadata": {},
   "source": [
    "# 19\n",
    "\n",
    "A manufacturer produces two different versions of a product and wants to compare their quality scores. \n",
    "Create a Python function to analyze quality assessment data, calculate the t-statistic, and decide \n",
    "whether there's a significant difference in quality between the two versions.\n",
    "\n",
    "\n",
    "Use the following data:\n",
    "\n",
    "\n",
    "```python\n",
    "\n",
    "version1_scores = [85, 88, 82, 89, 87, 84, 90, 88, 85, 86, 91, 83, 87, 84, 89, 86, 84, 88, 85, 86, 89, 90, 87, 88, 85]\n",
    "\n",
    "version2_scores = [80, 78, 83, 81, 79, 82, 76, 80, 78, 81, 77, 82, 80, 79, 82, 79, 80, 81, 79, 82, 79, 78, 80, 81, 82]"
   ]
  },
  {
   "cell_type": "code",
   "execution_count": 19,
   "id": "597fbacd",
   "metadata": {},
   "outputs": [
    {
     "data": {
      "text/plain": [
       "{'t_statistic': 11.325830417646698, 'p_value': 1.078754084378157e-14}"
      ]
     },
     "execution_count": 19,
     "metadata": {},
     "output_type": "execute_result"
    }
   ],
   "source": [
    "\n",
    "def compare_quality_scores(version1_scores, version2_scores):\n",
    "    \"\"\"\n",
    "    Compare the quality scores of two product versions using a two-sample t-test.\n",
    "\n",
    "    Args:\n",
    "        version1_scores (list): Quality scores of version 1.\n",
    "        version2_scores (list): Quality scores of version 2.\n",
    "\n",
    "    Returns:\n",
    "        dict: Contains t-statistic and p-value.\n",
    "    \"\"\"\n",
    "    # Convert input lists to numpy arrays\n",
    "    scores_v1 = np.array(version1_scores)\n",
    "    scores_v2 = np.array(version2_scores)\n",
    "\n",
    "    # Perform a two-sample t-test\n",
    "    t_stat, p_value = ttest_ind(scores_v1, scores_v2, equal_var=False)\n",
    "\n",
    "    return {\n",
    "        \"t_statistic\": t_stat,\n",
    "        \"p_value\": p_value\n",
    "    }\n",
    "\n",
    "# Input data\n",
    "version1_scores = [85, 88, 82, 89, 87, 84, 90, 88, 85, 86, 91, 83, 87, 84, 89, 86, 84, 88, 85, 86, 89, 90, 87, 88, 85]\n",
    "version2_scores = [80, 78, 83, 81, 79, 82, 76, 80, 78, 81, 77, 82, 80, 79, 82, 79, 80, 81, 79, 82, 79, 78, 80, 81, 82]\n",
    "\n",
    "# Perform the analysis\n",
    "result = compare_quality_scores(version1_scores, version2_scores)\n",
    "result\n"
   ]
  },
  {
   "cell_type": "markdown",
   "id": "56c4aa80",
   "metadata": {},
   "source": [
    "# 20\n",
    "A restaurant chain collects customer satisfaction scores for two different branches. Write a program to \n",
    "analyze the scores, calculate the t-statistic, and determine if there's a statistically significant difference in \n",
    "customer satisfaction between the branches.\n",
    "\n",
    "\n",
    "Use the below data of scores:\n",
    "\n",
    "  ```python\n",
    "\n",
    "branch_a_scores = [4, 5, 3, 4, 5, 4, 5, 3, 4, 4, 5, 4, 4, 3, 4, 5, 5, 4, 3, 4, 5, 4, 3, 5, 4, 4, 5, 3, 4, 5, 4]\n",
    "\n",
    "branch_b_scores = [3, 4, 2, 3, 4, 3, 4, 2, 3, 3, 4, 3, 3, 2, 3, 4, 4, 3, 2, 3, 4, 3, 2, 4, 3, 3, 4, 2, 3, 4, 3]"
   ]
  },
  {
   "cell_type": "code",
   "execution_count": 20,
   "id": "df78d08a",
   "metadata": {},
   "outputs": [
    {
     "name": "stdout",
     "output_type": "stream",
     "text": [
      "Mean of Branch A: 4.129032258064516\n",
      "Standard deviation of Branch A: 0.7184212081070998\n",
      "Mean of Branch B: 3.129032258064516\n",
      "Standard deviation of Branch B: 0.7184212081070998\n",
      "T-statistic: 5.480077554195743\n",
      "P-value: 8.895290509945655e-07\n",
      "There is a statistically significant difference between Branch A and Branch B.\n"
     ]
    }
   ],
   "source": [
    "\n",
    "from scipy import stats\n",
    "\n",
    "# Sample data\n",
    "branch_a_scores = [4, 5, 3, 4, 5, 4, 5, 3, 4, 4, 5, 4, 4, 3, 4, 5, 5, 4, 3, 4, 5, 4, 3, 5, 4, 4, 5, 3, 4, 5, 4]\n",
    "branch_b_scores = [3, 4, 2, 3, 4, 3, 4, 2, 3, 3, 4, 3, 3, 2, 3, 4, 4, 3, 2, 3, 4, 3, 2, 4, 3, 3, 4, 2, 3, 4, 3]\n",
    "\n",
    "# Calculate the means and standard deviations for both samples\n",
    "mean_a = np.mean(branch_a_scores)\n",
    "std_a = np.std(branch_a_scores, ddof=1)  # Sample standard deviation\n",
    "mean_b = np.mean(branch_b_scores)\n",
    "std_b = np.std(branch_b_scores, ddof=1)\n",
    "\n",
    "# Perform an independent two-sample t-test assuming equal variances (optional: unequal variances can also be checked)\n",
    "t_stat, p_value = stats.ttest_ind(branch_a_scores, branch_b_scores, equal_var=True)\n",
    "\n",
    "# Print results\n",
    "print(\"Mean of Branch A:\", mean_a)\n",
    "print(\"Standard deviation of Branch A:\", std_a)\n",
    "print(\"Mean of Branch B:\", mean_b)\n",
    "print(\"Standard deviation of Branch B:\", std_b)\n",
    "print(\"T-statistic:\", t_stat)\n",
    "print(\"P-value:\", p_value)\n",
    "\n",
    "# Conclusion based on a significance level of 0.05\n",
    "alpha = 0.05\n",
    "if p_value < alpha:\n",
    "    print(\"There is a statistically significant difference between Branch A and Branch B.\")\n",
    "else:\n",
    "    print(\"There is no statistically significant difference between Branch A and Branch B.\")\n"
   ]
  },
  {
   "cell_type": "markdown",
   "id": "514752c7",
   "metadata": {},
   "source": [
    "# 21\n",
    "A political analyst wants to determine if there is a significant association between age groups and voter \n",
    "preferences (Candidate A or Candidate B). They collect data from a sample of 500 voters and classify \n",
    "them into different age groups and candidate preferences. Perform a Chi-Square test to determine if \n",
    "there is a significant association between age groups and voter preferences.\n",
    "\n",
    "\n",
    "Use the below code to generate data:\n",
    "\n",
    "```python\n",
    "\n",
    "np.random.seed(0)\n",
    "\n",
    "age_groups = np.random.choice([ 18 30 , 31 50 , 51+', 51+'], size=30)\n",
    "\n",
    "voter_preferences = np.random.choice(['Candidate A', 'Candidate B'], size=30)"
   ]
  },
  {
   "cell_type": "code",
   "execution_count": 21,
   "id": "93a15ec1",
   "metadata": {},
   "outputs": [
    {
     "name": "stdout",
     "output_type": "stream",
     "text": [
      "Contingency Table:\n",
      "Voter Preference  Candidate A  Candidate B\n",
      "Age Group                                 \n",
      "18-30                      95           87\n",
      "31-50                      87           82\n",
      "51+                        84           65\n",
      "\n",
      "Chi-Square Statistic: 0.8779923945254768\n",
      "P-value: 0.6446832311860852\n",
      "Degrees of Freedom: 2\n",
      "Expected Counts:\n",
      "[[96.824 85.176]\n",
      " [89.908 79.092]\n",
      " [79.268 69.732]]\n",
      "\n",
      "There is no significant association between age groups and voter preferences.\n"
     ]
    }
   ],
   "source": [
    "import pandas as pd\n",
    "from scipy.stats import chi2_contingency\n",
    "\n",
    "# Generating the data with the specified age groups and voter preferences\n",
    "np.random.seed(0)\n",
    "age_groups = np.random.choice(['18-30', '31-50', '51+'], size=500)\n",
    "voter_preferences = np.random.choice(['Candidate A', 'Candidate B'], size=500)\n",
    "\n",
    "# Create a DataFrame to organize the data\n",
    "data = pd.DataFrame({\n",
    "    'Age Group': age_groups,\n",
    "    'Voter Preference': voter_preferences\n",
    "})\n",
    "\n",
    "# Create a contingency table\n",
    "contingency_table = pd.crosstab(data['Age Group'], data['Voter Preference'])\n",
    "\n",
    "# Perform Chi-Square test\n",
    "chi2_stat, p_value, dof, expected = chi2_contingency(contingency_table)\n",
    "\n",
    "# Print results\n",
    "print(\"Contingency Table:\")\n",
    "print(contingency_table)\n",
    "print(\"\\nChi-Square Statistic:\", chi2_stat)\n",
    "print(\"P-value:\", p_value)\n",
    "print(\"Degrees of Freedom:\", dof)\n",
    "print(\"Expected Counts:\")\n",
    "print(expected)\n",
    "\n",
    "# Conclusion based on a significance level of 0.05\n",
    "alpha = 0.05\n",
    "if p_value < alpha:\n",
    "    print(\"\\nThere is a significant association between age groups and voter preferences.\")\n",
    "else:\n",
    "    print(\"\\nThere is no significant association between age groups and voter preferences.\")\n"
   ]
  },
  {
   "cell_type": "markdown",
   "id": "c5660b13",
   "metadata": {},
   "source": [
    "# 22\n",
    "A company conducted a customer satisfaction survey to determine if there is a significant relationship \n",
    "between product satisfaction levels (Satisfied, Neutral, Dissatisfied) and the region where customers are \n",
    "located (East, West, North, South). The survey data is summarized in a contingency table. Conduct a Chi\u0002Square test to determine if there is a significant relationship between product satisfaction levels and \n",
    "customer regions.\n",
    "\n",
    "\n",
    "Sample data:\n",
    "\n",
    "```python\n",
    "\n",
    "#Sample data: Product satisfaction levels (rows) vs. Customer regions (columns)\n",
    "\n",
    "data = np.array([[50, 30, 40, 20], [30, 40, 30, 50], [20, 30, 40, 30]])"
   ]
  },
  {
   "cell_type": "code",
   "execution_count": 22,
   "id": "e89c8702",
   "metadata": {},
   "outputs": [
    {
     "data": {
      "text/plain": [
       "(27.777056277056275,\n",
       " 0.00010349448486004387,\n",
       " 6,\n",
       " array([[34.14634146, 34.14634146, 37.56097561, 34.14634146],\n",
       "        [36.58536585, 36.58536585, 40.24390244, 36.58536585],\n",
       "        [29.26829268, 29.26829268, 32.19512195, 29.26829268]]))"
      ]
     },
     "execution_count": 22,
     "metadata": {},
     "output_type": "execute_result"
    }
   ],
   "source": [
    "from scipy.stats import chi2_contingency\n",
    "\n",
    "# Sample data: Product satisfaction levels (rows) vs. Customer regions (columns)\n",
    "data = np.array([\n",
    "    [50, 30, 40, 20],  # Satisfied\n",
    "    [30, 40, 30, 50],  # Neutral\n",
    "    [20, 30, 40, 30],  # Dissatisfied\n",
    "])\n",
    "\n",
    "# Conduct the Chi-Square test\n",
    "chi2_stat, p_value, dof, expected = chi2_contingency(data)\n",
    "\n",
    "chi2_stat, p_value, dof, expected\n"
   ]
  },
  {
   "cell_type": "markdown",
   "id": "e8b0fbad",
   "metadata": {},
   "source": [
    "# 23\n",
    "A company implemented an employee training program to improve job performance (Effective, Neutral, \n",
    "Ineffective). After the training, they collected data from a sample of employees and classified them based \n",
    "on their job performance before and after the training. Perform a Chi-Square test to determine if there is a \n",
    "significant difference between job performance levels before and after the training.\n",
    "\n",
    "\n",
    "Sample data:\n",
    "\n",
    "```python\n",
    "\n",
    "Sample data: Job performance levels before (rows) and after (columns) training\n",
    "\n",
    "data = np.array([[50, 30, 20], [30, 40, 30], [20, 30, 40]])"
   ]
  },
  {
   "cell_type": "code",
   "execution_count": 23,
   "id": "b465861f",
   "metadata": {},
   "outputs": [
    {
     "name": "stdout",
     "output_type": "stream",
     "text": [
      "Contingency Table:\n",
      "[[50 30 20]\n",
      " [30 40 30]\n",
      " [20 30 40]]\n",
      "\n",
      "Chi-Square Statistic: 22.161728395061726\n",
      "P-value: 0.00018609719479882557\n",
      "Degrees of Freedom: 4\n",
      "Expected Counts:\n",
      "[[34.48275862 34.48275862 31.03448276]\n",
      " [34.48275862 34.48275862 31.03448276]\n",
      " [31.03448276 31.03448276 27.93103448]]\n",
      "\n",
      "There is a significant difference in job performance levels before and after the training.\n"
     ]
    }
   ],
   "source": [
    "# Sample data: Job performance levels before (rows) and after (columns) training\n",
    "# The data is organized as follows:\n",
    "# [Effective, Neutral, Ineffective] (Before training)\n",
    "# Each row corresponds to job performance before and each column corresponds to job performance after.\n",
    "data = np.array([[50, 30, 20], [30, 40, 30], [20, 30, 40]])\n",
    "\n",
    "# Perform Chi-Square test\n",
    "chi2_stat, p_value, dof, expected = chi2_contingency(data)\n",
    "\n",
    "# Print results\n",
    "print(\"Contingency Table:\")\n",
    "print(data)\n",
    "print(\"\\nChi-Square Statistic:\", chi2_stat)\n",
    "print(\"P-value:\", p_value)\n",
    "print(\"Degrees of Freedom:\", dof)\n",
    "print(\"Expected Counts:\")\n",
    "print(expected)\n",
    "\n",
    "# Conclusion based on a significance level of 0.05\n",
    "alpha = 0.05\n",
    "if p_value < alpha:\n",
    "    print(\"\\nThere is a significant difference in job performance levels before and after the training.\")\n",
    "else:\n",
    "    print(\"\\nThere is no significant difference in job performance levels before and after the training.\")\n"
   ]
  },
  {
   "cell_type": "markdown",
   "id": "64ae363a",
   "metadata": {},
   "source": [
    "# 24\n",
    "A company produces three different versions of a product: Standard, Premium, and Deluxe. The \n",
    "company wants to determine if there is a significant difference in customer satisfaction scores among the \n",
    "three product versions. They conducted a survey and collected customer satisfaction scores for each \n",
    "version from a random sample of customers. Perform an ANOVA test to determine if there is a significant \n",
    "difference in customer satisfaction scores.\n",
    "\n",
    "\n",
    "  Use the following data:\n",
    "\n",
    "  ```python\n",
    "\n",
    "  Sample data: Customer satisfaction scores for each product version\n",
    "\n",
    "  standard_scores = [80, 85, 90, 78, 88, 82, 92, 78, 85, 87]\n",
    "\n",
    "  premium_scores = [90, 92, 88, 92, 95, 91, 96, 93, 89, 93]\n",
    "\n",
    "  deluxe_scores = [95, 98, 92, 97, 96, 94, 98, 97, 92, 99]"
   ]
  },
  {
   "cell_type": "code",
   "execution_count": 24,
   "id": "c91633c5",
   "metadata": {},
   "outputs": [
    {
     "name": "stdout",
     "output_type": "stream",
     "text": [
      "F-statistic: 27.03556231003039\n",
      "P-value: 3.5786328857349003e-07\n",
      "\n",
      "There is a significant difference in customer satisfaction scores among the three product versions.\n"
     ]
    }
   ],
   "source": [
    "from scipy.stats import f_oneway\n",
    "\n",
    "# Sample data: Customer satisfaction scores for each product version\n",
    "standard_scores = [80, 85, 90, 78, 88, 82, 92, 78, 85, 87]\n",
    "premium_scores = [90, 92, 88, 92, 95, 91, 96, 93, 89, 93]\n",
    "deluxe_scores = [95, 98, 92, 97, 96, 94, 98, 97, 92, 99]\n",
    "\n",
    "# Perform ANOVA test\n",
    "f_stat, p_value = f_oneway(standard_scores, premium_scores, deluxe_scores)\n",
    "\n",
    "# Print results\n",
    "print(\"F-statistic:\", f_stat)\n",
    "print(\"P-value:\", p_value)\n",
    "\n",
    "# Conclusion based on a significance level of 0.05\n",
    "alpha = 0.05\n",
    "if p_value < alpha:\n",
    "    print(\"\\nThere is a significant difference in customer satisfaction scores among the three product versions.\")\n",
    "else:\n",
    "    print(\"\\nThere is no significant difference in customer satisfaction scores among the three product versions.\")\n"
   ]
  },
  {
   "cell_type": "code",
   "execution_count": null,
   "id": "7eec2091",
   "metadata": {},
   "outputs": [],
   "source": []
  }
 ],
 "metadata": {
  "kernelspec": {
   "display_name": "Python 3",
   "language": "python",
   "name": "python3"
  },
  "language_info": {
   "codemirror_mode": {
    "name": "ipython",
    "version": 3
   },
   "file_extension": ".py",
   "mimetype": "text/x-python",
   "name": "python",
   "nbconvert_exporter": "python",
   "pygments_lexer": "ipython3",
   "version": "3.8.8"
  }
 },
 "nbformat": 4,
 "nbformat_minor": 5
}
