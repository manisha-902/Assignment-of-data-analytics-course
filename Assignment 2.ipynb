{
 "cells": [
  {
   "cell_type": "markdown",
   "id": "d15f737d",
   "metadata": {},
   "source": [
    "# Explain the importance of Functions\n",
    "1.Code Reusability: Functions enable reusing code, reducing redundancy and effort.\n",
    "2. Modularity: Breaks code into smaller, manageable, and independent sections.\n",
    "3. Ease of Debugging: Errors are localized, making troubleshooting simpler.\n",
    "4. Improved Readability: Simplifies complex code for better understanding.\n",
    "5. Efficiency: Saves development time by avoiding code repetition.\n",
    "6. Scalability: Facilitates easy integration of new features.\n",
    "7. Flexibility: Parameters allow customization without altering function logic.\n",
    "8. Testing: Individual functions can be tested independently for accuracy.\n",
    "9. Encapsulation: Protects variables within functions, maintaining data integrity.\n",
    "10.Collaboration: Encourages teamwork by dividing work into function-based tasks."
   ]
  },
  {
   "cell_type": "code",
   "execution_count": 2,
   "id": "f854be08",
   "metadata": {},
   "outputs": [
    {
     "name": "stdout",
     "output_type": "stream",
     "text": [
      "Hello, Manisha! Welcome to the class.\n"
     ]
    }
   ],
   "source": [
    "# Write a basic function to greet students\n",
    "def greet_student(name):\n",
    "\n",
    "    print(f\"Hello, {name}! Welcome to the class.\")\n",
    "\n",
    "# Example usage\n",
    "greet_student(\"Manisha\")\n"
   ]
  },
  {
   "cell_type": "markdown",
   "id": "ca31956a",
   "metadata": {},
   "source": [
    "# What is the difference between print and return statements\n",
    "The print statement outputs information to the console, primarily for displaying results or debugging purposes, but it does not affect the flow of the program or make the output usable elsewhere. In contrast, the return statement sends a value from a function back to the caller, allowing that value to be stored, manipulated, or passed to other functions. While print is visible and immediate, return is silent and integral to the program's logic, enabling functions to communicate results. For example, use print for user interaction and return for computational results. Both serve different roles in programming workflows.\n",
    "\n",
    "\n",
    "\n",
    "\n",
    "\n",
    "\n"
   ]
  },
  {
   "cell_type": "markdown",
   "id": "7a14ddf1",
   "metadata": {},
   "source": [
    "# What are *args and **kwargs?\n",
    "*args: Allows a function to accept a variable number of positional arguments. It collects extra arguments into a tuple, making the function flexible for inputs.\n",
    "**kwargs: Allows a function to accept a variable number of keyword arguments. It collects extra arguments into a dictionary, enabling dynamic handling of named parameters."
   ]
  },
  {
   "cell_type": "markdown",
   "id": "8bc4ab85",
   "metadata": {},
   "source": [
    "# Explain the iterator function.\n",
    "An iterator function is a special function that produces an iterator, an object used to traverse a sequence (like lists, tuples, or custom collections) one element at a time."
   ]
  },
  {
   "cell_type": "code",
   "execution_count": 1,
   "id": "5a83e469",
   "metadata": {},
   "outputs": [
    {
     "name": "stdout",
     "output_type": "stream",
     "text": [
      "1\n",
      "4\n",
      "9\n",
      "16\n",
      "25\n"
     ]
    }
   ],
   "source": [
    "# Write a code that generates the squares of numbers from 1 to n using a generator.\n",
    "def generate_squares(n):\n",
    "    for i in range(1, n + 1):\n",
    "        yield i ** 2\n",
    "\n",
    "# Example usage\n",
    "n = 5\n",
    "for square in generate_squares(n):\n",
    "    print(square)\n"
   ]
  },
  {
   "cell_type": "code",
   "execution_count": 2,
   "id": "a8f090c5",
   "metadata": {},
   "outputs": [
    {
     "name": "stdout",
     "output_type": "stream",
     "text": [
      "1\n",
      "2\n",
      "3\n",
      "4\n",
      "5\n",
      "6\n",
      "7\n",
      "8\n",
      "9\n",
      "11\n",
      "22\n",
      "33\n",
      "44\n",
      "55\n",
      "66\n",
      "77\n",
      "88\n",
      "99\n"
     ]
    }
   ],
   "source": [
    "# Write a code that generates palindromic numbers up to n using a generator\n",
    "def generate_palindromes(n):\n",
    "    for num in range(1, n + 1):\n",
    "        if str(num) == str(num)[::-1]:  # Check if the number is a palindrome\n",
    "            yield num\n",
    "\n",
    "# Example usage\n",
    "n = 100\n",
    "for palindrome in generate_palindromes(n):\n",
    "    print(palindrome)\n"
   ]
  },
  {
   "cell_type": "code",
   "execution_count": 3,
   "id": "9c62e95d",
   "metadata": {},
   "outputs": [
    {
     "name": "stdout",
     "output_type": "stream",
     "text": [
      "2\n",
      "4\n",
      "6\n",
      "8\n",
      "10\n"
     ]
    }
   ],
   "source": [
    "# Write a code that generates even numbers from 2 to n using a generator\n",
    "def generate_evens(n):\n",
    "    for num in range(2, n + 1, 2):  # Start at 2, step by 2\n",
    "        yield num\n",
    "\n",
    "# Example usage\n",
    "n = 10\n",
    "for even in generate_evens(n):\n",
    "    print(even)\n"
   ]
  },
  {
   "cell_type": "code",
   "execution_count": 4,
   "id": "7cd5d341",
   "metadata": {},
   "outputs": [
    {
     "name": "stdout",
     "output_type": "stream",
     "text": [
      "1\n",
      "2\n",
      "4\n",
      "8\n",
      "16\n",
      "32\n"
     ]
    }
   ],
   "source": [
    "# Write a code that generates powers of two up to n using a generator\n",
    "def generate_powers_of_two(n):\n",
    "    for i in range(n + 1):  # Loop from 0 to n\n",
    "        yield 2 ** i\n",
    "\n",
    "# Example usage\n",
    "n = 5\n",
    "for power in generate_powers_of_two(n):\n",
    "    print(power)\n"
   ]
  },
  {
   "cell_type": "code",
   "execution_count": 5,
   "id": "3108f047",
   "metadata": {},
   "outputs": [
    {
     "name": "stdout",
     "output_type": "stream",
     "text": [
      "2\n",
      "3\n",
      "5\n",
      "7\n",
      "11\n",
      "13\n",
      "17\n",
      "19\n"
     ]
    }
   ],
   "source": [
    "# Write a code that generates prime numbers up to n using a generator\n",
    "def generate_primes(n):\n",
    "    \"\"\"\n",
    "    Generator to yield prime numbers up to n.\n",
    "    \"\"\"\n",
    "    def is_prime(num):\n",
    "        \"\"\"Helper function to check if a number is prime.\"\"\"\n",
    "        if num < 2:\n",
    "            return False\n",
    "        for i in range(2, int(num**0.5) + 1):\n",
    "            if num % i == 0:\n",
    "                return False\n",
    "        return True\n",
    "\n",
    "    for num in range(2, n + 1):\n",
    "        if is_prime(num):\n",
    "            yield num\n",
    "\n",
    "# Example usage\n",
    "n = 20\n",
    "for prime in generate_primes(n):\n",
    "    print(prime)\n"
   ]
  },
  {
   "cell_type": "code",
   "execution_count": 6,
   "id": "17ad8c13",
   "metadata": {},
   "outputs": [
    {
     "name": "stdout",
     "output_type": "stream",
     "text": [
      "The sum of 5 and 7 is 12\n"
     ]
    }
   ],
   "source": [
    "# Write a code that uses a lambda function to calculate the sum of two numbers\n",
    "\n",
    "sum_numbers = lambda a, b: a + b\n",
    "\n",
    "# Example usage\n",
    "num1 = 5\n",
    "num2 = 7\n",
    "result = sum_numbers(num1, num2)\n",
    "print(f\"The sum of {num1} and {num2} is {result}\")\n"
   ]
  },
  {
   "cell_type": "code",
   "execution_count": 7,
   "id": "ecc87678",
   "metadata": {},
   "outputs": [
    {
     "name": "stdout",
     "output_type": "stream",
     "text": [
      "The square of 5 is 25\n"
     ]
    }
   ],
   "source": [
    "# Write a code that uses a lambda function to calculate the square of a given number\n",
    "\n",
    "square = lambda x: x ** 2\n",
    "\n",
    "# Example usage\n",
    "num = 5\n",
    "result = square(num)\n",
    "print(f\"The square of {num} is {result}\")\n"
   ]
  },
  {
   "cell_type": "code",
   "execution_count": 8,
   "id": "ec3759a7",
   "metadata": {},
   "outputs": [
    {
     "name": "stdout",
     "output_type": "stream",
     "text": [
      "8 is an Even number.\n"
     ]
    }
   ],
   "source": [
    "# Write a code that uses a lambda function to check whether a given number is even or odd\n",
    "is_even = lambda x: x % 2 == 0\n",
    "\n",
    "# Example usage\n",
    "num = 8  # Change this value to test with different numbers\n",
    "\n",
    "if is_even(num):\n",
    "    print(f\"{num} is an Even number.\")\n",
    "else:\n",
    "    print(f\"{num} is an Odd number.\")\n"
   ]
  },
  {
   "cell_type": "code",
   "execution_count": 9,
   "id": "15139bfb",
   "metadata": {},
   "outputs": [
    {
     "name": "stdout",
     "output_type": "stream",
     "text": [
      "Concatenated String: Hello, World!\n"
     ]
    }
   ],
   "source": [
    "# Write a code that uses a lambda function to concatenate two strings\n",
    "concat_strings = lambda str1, str2: str1 + str2\n",
    "\n",
    "# Example usage\n",
    "string1 = \"Hello, \"\n",
    "string2 = \"World!\"\n",
    "result = concat_strings(string1, string2)\n",
    "\n",
    "print(f\"Concatenated String: {result}\")\n"
   ]
  },
  {
   "cell_type": "code",
   "execution_count": 10,
   "id": "5fb8a21c",
   "metadata": {},
   "outputs": [
    {
     "name": "stdout",
     "output_type": "stream",
     "text": [
      "The maximum number is: 25\n"
     ]
    }
   ],
   "source": [
    "# Write a code that uses a lambda function to find the maximum of three given numbers\n",
    "max_of_three = lambda a, b, c: max(a, b, c)\n",
    "\n",
    "# Example usage\n",
    "num1 = 10\n",
    "num2 = 25\n",
    "num3 = 15\n",
    "\n",
    "result = max_of_three(num1, num2, num3)\n",
    "\n",
    "print(f\"The maximum number is: {result}\")\n"
   ]
  },
  {
   "cell_type": "code",
   "execution_count": 1,
   "id": "74083918",
   "metadata": {},
   "outputs": [
    {
     "name": "stdout",
     "output_type": "stream",
     "text": [
      "Squares of even numbers: [4, 16, 36, 64, 100]\n"
     ]
    }
   ],
   "source": [
    "# Write a code that generates the squares of even numbers from a given list.\n",
    "# Input list\n",
    "numbers = [1, 2, 3, 4, 5, 6, 7, 8, 9, 10]\n",
    "\n",
    "# Using list comprehension to generate squares of even numbers\n",
    "squares_of_evens = [x**2 for x in numbers if x % 2 == 0]\n",
    "\n",
    "# Output the result\n",
    "print(f\"Squares of even numbers: {squares_of_evens}\")\n"
   ]
  },
  {
   "cell_type": "code",
   "execution_count": 2,
   "id": "d3b1c934",
   "metadata": {},
   "outputs": [
    {
     "name": "stdout",
     "output_type": "stream",
     "text": [
      "Product of positive numbers: 40\n"
     ]
    }
   ],
   "source": [
    "# Write a code that calculates the product of positive numbers from a given list\n",
    "from functools import reduce\n",
    "\n",
    "# Input list\n",
    "numbers = [-1, 2, -3, 4, 5, 0, -6]\n",
    "\n",
    "# Filter positive numbers and calculate their product\n",
    "product_of_positives = reduce(lambda x, y: x * y, filter(lambda x: x > 0, numbers), 1)\n",
    "\n",
    "# Output the result\n",
    "print(f\"Product of positive numbers: {product_of_positives}\")\n"
   ]
  },
  {
   "cell_type": "code",
   "execution_count": 3,
   "id": "238a081c",
   "metadata": {},
   "outputs": [
    {
     "name": "stdout",
     "output_type": "stream",
     "text": [
      "Doubled values of odd numbers: [2, 6, 10, 14, 18]\n"
     ]
    }
   ],
   "source": [
    "# Write a code that doubles the values of odd numbers from a given list\n",
    "# Input list\n",
    "numbers = [1, 2, 3, 4, 5, 6, 7, 8, 9]\n",
    "\n",
    "# Using list comprehension to double the values of odd numbers\n",
    "doubled_odds = [x * 2 for x in numbers if x % 2 != 0]\n",
    "\n",
    "# Output the result\n",
    "print(f\"Doubled values of odd numbers: {doubled_odds}\")\n"
   ]
  },
  {
   "cell_type": "code",
   "execution_count": 4,
   "id": "767e9636",
   "metadata": {},
   "outputs": [
    {
     "name": "stdout",
     "output_type": "stream",
     "text": [
      "Sum of cubes: 225\n"
     ]
    }
   ],
   "source": [
    "# Write a code that calculates the sum of cubes of numbers from a given list\n",
    "# Input list\n",
    "numbers = [1, 2, 3, 4, 5]\n",
    "\n",
    "# Calculate the sum of cubes using list comprehension\n",
    "sum_of_cubes = sum(x**3 for x in numbers)\n",
    "\n",
    "# Output the result\n",
    "print(f\"Sum of cubes: {sum_of_cubes}\")\n"
   ]
  },
  {
   "cell_type": "code",
   "execution_count": 5,
   "id": "bce97048",
   "metadata": {},
   "outputs": [
    {
     "name": "stdout",
     "output_type": "stream",
     "text": [
      "Non-prime numbers: [1, 4, 6, 8, 9, 10]\n"
     ]
    }
   ],
   "source": [
    "# Write a code that filters out prime numbers from a given list\n",
    "# Function to check if a number is prime\n",
    "def is_prime(num):\n",
    "    if num < 2:\n",
    "        return False\n",
    "    for i in range(2, int(num**0.5) + 1):\n",
    "        if num % i == 0:\n",
    "            return False\n",
    "    return True\n",
    "\n",
    "# Input list\n",
    "numbers = [1, 2, 3, 4, 5, 6, 7, 8, 9, 10]\n",
    "\n",
    "# Filter out prime numbers\n",
    "non_primes = [x for x in numbers if not is_prime(x)]\n",
    "\n",
    "# Output the result\n",
    "print(f\"Non-prime numbers: {non_primes}\")\n"
   ]
  },
  {
   "cell_type": "code",
   "execution_count": 11,
   "id": "cd56aa51",
   "metadata": {},
   "outputs": [
    {
     "name": "stdout",
     "output_type": "stream",
     "text": [
      "Sum: 8\n"
     ]
    }
   ],
   "source": [
    "# Write a code that uses a lambda function to calculate the sum of two numbers0\n",
    "\n",
    "sum_two = lambda a, b: a + b\n",
    "\n",
    "# Example usage\n",
    "print(f\"Sum: {sum_two(3, 5)}\")  # Output: Sum: 8\n"
   ]
  },
  {
   "cell_type": "code",
   "execution_count": 7,
   "id": "05d780fa",
   "metadata": {},
   "outputs": [],
   "source": [
    "# Write a code that uses a lambda function to calculate the square of a given number\n",
    "square = lambda x: x ** 2\n",
    "\n",
    "# Example usage\n",
    "print(f\"Square: {square(4)}\")  # Output: Square: 16\n"
   ]
  },
  {
   "cell_type": "code",
   "execution_count": 12,
   "id": "49df3074",
   "metadata": {},
   "outputs": [
    {
     "name": "stdout",
     "output_type": "stream",
     "text": [
      "7 is Odd\n"
     ]
    }
   ],
   "source": [
    "# Write a code that uses a lambda function to check whether a given number is even or odd\n",
    "is_even = lambda x: x % 2 == 0\n",
    "\n",
    "# Example usage\n",
    "number = 7\n",
    "print(f\"{number} is {'Even' if is_even(number) else 'Odd'}\")  # Output: 7 is Odd\n"
   ]
  },
  {
   "cell_type": "code",
   "execution_count": 13,
   "id": "202be086",
   "metadata": {},
   "outputs": [
    {
     "name": "stdout",
     "output_type": "stream",
     "text": [
      "Hello, World!\n"
     ]
    }
   ],
   "source": [
    "# Write a code that uses a lambda function to concatenate two strings\n",
    "concat = lambda str1, str2: str1 + str2\n",
    "\n",
    "# Example usage\n",
    "print(concat(\"Hello, \", \"World!\"))  # Output: Hello, World!\n"
   ]
  },
  {
   "cell_type": "code",
   "execution_count": 14,
   "id": "92940586",
   "metadata": {},
   "outputs": [
    {
     "name": "stdout",
     "output_type": "stream",
     "text": [
      "Maximum: 25\n"
     ]
    }
   ],
   "source": [
    "# Write a code that uses a lambda function to find the maximum of three given numbers\n",
    "max_of_three = lambda a, b, c: max(a, b, c)\n",
    "\n",
    "# Example usage\n",
    "print(f\"Maximum: {max_of_three(10, 25, 15)}\")  # Output: Maximum: 25\n"
   ]
  },
  {
   "cell_type": "markdown",
   "id": "991a54d6",
   "metadata": {},
   "source": [
    "# What is encapsulation in OOP?\n",
    "Encapsulation in Object-Oriented Programming (OOP) is the practice of bundling data (attributes) and methods (functions) into a single unit, typically a class, and restricting direct access to some components. It ensures controlled access through public methods, promoting data security, modularity, and abstraction. Private or protected access modifiers enforce encapsulation."
   ]
  },
  {
   "cell_type": "markdown",
   "id": "f5a9c180",
   "metadata": {},
   "source": [
    "# Explain the use of access modifiers in Python classes\n",
    "Access modifiers control access to class members (attributes and methods).\n",
    "\n",
    "Public (default): Accessible from anywhere in the program.\n",
    "Protected (_attribute): Accessible within the class and its subclasses. Indicated by a single underscore.\n",
    "Private (__attribute): Accessible only within the class. Indicated by a double underscore.\n",
    "They enforce encapsulation, safeguarding data integrity and supporting abstraction in Python.\n",
    "# What is inheritance in OOP%\n",
    "Inheritance allows a class (child) to acquire properties and behaviors of another class (parent). It promotes code reuse, logical hierarchy, and maintainability.\n",
    "\n",
    "Types: Single, multiple, multilevel, hierarchical, hybrid.\n",
    "Example: class Child(Parent): inherits attributes and methods from Parent.\n",
    "# Define polymorphism in OOP\n",
    "Polymorphism allows objects of different classes to be treated as objects of a common superclass. It enables methods or operations to perform differently based on the object's type.\n",
    "Example: The same method area() can compute the area of a circle, rectangle, or triangle depending on the object invoking it.\n",
    "# Explain method overriding in Python \n",
    "Method overriding occurs when a child class defines a method with the same name as one in its parent class but provides a new implementation. It enables customized behavior in subclasses while retaining the same method signature."
   ]
  },
  {
   "cell_type": "code",
   "execution_count": 16,
   "id": "b0398431",
   "metadata": {},
   "outputs": [],
   "source": [
    "class Parent:\n",
    "    def greet(self):\n",
    "        print(\"Hello from Parent!\")\n",
    "\n",
    "class Child(Parent):\n",
    "    def greet(self):\n",
    "        print(\"Hello from Child!\")\n"
   ]
  },
  {
   "cell_type": "code",
   "execution_count": 17,
   "id": "ebae61c9",
   "metadata": {},
   "outputs": [
    {
     "name": "stdout",
     "output_type": "stream",
     "text": [
      "Generic animal sound\n",
      "Woof!\n"
     ]
    }
   ],
   "source": [
    "# Define a parent class Animal with a method make_sound that prints \"Generic animal sound\". Create a child class Dog inheriting from Animal with a method make_sound that prints \"Woof!\"\n",
    "# Parent class\n",
    "class Animal:\n",
    "    def make_sound(self):\n",
    "        print(\"Generic animal sound\")\n",
    "\n",
    "# Child class\n",
    "class Dog(Animal):\n",
    "    def make_sound(self):\n",
    "        print(\"Woof!\")\n",
    "\n",
    "# Create instances and demonstrate method overriding\n",
    "animal = Animal()\n",
    "dog = Dog()\n",
    "\n",
    "animal.make_sound()  \n",
    "dog.make_sound()     \n"
   ]
  },
  {
   "cell_type": "code",
   "execution_count": 18,
   "id": "195268bd",
   "metadata": {},
   "outputs": [
    {
     "name": "stdout",
     "output_type": "stream",
     "text": [
      "Animal moves\n",
      "Dog runs\n"
     ]
    }
   ],
   "source": [
    "# Define a method move in the Animal class that prints \"Animal moves\". Override the move method in the Dog class to print \"Dog runs.\"\n",
    "# Parent class\n",
    "class Animal:\n",
    "    def move(self):\n",
    "        print(\"Animal moves\")\n",
    "\n",
    "# Child class\n",
    "class Dog(Animal):\n",
    "    def move(self):\n",
    "        print(\"Dog runs\")\n",
    "\n",
    "# Create instances and demonstrate method overriding\n",
    "animal = Animal()\n",
    "dog = Dog()\n",
    "\n",
    "animal.move()  \n",
    "dog.move()    \n"
   ]
  },
  {
   "cell_type": "code",
   "execution_count": 19,
   "id": "2803f17f",
   "metadata": {},
   "outputs": [
    {
     "name": "stdout",
     "output_type": "stream",
     "text": [
      "Woof!\n",
      "Dog runs\n",
      "Giving birth to live young\n"
     ]
    }
   ],
   "source": [
    "# Create a class Mammal with a method reproduce that prints \"Giving birth to live young.\" Create a class  DogMammal inheriting from both Dog and Mammal.\n",
    "# Parent class Animal\n",
    "class Animal:\n",
    "    def move(self):\n",
    "        print(\"Animal moves\")\n",
    "\n",
    "    def make_sound(self):\n",
    "        print(\"Generic animal sound\")\n",
    "\n",
    "# Child class Dog\n",
    "class Dog(Animal):\n",
    "    def move(self):\n",
    "        print(\"Dog runs\")\n",
    "    \n",
    "    def make_sound(self):\n",
    "        print(\"Woof!\")\n",
    "\n",
    "# Class Mammal with reproduce method\n",
    "class Mammal:\n",
    "    def reproduce(self):\n",
    "        print(\"Giving birth to live young\")\n",
    "\n",
    "# DogMammal class inheriting from both Dog and Mammal\n",
    "class DogMammal(Dog, Mammal):\n",
    "    pass\n",
    "\n",
    "# Create instances and demonstrate multiple inheritance\n",
    "dog_mammal = DogMammal()\n",
    "\n",
    "# Calling methods from both Dog and Mammal\n",
    "dog_mammal.make_sound()  \n",
    "dog_mammal.move()        \n",
    "dog_mammal.reproduce()   \n"
   ]
  },
  {
   "cell_type": "code",
   "execution_count": 1,
   "id": "26ff8918",
   "metadata": {},
   "outputs": [
    {
     "name": "stdout",
     "output_type": "stream",
     "text": [
      "Some generic dog sound\n",
      "Bark!\n"
     ]
    }
   ],
   "source": [
    "# Create a class GermanShepherd inheriting from Dog and override the make_sound method to print \"Bark!\n",
    "class Dog:\n",
    "    def make_sound(self):\n",
    "        print(\"Some generic dog sound\")\n",
    "\n",
    "class GermanShepherd(Dog):\n",
    "    def make_sound(self):\n",
    "        print(\"Bark!\")\n",
    "\n",
    "# Example usage\n",
    "dog = Dog()\n",
    "dog.make_sound()  \n",
    "\n",
    "german_shepherd = GermanShepherd()\n",
    "german_shepherd.make_sound()  \n"
   ]
  },
  {
   "cell_type": "code",
   "execution_count": 3,
   "id": "c72ba2d6",
   "metadata": {},
   "outputs": [
    {
     "name": "stdout",
     "output_type": "stream",
     "text": [
      "Species: GenericAnimal\n",
      "Species: Canine, Breed: Labrador\n",
      "Woof!\n"
     ]
    }
   ],
   "source": [
    "# Define constructors in both the Animal and Dog classes with different initialization parameters.\n",
    "# Parent class Animal\n",
    "class Animal:\n",
    "    def __init__(self, species):\n",
    "        self.species = species\n",
    "\n",
    "    def make_sound(self):\n",
    "        print(\"Generic animal sound\")\n",
    "\n",
    "    def display_species(self):\n",
    "        print(f\"Species: {self.species}\")\n",
    "\n",
    "# Child class Dog\n",
    "class Dog(Animal):\n",
    "    def __init__(self, species, breed):\n",
    "        # Call the parent class constructor\n",
    "        super().__init__(species)\n",
    "        self.breed = breed\n",
    "\n",
    "    def make_sound(self):\n",
    "        print(\"Woof!\")\n",
    "\n",
    "    def display_details(self):\n",
    "        print(f\"Species: {self.species}, Breed: {self.breed}\")\n",
    "\n",
    "# Create instances\n",
    "animal = Animal(\"GenericAnimal\")\n",
    "animal.display_species()  \n",
    "\n",
    "dog = Dog(\"Canine\", \"Labrador\")\n",
    "dog.display_details()    \n",
    "dog.make_sound()        \n"
   ]
  },
  {
   "cell_type": "markdown",
   "id": "960fcb0e",
   "metadata": {},
   "source": [
    "# What is abstraction in Python? How is it implemented.\n",
    "Abstraction is an Object-Oriented Programming concept that hides the implementation details of a class and exposes only essential features to the user.\n",
    "\n",
    "Implementation:\n",
    "In Python, abstraction is implemented using abstract classes and abstract methods provided by the abc (Abstract Base Classes) module.\n",
    "An abstract class serves as a blueprint and cannot be instantiated directly.\n",
    "An abstract method is declared but not implemented in the abstract class. Subclasses must implement these methods."
   ]
  },
  {
   "cell_type": "markdown",
   "id": "3720ffee",
   "metadata": {},
   "source": [
    "# Explain the importance of abstraction in object-oriented programming.\n",
    "Importance of Abstraction in Object-Oriented Programming (OOP):\n",
    "\n",
    "Hides Implementation Details:\n",
    "\n",
    "Abstraction focuses on what an object does rather than how it does it, simplifying complex systems for the user.\n",
    "\n",
    "Increases Security:\n",
    "\n",
    "By exposing only essential features, it prevents unauthorized access to sensitive details and methods.\n",
    "\n",
    "Improves Code Reusability:\n",
    "\n",
    "Abstract classes act as blueprints, promoting the creation of reusable and extensible code structures.\n",
    "\n",
    "Facilitates Change Management:\n",
    "\n",
    "Changes in internal implementation don't affect the code interacting with abstract methods.\n",
    "\n",
    "Encourages Loose Coupling:\n",
    "\n",
    "Classes depend only on the abstract definition, making the system less dependent on specific implementations.\n",
    "\n",
    "Enhances Readability and Maintainability:\n",
    "\n",
    "Abstract interfaces make code easier to understand and maintain by separating the interface from the implementation."
   ]
  },
  {
   "cell_type": "markdown",
   "id": "f64b44d1",
   "metadata": {},
   "source": [
    "# How are abstract methods different from regular methods in Python.\n",
    "Abstract methods and regular methods in Python differ primarily in purpose and implementation. Abstract methods are declared but have no implementation in the base (abstract) class, and their main goal is to enforce that subclasses provide a specific implementation. They are defined using the @abstractmethod decorator within an abstract class (from the abc module). Abstract methods ensure uniform behavior across all subclasses but cannot be called directly unless implemented in a derived class. In contrast, regular methods are fully implemented and can be directly invoked. They provide complete functionality within the class itself and do not require overriding by subclasses, though they can still be overridden if needed. Abstract methods help achieve abstraction and standardization, while regular methods support both common functionality and customization."
   ]
  },
  {
   "cell_type": "markdown",
   "id": "e2291e14",
   "metadata": {},
   "source": [
    "# How can you achieve abstraction using interfaces in Python?\n",
    "In Python, abstraction can be achieved using interfaces, which are implemented via abstract classes in the abc module. An abstract class with only abstract methods acts as an interface. Subclasses must implement all the abstract methods."
   ]
  },
  {
   "cell_type": "code",
   "execution_count": 6,
   "id": "035d9e21",
   "metadata": {},
   "outputs": [
    {
     "name": "stdout",
     "output_type": "stream",
     "text": [
      "15\n",
      "16\n"
     ]
    }
   ],
   "source": [
    "from abc import ABC, abstractmethod\n",
    "\n",
    "# Define an interface\n",
    "class Shape(ABC):\n",
    "    @abstractmethod\n",
    "    def area(self):\n",
    "        pass\n",
    "\n",
    "    @abstractmethod\n",
    "    def perimeter(self):\n",
    "        pass\n",
    "\n",
    "# Implement the interface\n",
    "class Rectangle(Shape):\n",
    "    def __init__(self, length, width):\n",
    "        self.length = length\n",
    "        self.width = width\n",
    "\n",
    "    def area(self):\n",
    "        return self.length * self.width\n",
    "\n",
    "    def perimeter(self):\n",
    "        return 2 * (self.length + self.width)\n",
    "\n",
    "# Usage\n",
    "rect = Rectangle(5, 3)\n",
    "print(rect.area())       # Output: 15\n",
    "print(rect.perimeter())  # Output: 16\n"
   ]
  },
  {
   "cell_type": "code",
   "execution_count": 7,
   "id": "7dda78a6",
   "metadata": {},
   "outputs": [
    {
     "name": "stdout",
     "output_type": "stream",
     "text": [
      "Processing credit card payment of $100\n",
      "Processing PayPal payment of $100\n",
      "Processing bank transfer payment of $100\n"
     ]
    }
   ],
   "source": [
    "# Can you provide an example of how abstraction can be utilized to create a common interface for a group of related classes in Python?\n",
    "from abc import ABC, abstractmethod\n",
    "\n",
    "# Abstract class acting as a common interface\n",
    "class PaymentProcessor(ABC):\n",
    "    @abstractmethod\n",
    "    def process_payment(self, amount):\n",
    "        pass\n",
    "\n",
    "# Subclass for CreditCard payment\n",
    "class CreditCardPayment(PaymentProcessor):\n",
    "    def process_payment(self, amount):\n",
    "        print(f\"Processing credit card payment of ${amount}\")\n",
    "\n",
    "# Subclass for PayPal payment\n",
    "class PayPalPayment(PaymentProcessor):\n",
    "    def process_payment(self, amount):\n",
    "        print(f\"Processing PayPal payment of ${amount}\")\n",
    "\n",
    "# Subclass for Bank Transfer payment\n",
    "class BankTransferPayment(PaymentProcessor):\n",
    "    def process_payment(self, amount):\n",
    "        print(f\"Processing bank transfer payment of ${amount}\")\n",
    "\n",
    "# Function utilizing abstraction\n",
    "def make_payment(payment_processor, amount):\n",
    "    payment_processor.process_payment(amount)\n",
    "\n",
    "# Usage\n",
    "payment_methods = [\n",
    "    CreditCardPayment(),\n",
    "    PayPalPayment(),\n",
    "    BankTransferPayment()\n",
    "]\n",
    "\n",
    "for method in payment_methods:\n",
    "    make_payment(method, 100)\n"
   ]
  },
  {
   "cell_type": "markdown",
   "id": "a5298043",
   "metadata": {},
   "source": [
    "# How does Python achieve polymorphism through method overriding?\n",
    "Python achieves polymorphism through method overriding, which allows a subclass to provide a specific implementation of a method defined in its parent class. This ensures the behavior of a method is determined by the object's class, enabling dynamic method resolution.\n",
    "\n",
    "Key Points:\n",
    "\n",
    "The parent class defines a general method.\n",
    "\n",
    "The subclass overrides the method to provide class-specific behavior.\n",
    "\n",
    "When the method is called on an object, the subclass's overridden version is invoked, not the parent class's."
   ]
  },
  {
   "cell_type": "code",
   "execution_count": 8,
   "id": "59ff47a1",
   "metadata": {},
   "outputs": [
    {
     "name": "stdout",
     "output_type": "stream",
     "text": [
      "Generic animal sound\n",
      "Woof!\n"
     ]
    }
   ],
   "source": [
    "# Define a base class with a method and a subclass that overrides the method\n",
    "class Animal:\n",
    "    def make_sound(self):\n",
    "        print(\"Generic animal sound\")  # Base class method\n",
    "\n",
    "class Dog(Animal):\n",
    "    def make_sound(self):\n",
    "        print(\"Woof!\")  # Subclass overrides the method\n",
    "\n",
    "# Usage\n",
    "animal = Animal()\n",
    "dog = Dog()\n",
    "\n",
    "animal.make_sound()  # Output: Generic animal sound\n",
    "dog.make_sound()     # Output: Woof!\n"
   ]
  },
  {
   "cell_type": "code",
   "execution_count": 9,
   "id": "b3a8db87",
   "metadata": {},
   "outputs": [
    {
     "name": "stdout",
     "output_type": "stream",
     "text": [
      "Woof!\n",
      "Meow!\n",
      "Moo!\n"
     ]
    }
   ],
   "source": [
    "# Define a base class and multiple subclasses with overridden methods\n",
    "class Animal:\n",
    "    def make_sound(self):\n",
    "        print(\"Generic animal sound\")  # Base class method\n",
    "\n",
    "class Dog(Animal):\n",
    "    def make_sound(self):\n",
    "        print(\"Woof!\")  # Overridden method in Dog class\n",
    "\n",
    "class Cat(Animal):\n",
    "    def make_sound(self):\n",
    "        print(\"Meow!\")  # Overridden method in Cat class\n",
    "\n",
    "class Cow(Animal):\n",
    "    def make_sound(self):\n",
    "        print(\"Moo!\")  # Overridden method in Cow class\n",
    "\n",
    "# Usage\n",
    "animals = [Dog(), Cat(), Cow()]\n",
    "for animal in animals:\n",
    "    animal.make_sound()\n"
   ]
  },
  {
   "cell_type": "markdown",
   "id": "23339a66",
   "metadata": {},
   "source": [
    "# How does polymorphism improve code readability and reusability?\n",
    "Unified Interface: Polymorphism allows objects of different classes to be treated uniformly through a common interface. For example, a method like make_sound() can be called on any Animal subclass without knowing its specific type.\n",
    "\n",
    "Code Simplification: Polymorphism eliminates the need for complex if-else or switch statements to differentiate between object types, making code easier to read and maintain.\n",
    "\n",
    "Flexibility: Polymorphism enables extending functionality by simply adding new subclasses without modifying existing code. New behaviors are implemented by overriding methods in these subclasses.\n",
    "\n",
    "Reusability: Generic code can work with multiple types of objects. For example, the same function can operate on different subclasses of a parent class, reducing duplication."
   ]
  },
  {
   "cell_type": "code",
   "execution_count": 10,
   "id": "165ca511",
   "metadata": {},
   "outputs": [
    {
     "name": "stdout",
     "output_type": "stream",
     "text": [
      "Woof!\n",
      "Meow!\n"
     ]
    }
   ],
   "source": [
    "class Animal:\n",
    "    def make_sound(self):\n",
    "        pass\n",
    "\n",
    "class Dog(Animal):\n",
    "    def make_sound(self):\n",
    "        print(\"Woof!\")\n",
    "\n",
    "class Cat(Animal):\n",
    "    def make_sound(self):\n",
    "        print(\"Meow!\")\n",
    "\n",
    "def describe_animal(animal):\n",
    "    animal.make_sound()  # Works for any subclass of Animal\n",
    "\n",
    "# Usage\n",
    "animals = [Dog(), Cat()]\n",
    "for animal in animals:\n",
    "    describe_animal(animal)\n"
   ]
  },
  {
   "cell_type": "markdown",
   "id": "5d1ede64",
   "metadata": {},
   "source": [
    "# Describe how Python supports polymorphism with duck typing\n",
    "Python supports polymorphism using the concept of duck typing, which is based on an object's behavior rather than its inheritance or type. In duck typing, Python does not check the type of an object; instead, it checks whether the object implements the required method or operation.\n",
    "\n",
    "The principle is: \"If it looks like a duck, swims like a duck, and quacks like a duck, it must be a duck.\""
   ]
  },
  {
   "cell_type": "code",
   "execution_count": 11,
   "id": "7f7c51ba",
   "metadata": {},
   "outputs": [
    {
     "name": "stdout",
     "output_type": "stream",
     "text": [
      "Woof!\n",
      "Meow!\n",
      "Quack!\n"
     ]
    }
   ],
   "source": [
    "class Dog:\n",
    "    def make_sound(self):\n",
    "        print(\"Woof!\")\n",
    "\n",
    "class Cat:\n",
    "    def make_sound(self):\n",
    "        print(\"Meow!\")\n",
    "\n",
    "class Duck:\n",
    "    def make_sound(self):\n",
    "        print(\"Quack!\")\n",
    "\n",
    "# Function demonstrating duck typing\n",
    "def animal_sound(animal):\n",
    "    animal.make_sound()  # Calls method based on object behavior\n",
    "\n",
    "# Usage\n",
    "for animal in [Dog(), Cat(), Duck()]:\n",
    "    animal_sound(animal)\n"
   ]
  },
  {
   "cell_type": "markdown",
   "id": "f494f00b",
   "metadata": {},
   "source": [
    "# How do you achieve encapsulation in Python?\n",
    "Encapsulation in Python is achieved by restricting access to certain attributes and methods of a class using access modifiers. This ensures that the internal representation of an object is hidden from outside interference and misuse, allowing controlled access through getter and setter methods."
   ]
  },
  {
   "cell_type": "markdown",
   "id": "3413c0ee",
   "metadata": {},
   "source": [
    "# Can encapsulation be bypassed in Python? If so, how?\n",
    "Yes, encapsulation in Python can be bypassed because Python does not have true private access modifiers like other languages (e.g., Java or C++). Python relies on conventions such as using a single underscore (_) for \"protected\" attributes and a double underscore (__) for \"private\" attributes. However, these are just naming conventions and not enforced access restrictions."
   ]
  },
  {
   "cell_type": "code",
   "execution_count": 12,
   "id": "edb85ea5",
   "metadata": {},
   "outputs": [
    {
     "name": "stdout",
     "output_type": "stream",
     "text": [
      "Initial Balance: 1000\n",
      "Deposited: 500\n",
      "Balance after deposit: 1500\n",
      "Withdrawn: 200\n",
      "Balance after withdrawal: 1300\n",
      "Insufficient balance or invalid withdrawal amount.\n",
      "Balance after attempted overdraw: 1300\n"
     ]
    }
   ],
   "source": [
    "# Implement a class BankAccount with a private balance attribute. Include methods to deposit, withdraw, and check the balance\n",
    "class BankAccount:\n",
    "    def __init__(self, initial_balance):\n",
    "        # Private attribute: balance\n",
    "        self.__balance = initial_balance\n",
    "\n",
    "    def deposit(self, amount):\n",
    "        \"\"\"Deposits the specified amount into the bank account.\"\"\"\n",
    "        if amount > 0:\n",
    "            self.__balance += amount\n",
    "            print(f\"Deposited: {amount}\")\n",
    "        else:\n",
    "            print(\"Deposit amount must be positive.\")\n",
    "\n",
    "    def withdraw(self, amount):\n",
    "        \"\"\"Withdraws the specified amount from the bank account if sufficient balance exists.\"\"\"\n",
    "        if amount > 0 and self.__balance >= amount:\n",
    "            self.__balance -= amount\n",
    "            print(f\"Withdrawn: {amount}\")\n",
    "        else:\n",
    "            print(\"Insufficient balance or invalid withdrawal amount.\")\n",
    "\n",
    "    def get_balance(self):\n",
    "        \"\"\"Returns the current balance of the bank account.\"\"\"\n",
    "        return self.__balance\n",
    "\n",
    "\n",
    "# Usage\n",
    "account = BankAccount(1000)  # Initial balance of 1000\n",
    "print(\"Initial Balance:\", account.get_balance())\n",
    "\n",
    "account.deposit(500)  # Deposit 500\n",
    "print(\"Balance after deposit:\", account.get_balance())\n",
    "\n",
    "account.withdraw(200)  # Withdraw 200\n",
    "print(\"Balance after withdrawal:\", account.get_balance())\n",
    "\n",
    "account.withdraw(1500)  # Attempt withdrawal that exceeds balance\n",
    "print(\"Balance after attempted overdraw:\", account.get_balance())\n"
   ]
  },
  {
   "cell_type": "code",
   "execution_count": 13,
   "id": "7ddde269",
   "metadata": {},
   "outputs": [
    {
     "name": "stdout",
     "output_type": "stream",
     "text": [
      "Initial Email: john.doe@example.com\n",
      "Email updated successfully.\n",
      "Updated Email: john.newemail@example.com\n",
      "Invalid email address.\n",
      "Attempted Invalid Email: john.newemail@example.com\n"
     ]
    }
   ],
   "source": [
    "# Develop a Person class with private attributes name and email, and methods to set and get the email\n",
    "class Person:\n",
    "    def __init__(self, name, email):\n",
    "        self.__name = name  # Private attribute\n",
    "        self.__email = email  # Private attribute\n",
    "\n",
    "    def set_email(self, new_email):\n",
    "        \"\"\"Sets a new email for the person.\"\"\"\n",
    "        if \"@\" in new_email and \".\" in new_email:\n",
    "            self.__email = new_email\n",
    "            print(\"Email updated successfully.\")\n",
    "        else:\n",
    "            print(\"Invalid email address.\")\n",
    "\n",
    "    def get_email(self):\n",
    "        \"\"\"Gets the current email of the person.\"\"\"\n",
    "        return self.__email\n",
    "\n",
    "\n",
    "# Usage\n",
    "person = Person(\"John Doe\", \"john.doe@example.com\")\n",
    "print(\"Initial Email:\", person.get_email())\n",
    "\n",
    "# Set a new email\n",
    "person.set_email(\"john.newemail@example.com\")\n",
    "print(\"Updated Email:\", person.get_email())\n",
    "\n",
    "# Try setting an invalid email\n",
    "person.set_email(\"invalidemail.com\")\n",
    "print(\"Attempted Invalid Email:\", person.get_email())\n"
   ]
  },
  {
   "cell_type": "markdown",
   "id": "08385e70",
   "metadata": {},
   "source": [
    "# Why is encapsulation considered a pillar of object-oriented programming (OOP)?\n",
    "Encapsulation is considered a pillar of object-oriented programming (OOP) because it helps in:\n",
    "\n",
    "1. Data Hiding:\n",
    "Encapsulation hides the internal state of an object from the outside world, exposing only necessary details through public methods. This prevents external code from directly altering an object's state, reducing the chances of unwanted side effects.\n",
    "\n",
    "2. Modular Design:\n",
    "By grouping related data and behavior within a class, encapsulation fosters modularity. Classes represent independent entities that can be treated as black boxes. This makes development and debugging easier as you only need to interact with the defined interface.\n",
    "\n",
    "3. Maintainability and Flexibility:\n",
    "When the internal implementation of a class changes (e.g., how data is stored), you can still interact with the object in the same way, as the public methods remain the same. This reduces the risk of breaking code in other parts of the system, improving long-term maintainability.\n",
    "\n",
    "4. Control Over Data:\n",
    "Encapsulation allows control over the values of attributes. Through setters and getters, you can validate data before it’s changed, ensuring that an object always remains in a valid state.\n",
    "\n",
    "5. Code Reusability:\n",
    "Encapsulation enables creating objects with well-defined behaviors and interactions. Once a class is properly encapsulated, it can be reused across multiple parts of the system without worrying about its internal workings.\n",
    "\n",
    "Example:\n",
    "In a bank application, an Account class might encapsulate its balance. The balance can only be modified via controlled methods like deposit() and withdraw(), rather than allowing arbitrary modification. This ensures that the balance is always positive and adheres to business rules.\n",
    "\n",
    "Thus, encapsulation supports data security, maintainability, and system integrity, making it an essential principle in OOP."
   ]
  },
  {
   "cell_type": "code",
   "execution_count": 14,
   "id": "1672fee3",
   "metadata": {},
   "outputs": [
    {
     "name": "stdout",
     "output_type": "stream",
     "text": [
      "Before function execution\n",
      "Hello, Alice!\n",
      "After function execution\n"
     ]
    }
   ],
   "source": [
    "# Create a decorator in Python that adds functionality to a simple function by printing a message before and after the function execution.\n",
    "# Define the decorator function\n",
    "def add_message(func):\n",
    "    def wrapper(*args, **kwargs):\n",
    "        print(\"Before function execution\")\n",
    "        result = func(*args, **kwargs)  # Execute the original function\n",
    "        print(\"After function execution\")\n",
    "        return result\n",
    "    return wrapper\n",
    "\n",
    "# Use the decorator on a function\n",
    "@add_message\n",
    "def greet(name):\n",
    "    print(f\"Hello, {name}!\")\n",
    "\n",
    "# Usage\n",
    "greet(\"Alice\")\n"
   ]
  },
  {
   "cell_type": "code",
   "execution_count": 15,
   "id": "8d835b5e",
   "metadata": {},
   "outputs": [
    {
     "name": "stdout",
     "output_type": "stream",
     "text": [
      "Before function 'greet' execution\n",
      "Hello, Alice!\n",
      "After function 'greet' execution\n"
     ]
    }
   ],
   "source": [
    "# Modify the decorator to accept arguments and print the function name along with the message.\n",
    "# Define the decorator function with arguments\n",
    "def add_message(func):\n",
    "    def wrapper(*args, **kwargs):\n",
    "        print(f\"Before function '{func.__name__}' execution\")\n",
    "        result = func(*args, **kwargs)  # Execute the original function\n",
    "        print(f\"After function '{func.__name__}' execution\")\n",
    "        return result\n",
    "    return wrapper\n",
    "\n",
    "# Use the decorator on a function\n",
    "@add_message\n",
    "def greet(name):\n",
    "    print(f\"Hello, {name}!\")\n",
    "\n",
    "# Usage\n",
    "greet(\"Alice\")\n"
   ]
  },
  {
   "cell_type": "code",
   "execution_count": 16,
   "id": "3f03acd1",
   "metadata": {},
   "outputs": [
    {
     "name": "stdout",
     "output_type": "stream",
     "text": [
      "Decorator One: Before function execution\n",
      "Decorator Two: Starting function execution\n",
      "Hello, Alice!\n",
      "Decorator Two: Ending function execution\n",
      "Decorator One: After function execution\n"
     ]
    }
   ],
   "source": [
    "# Create two decorators, and apply them to a single function. Ensure that they execute in the order they are applied.\n",
    "# First decorator: Adds \"Before\" message\n",
    "def decorator_one(func):\n",
    "    def wrapper(*args, **kwargs):\n",
    "        print(\"Decorator One: Before function execution\")\n",
    "        result = func(*args, **kwargs)\n",
    "        print(\"Decorator One: After function execution\")\n",
    "        return result\n",
    "    return wrapper\n",
    "\n",
    "# Second decorator: Adds \"Starting\" message\n",
    "def decorator_two(func):\n",
    "    def wrapper(*args, **kwargs):\n",
    "        print(\"Decorator Two: Starting function execution\")\n",
    "        result = func(*args, **kwargs)\n",
    "        print(\"Decorator Two: Ending function execution\")\n",
    "        return result\n",
    "    return wrapper\n",
    "\n",
    "# Apply both decorators to a single function\n",
    "@decorator_one\n",
    "@decorator_two\n",
    "def greet(name):\n",
    "    print(f\"Hello, {name}!\")\n",
    "\n",
    "# Usage\n",
    "greet(\"Alice\")\n"
   ]
  },
  {
   "cell_type": "code",
   "execution_count": 17,
   "id": "4f919b3a",
   "metadata": {},
   "outputs": [
    {
     "name": "stdout",
     "output_type": "stream",
     "text": [
      "Decorator One: Before function execution\n",
      "Decorator Two: Starting function execution\n",
      "Hello, Alice! You are 30 years old.\n",
      "Decorator Two: Ending function execution\n",
      "Decorator One: After function execution\n"
     ]
    }
   ],
   "source": [
    "# Modify the decorator to accept and pass function arguments to the wrapped function\n",
    "# First decorator: Adds \"Before\" message\n",
    "def decorator_one(func):\n",
    "    def wrapper(*args, **kwargs):\n",
    "        print(\"Decorator One: Before function execution\")\n",
    "        result = func(*args, **kwargs)  # Pass the arguments to the wrapped function\n",
    "        print(\"Decorator One: After function execution\")\n",
    "        return result\n",
    "    return wrapper\n",
    "\n",
    "# Second decorator: Adds \"Starting\" message\n",
    "def decorator_two(func):\n",
    "    def wrapper(*args, **kwargs):\n",
    "        print(\"Decorator Two: Starting function execution\")\n",
    "        result = func(*args, **kwargs)  # Pass the arguments to the wrapped function\n",
    "        print(\"Decorator Two: Ending function execution\")\n",
    "        return result\n",
    "    return wrapper\n",
    "\n",
    "# Apply both decorators to a single function\n",
    "@decorator_one\n",
    "@decorator_two\n",
    "def greet(name, age):\n",
    "    print(f\"Hello, {name}! You are {age} years old.\")\n",
    "\n",
    "# Usage\n",
    "greet(\"Alice\", 30)\n"
   ]
  },
  {
   "cell_type": "code",
   "execution_count": 18,
   "id": "c91c8bfb",
   "metadata": {},
   "outputs": [
    {
     "name": "stdout",
     "output_type": "stream",
     "text": [
      "Executing greet with arguments: ('Alice', 30)\n",
      "Hello, Alice! You are 30 years old.\n",
      "greet\n",
      "This function greets the user by their name and age.\n"
     ]
    }
   ],
   "source": [
    "# Create a decorator that preserves the metadata of the original function.\n",
    "import functools\n",
    "\n",
    "# Decorator to preserve metadata\n",
    "def preserve_metadata(func):\n",
    "    @functools.wraps(func)\n",
    "    def wrapper(*args, **kwargs):\n",
    "        print(f\"Executing {func.__name__} with arguments: {args}\")\n",
    "        result = func(*args, **kwargs)  # Call the original function\n",
    "        return result\n",
    "    return wrapper\n",
    "\n",
    "# Apply the decorator\n",
    "@preserve_metadata\n",
    "def greet(name, age):\n",
    "    \"\"\"This function greets the user by their name and age.\"\"\"\n",
    "    print(f\"Hello, {name}! You are {age} years old.\")\n",
    "\n",
    "# Usage\n",
    "greet(\"Alice\", 30)\n",
    "\n",
    "# Checking metadata\n",
    "print(greet.__name__)      # 'greet'\n",
    "print(greet.__doc__)       # \"This function greets the user by their name and age.\"\n"
   ]
  },
  {
   "cell_type": "code",
   "execution_count": 19,
   "id": "25444c92",
   "metadata": {},
   "outputs": [
    {
     "name": "stdout",
     "output_type": "stream",
     "text": [
      "The sum is: 8\n"
     ]
    }
   ],
   "source": [
    "# Create a Python class `Calculator` with a static method `add` that takes in two numbers and returns their sum.\n",
    "class Calculator:\n",
    "    \n",
    "    @staticmethod\n",
    "    def add(num1, num2):\n",
    "        \"\"\"Returns the sum of two numbers.\"\"\"\n",
    "        return num1 + num2\n",
    "\n",
    "# Usage\n",
    "result = Calculator.add(5, 3)\n",
    "print(\"The sum is:\", result)\n"
   ]
  },
  {
   "cell_type": "code",
   "execution_count": 20,
   "id": "2023f328",
   "metadata": {},
   "outputs": [
    {
     "name": "stdout",
     "output_type": "stream",
     "text": [
      "Total number of employees: 3\n"
     ]
    }
   ],
   "source": [
    "# Create a Python class `Employee` with a class `method get_employee_count` that returns the total number of employees created.\n",
    "class Employee:\n",
    "    employee_count = 0  # Class attribute to keep track of number of employees\n",
    "\n",
    "    def __init__(self, name, position):\n",
    "        self.name = name\n",
    "        self.position = position\n",
    "        Employee.employee_count += 1  # Increment the employee count whenever a new employee is created\n",
    "\n",
    "    @classmethod\n",
    "    def get_employee_count(cls):\n",
    "        \"\"\"Returns the total number of employees created.\"\"\"\n",
    "        return cls.employee_count\n",
    "\n",
    "# Usage\n",
    "emp1 = Employee(\"Alice\", \"Manager\")\n",
    "emp2 = Employee(\"Bob\", \"Developer\")\n",
    "emp3 = Employee(\"Charlie\", \"Analyst\")\n",
    "\n",
    "# Get total number of employees\n",
    "print(\"Total number of employees:\", Employee.get_employee_count())\n"
   ]
  },
  {
   "cell_type": "code",
   "execution_count": 21,
   "id": "c7a2f63a",
   "metadata": {},
   "outputs": [
    {
     "name": "stdout",
     "output_type": "stream",
     "text": [
      "Reversed String: !dlroW ,olleH\n"
     ]
    }
   ],
   "source": [
    "# Create a Python class `StringFormatter` with a static method `reverse_string` that takes a string as input and returns its reverse.\n",
    "class StringFormatter:\n",
    "    \n",
    "    @staticmethod\n",
    "    def reverse_string(input_string):\n",
    "        \"\"\"Returns the reverse of the given string.\"\"\"\n",
    "        return input_string[::-1]\n",
    "\n",
    "# Usage\n",
    "reversed_string = StringFormatter.reverse_string(\"Hello, World!\")\n",
    "print(\"Reversed String:\", reversed_string)\n"
   ]
  },
  {
   "cell_type": "code",
   "execution_count": 22,
   "id": "f88e38e2",
   "metadata": {},
   "outputs": [
    {
     "name": "stdout",
     "output_type": "stream",
     "text": [
      "The area of the circle with radius 5 is: 78.53981633974483\n"
     ]
    }
   ],
   "source": [
    "# Create a Python class `Circle` with a class method `calculate_area` that calculates the area of a circle given its radius.\n",
    "import math\n",
    "\n",
    "class Circle:\n",
    "    \n",
    "    @classmethod\n",
    "    def calculate_area(cls, radius):\n",
    "        \"\"\"Returns the area of the circle given its radius.\"\"\"\n",
    "        return math.pi * (radius ** 2)\n",
    "\n",
    "# Usage\n",
    "radius = 5\n",
    "area = Circle.calculate_area(radius)\n",
    "print(f\"The area of the circle with radius {radius} is: {area}\")\n"
   ]
  },
  {
   "cell_type": "code",
   "execution_count": 23,
   "id": "0eb0b6cf",
   "metadata": {},
   "outputs": [
    {
     "name": "stdout",
     "output_type": "stream",
     "text": [
      "25°C is equal to 77.0°F\n"
     ]
    }
   ],
   "source": [
    "# Create a Python class `TemperatureConverter` with a static method `celsius_to_fahrenheit` that converts Celsius to Fahrenheit.\n",
    "class TemperatureConverter:\n",
    "    \n",
    "    @staticmethod\n",
    "    def celsius_to_fahrenheit(celsius):\n",
    "        \"\"\"Converts Celsius to Fahrenheit.\"\"\"\n",
    "        return (celsius * 9/5) + 32\n",
    "\n",
    "# Usage\n",
    "celsius_temp = 25\n",
    "fahrenheit_temp = TemperatureConverter.celsius_to_fahrenheit(celsius_temp)\n",
    "print(f\"{celsius_temp}°C is equal to {fahrenheit_temp}°F\")\n"
   ]
  },
  {
   "cell_type": "markdown",
   "id": "2ba48922",
   "metadata": {},
   "source": [
    "# What is the purpose of the __str__() method in Python classes? Provide an example.\n",
    "The __str__() method in Python is used to define the string representation of an object, making it human-readable when printed. When you print an object, the __str__() method is automatically called. If you don't define it, the default implementation provides a string that includes the object's memory address, which might not be very useful.\n",
    "\n",
    "The __str__() method allows you to customize the output to display relevant information about the object in a more meaningful way.\n",
    "\n",
    "# Example:"
   ]
  },
  {
   "cell_type": "code",
   "execution_count": 24,
   "id": "851defba",
   "metadata": {},
   "outputs": [
    {
     "name": "stdout",
     "output_type": "stream",
     "text": [
      "Person[name=Alice, age=30]\n"
     ]
    }
   ],
   "source": [
    "class Person:\n",
    "    def __init__(self, name, age):\n",
    "        self.name = name\n",
    "        self.age = age\n",
    "        \n",
    "    def __str__(self):\n",
    "        return f\"Person[name={self.name}, age={self.age}]\"\n",
    "\n",
    "# Usage\n",
    "person = Person(\"Alice\", 30)\n",
    "print(person)\n"
   ]
  },
  {
   "cell_type": "markdown",
   "id": "bb61524e",
   "metadata": {},
   "source": [
    "# How does the __len__() method work in Python? Provide an example.\n",
    "The __len__() method in Python is a special method that allows you to define the behavior of the len() function for objects of your class. When you call len() on an object, Python automatically invokes its __len__() method. This method should return an integer value representing the size or length of the object.\n",
    "\n",
    "# Example:"
   ]
  },
  {
   "cell_type": "code",
   "execution_count": 25,
   "id": "232cc37a",
   "metadata": {},
   "outputs": [
    {
     "name": "stdout",
     "output_type": "stream",
     "text": [
      "5\n"
     ]
    }
   ],
   "source": [
    "class MyList:\n",
    "    def __init__(self, items):\n",
    "        self.items = items\n",
    "    \n",
    "    def __len__(self):\n",
    "        # Return the number of items in the list\n",
    "        return len(self.items)\n",
    "\n",
    "# Usage\n",
    "my_list = MyList([1, 2, 3, 4, 5])\n",
    "print(len(my_list))  # This will call the __len__() method\n"
   ]
  },
  {
   "cell_type": "markdown",
   "id": "42f6f23b",
   "metadata": {},
   "source": [
    "# Explain the usage of the __add__() method in Python classes. Provide an example.\n",
    "The __add__() method in Python is a special method that allows you to define the behavior of the addition (+) operator for objects of your class. When you use the + operator on instances of a class, Python internally calls the __add__() method to determine how to combine the objects.\n",
    "\n",
    "By overriding the __add__() method, you can customize how objects of your class interact with the + operator, enabling meaningful operations such as adding two custom objects together.\n",
    "\n",
    "# Example:"
   ]
  },
  {
   "cell_type": "code",
   "execution_count": 26,
   "id": "4ce0f1b6",
   "metadata": {},
   "outputs": [
    {
     "name": "stdout",
     "output_type": "stream",
     "text": [
      "Vector(4, 6)\n"
     ]
    }
   ],
   "source": [
    "class Vector:\n",
    "    def __init__(self, x, y):\n",
    "        self.x = x\n",
    "        self.y = y\n",
    "        \n",
    "    def __add__(self, other):\n",
    "        # Add two Vector objects by adding corresponding components\n",
    "        return Vector(self.x + other.x, self.y + other.y)\n",
    "    \n",
    "    def __str__(self):\n",
    "        return f\"Vector({self.x}, {self.y})\"\n",
    "\n",
    "# Usage\n",
    "vector1 = Vector(1, 2)\n",
    "vector2 = Vector(3, 4)\n",
    "\n",
    "# Adding two vector objects using the + operator\n",
    "result = vector1 + vector2\n",
    "\n",
    "print(result)  # Output will be the result of adding the two vectors\n"
   ]
  },
  {
   "cell_type": "markdown",
   "id": "be649573",
   "metadata": {},
   "source": [
    "# What is the purpose of the __getitem__() method in Python? Provide an example.\n",
    "The __getitem__() method in Python is a special method that allows an object to respond to the indexing operation (i.e., square bracket notation []). By defining this method in a class, you can specify how an object should behave when you try to access elements using the indexing operator.\n",
    "\n",
    "The method is called automatically when you use the indexing syntax on an object of the class. This is commonly used in classes where objects represent collections, such as lists, dictionaries, or custom data structures.\n",
    "\n",
    "# Example:"
   ]
  },
  {
   "cell_type": "code",
   "execution_count": 27,
   "id": "52323618",
   "metadata": {},
   "outputs": [
    {
     "name": "stdout",
     "output_type": "stream",
     "text": [
      "30\n"
     ]
    }
   ],
   "source": [
    "class CustomList:\n",
    "    def __init__(self, items):\n",
    "        self.items = items\n",
    "\n",
    "    def __getitem__(self, index):\n",
    "        # Return the item at the specified index\n",
    "        return self.items[index]\n",
    "\n",
    "# Usage\n",
    "my_list = CustomList([10, 20, 30, 40, 50])\n",
    "\n",
    "print(my_list[2])  # Access the element at index 2\n"
   ]
  },
  {
   "cell_type": "markdown",
   "id": "adcd1691",
   "metadata": {},
   "source": [
    "# Explain the usage of the __iter__() and __next__() methods in Python. Provide an example using iterators.\n",
    "In Python, the __iter__() and __next__() methods are used to create iterators, allowing an object to be iterated over using loops (such as a for loop).\n",
    "\n",
    "__iter__() method: This method is responsible for returning an iterator object, which is typically the object itself. When called, it prepares the object for iteration. This method must return an object with a __next__() method.\n",
    "\n",
    "__next__() method: This method is used to retrieve the next item from the object. Each time it's called, it should return the next element in the sequence. If there are no more elements to return, it raises the StopIteration exception to signal the end of the iteration.\n",
    "\n",
    "# Example:"
   ]
  },
  {
   "cell_type": "code",
   "execution_count": 28,
   "id": "a009466f",
   "metadata": {},
   "outputs": [
    {
     "name": "stdout",
     "output_type": "stream",
     "text": [
      "1\n",
      "4\n",
      "9\n",
      "16\n",
      "25\n"
     ]
    }
   ],
   "source": [
    "class SquareIterator:\n",
    "    def __init__(self, limit):\n",
    "        self.limit = limit\n",
    "        self.current = 1\n",
    "    \n",
    "    def __iter__(self):\n",
    "        # This returns the iterator object itself\n",
    "        return self\n",
    "    \n",
    "    def __next__(self):\n",
    "        if self.current <= self.limit:\n",
    "            result = self.current ** 2  # Return square of the current number\n",
    "            self.current += 1\n",
    "            return result\n",
    "        else:\n",
    "            raise StopIteration  # End of iteration\n",
    "\n",
    "# Usage\n",
    "squares = SquareIterator(5)\n",
    "for square in squares:\n",
    "    print(square)\n"
   ]
  },
  {
   "cell_type": "markdown",
   "id": "d61cb6d1",
   "metadata": {},
   "source": [
    "# What is the purpose of a getter method in Python? Provide an example demonstrating the use of a getter method using property decorators.\n",
    "In Python, a getter method is used to retrieve the value of a private or protected attribute of a class. The getter allows controlled access to an attribute without directly accessing the attribute from outside the class, which is important for data encapsulation and validation.\n",
    "\n",
    "A getter method can be implemented using property decorators. These decorators allow you to define a method that can be accessed like an attribute, providing a clean and intuitive interface while still applying any logic you want when retrieving the attribute's value.\n",
    "\n",
    "# Example:"
   ]
  },
  {
   "cell_type": "code",
   "execution_count": 29,
   "id": "eac1fbcf",
   "metadata": {},
   "outputs": [
    {
     "name": "stdout",
     "output_type": "stream",
     "text": [
      "30\n",
      "35\n",
      "Age cannot be negative\n"
     ]
    }
   ],
   "source": [
    "class Person:\n",
    "    def __init__(self, name, age):\n",
    "        self.name = name\n",
    "        self._age = age  # Private attribute\n",
    "\n",
    "    # Getter for the '_age' attribute using the @property decorator\n",
    "    @property\n",
    "    def age(self):\n",
    "        return self._age\n",
    "\n",
    "    # Setter for the '_age' attribute using the @age.setter decorator\n",
    "    @age.setter\n",
    "    def age(self, value):\n",
    "        if value < 0:\n",
    "            raise ValueError(\"Age cannot be negative\")\n",
    "        self._age = value\n",
    "\n",
    "# Usage\n",
    "person = Person(\"John\", 30)\n",
    "\n",
    "# Access the age via the getter\n",
    "print(person.age)  # Output: 30\n",
    "\n",
    "# Set the age using the setter\n",
    "person.age = 35\n",
    "print(person.age)  # Output: 35\n",
    "\n",
    "# Try to set a negative age, which raises an error\n",
    "try:\n",
    "    person.age = -5\n",
    "except ValueError as e:\n",
    "    print(e)  # Output: Age cannot be negative\n"
   ]
  },
  {
   "cell_type": "markdown",
   "id": "23e38aad",
   "metadata": {},
   "source": [
    "# Explain the role of setter methods in Python. Demonstrate how to use a setter method to modify a class attribute using property decorators.\n",
    "In Python, setter methods are used to modify the value of a private or protected attribute. These methods allow controlled access to the attributes of a class and ensure that any changes to an attribute comply with certain rules or constraints, such as validation checks. Setter methods are commonly used in conjunction with getter methods through property decorators to provide a clean interface to the user.\n",
    "\n",
    "The @property.setter decorator allows you to define a setter for an attribute that is managed by a getter method. This lets you keep an attribute's access syntax simple (like a direct attribute access), while still implementing logic when modifying or retrieving the value of the attribute.\n",
    "\n",
    "# Example:"
   ]
  },
  {
   "cell_type": "code",
   "execution_count": 31,
   "id": "e05ed11b",
   "metadata": {},
   "outputs": [
    {
     "name": "stdout",
     "output_type": "stream",
     "text": [
      "50000\n",
      "60000\n",
      "Salary cannot be negative\n"
     ]
    }
   ],
   "source": [
    "class Person:\n",
    "    def __init__(self, name, salary):\n",
    "        self.name = name\n",
    "        self._salary = salary  # Private attribute\n",
    "    \n",
    "    # Getter for salary using @property decorator\n",
    "    @property\n",
    "    def salary(self):\n",
    "        return self._salary\n",
    "    \n",
    "    # Setter for salary using @salary.setter decorator\n",
    "    @salary.setter\n",
    "    def salary(self, value):\n",
    "        if value < 0:\n",
    "            raise ValueError(\"Salary cannot be negative\")\n",
    "        self._salary = value\n",
    "\n",
    "# Creating an instance of Person\n",
    "person = Person(\"John\", 50000)\n",
    "\n",
    "# Accessing salary using the getter\n",
    "print(person.salary)  # Output: 50000\n",
    "\n",
    "# Setting the salary using the setter\n",
    "person.salary = 60000\n",
    "print(person.salary)  # Output: 60000\n",
    "\n",
    "# Attempting to set a negative salary will raise an error\n",
    "try:\n",
    "    person.salary = -1000\n",
    "except ValueError as e:\n",
    "    print(e)  # Output: Salary cannot be negative\n"
   ]
  },
  {
   "cell_type": "markdown",
   "id": "9477fb7f",
   "metadata": {},
   "source": [
    "# What is the purpose of the @property decorator in Python? Provide an example illustrating its usage. \n",
    "The @property decorator in Python allows you to define a method as a \"getter\" for an attribute, enabling you to access it as if it were a regular attribute. It provides a way to encapsulate logic for retrieving an attribute value while keeping the syntax clean.\n",
    "\n",
    "# Example:"
   ]
  },
  {
   "cell_type": "code",
   "execution_count": 32,
   "id": "3846b624",
   "metadata": {},
   "outputs": [
    {
     "name": "stdout",
     "output_type": "stream",
     "text": [
      "5\n",
      "78.5\n"
     ]
    }
   ],
   "source": [
    "class Circle:\n",
    "    def __init__(self, radius):\n",
    "        self._radius = radius\n",
    "\n",
    "    @property\n",
    "    def radius(self):\n",
    "        return self._radius\n",
    "\n",
    "    @property\n",
    "    def area(self):\n",
    "        return 3.14 * (self._radius ** 2)\n",
    "\n",
    "# Usage\n",
    "circle = Circle(5)\n",
    "print(circle.radius)  # Output: 5\n",
    "print(circle.area)    # Output: 78.5\n"
   ]
  },
  {
   "cell_type": "markdown",
   "id": "46427485",
   "metadata": {},
   "source": [
    "# Explain the use of the @deleter decorator in Python property decorators. Provide a code example demonstrating its application.\n",
    "The @deleter decorator in Python is used to define a method that deletes an attribute of a class. When you define a deleter for a property, you can control the logic that is executed when an attribute is deleted using the del statement. This provides a way to manage how attributes are deleted, ensuring encapsulation and consistency within the class.\n",
    "\n",
    "# Example:"
   ]
  },
  {
   "cell_type": "code",
   "execution_count": 34,
   "id": "4eac7cac",
   "metadata": {},
   "outputs": [
    {
     "name": "stdout",
     "output_type": "stream",
     "text": [
      "John\n",
      "Alice\n",
      "Deleting name...\n"
     ]
    }
   ],
   "source": [
    "class Person:\n",
    "    def __init__(self, name):\n",
    "        self._name = name\n",
    "    \n",
    "    # Getter for 'name'\n",
    "    @property\n",
    "    def name(self):\n",
    "        return self._name\n",
    "    \n",
    "    # Setter for 'name'\n",
    "    @name.setter\n",
    "    def name(self, value):\n",
    "        if not value:\n",
    "            raise ValueError(\"Name cannot be empty\")\n",
    "        self._name = value\n",
    "    \n",
    "    # Deleter for 'name'\n",
    "    @name.deleter\n",
    "    def name(self):\n",
    "        print(\"Deleting name...\")\n",
    "        del self._name\n",
    "\n",
    "# Usage\n",
    "person = Person(\"John\")\n",
    "print(person.name)  # Output: John\n",
    "\n",
    "# Modifying the name\n",
    "person.name = \"Alice\"\n",
    "print(person.name)  # Output: Alice\n",
    "\n",
    "# Deleting the name\n",
    "del person.name     # Output: Deleting name...\n"
   ]
  },
  {
   "cell_type": "markdown",
   "id": "9258ebb5",
   "metadata": {},
   "source": [
    "# How does encapsulation relate to property decorators in Python? Provide an example showcasing encapsulation using property decorators.\n",
    "Encapsulation in Python refers to the practice of hiding the internal state of an object and only exposing a controlled interface to interact with it. Property decorators (@property, @setter, and @deleter) play a crucial role in achieving encapsulation by allowing you to control the access and modification of class attributes.\n",
    "\n",
    "Using property decorators, you can:\n",
    "\n",
    "Encapsulate attributes so they are accessed via getter and setter methods, rather than directly.\n",
    "\n",
    "Validate or modify the data before setting or retrieving it.\n",
    "# Example: "
   ]
  },
  {
   "cell_type": "code",
   "execution_count": 36,
   "id": "c9411582",
   "metadata": {},
   "outputs": [
    {
     "name": "stdout",
     "output_type": "stream",
     "text": [
      "1000\n",
      "1500\n",
      "Balance cannot be negative.\n",
      "Deleting balance...\n"
     ]
    }
   ],
   "source": [
    "class BankAccount:\n",
    "    def __init__(self, owner, balance=0):\n",
    "        self.owner = owner\n",
    "        self._balance = balance  # Private attribute (internally used)\n",
    "\n",
    "    @property\n",
    "    def balance(self):\n",
    "        return self._balance\n",
    "\n",
    "    @balance.setter\n",
    "    def balance(self, amount):\n",
    "        if amount < 0:\n",
    "            raise ValueError(\"Balance cannot be negative.\")\n",
    "        self._balance = amount\n",
    "\n",
    "    @balance.deleter\n",
    "    def balance(self):\n",
    "        print(\"Deleting balance...\")\n",
    "        del self._balance\n",
    "\n",
    "# Usage\n",
    "account = BankAccount(\"Alice\", 1000)\n",
    "print(account.balance)  # Accessing the balance (getter)\n",
    "\n",
    "account.balance = 1500  # Setting a new balance (setter)\n",
    "print(account.balance)  # Accessing the updated balance (getter)\n",
    "\n",
    "try:\n",
    "    account.balance = -500  # Trying to set a negative balance (will raise an exception)\n",
    "except ValueError as e:\n",
    "    print(e)\n",
    "\n",
    "del account.balance  # Deleting the balance (deleter)\n"
   ]
  },
  {
   "cell_type": "code",
   "execution_count": null,
   "id": "86e40d77",
   "metadata": {},
   "outputs": [],
   "source": []
  }
 ],
 "metadata": {
  "kernelspec": {
   "display_name": "Python 3",
   "language": "python",
   "name": "python3"
  },
  "language_info": {
   "codemirror_mode": {
    "name": "ipython",
    "version": 3
   },
   "file_extension": ".py",
   "mimetype": "text/x-python",
   "name": "python",
   "nbconvert_exporter": "python",
   "pygments_lexer": "ipython3",
   "version": "3.8.8"
  }
 },
 "nbformat": 4,
 "nbformat_minor": 5
}
