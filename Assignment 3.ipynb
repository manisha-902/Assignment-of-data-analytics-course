{
 "cells": [
  {
   "cell_type": "code",
   "execution_count": 1,
   "id": "5c386f80",
   "metadata": {},
   "outputs": [
    {
     "data": {
      "text/plain": [
       "(array([0, 1, 2, 3, 4, 5]), dtype('int32'))"
      ]
     },
     "execution_count": 1,
     "metadata": {},
     "output_type": "execute_result"
    }
   ],
   "source": [
    "# Create a NumPy array 'arr' of integers from 0 to 5 and print its data type.\n",
    "import numpy as np\n",
    "\n",
    "# Create a NumPy array of integers from 0 to 5\n",
    "arr = np.arange(6)\n",
    "\n",
    "# Print the array and its data type\n",
    "arr, arr.dtype"
   ]
  },
  {
   "cell_type": "code",
   "execution_count": 2,
   "id": "5e46f695",
   "metadata": {},
   "outputs": [
    {
     "data": {
      "text/plain": [
       "True"
      ]
     },
     "execution_count": 2,
     "metadata": {},
     "output_type": "execute_result"
    }
   ],
   "source": [
    "# Given a NumPy array 'arr', check if its data type is float64.\n",
    "# Define the array\n",
    "arr = np.array([1.5, 2.6, 3.7])\n",
    "\n",
    "# Check if the data type is float64\n",
    "is_float64 = arr.dtype == np.float64\n",
    "\n",
    "is_float64"
   ]
  },
  {
   "cell_type": "code",
   "execution_count": 3,
   "id": "58569a7e",
   "metadata": {},
   "outputs": [
    {
     "data": {
      "text/plain": [
       "(array([1.+2.j, 3.+4.j, 5.+6.j]), dtype('complex128'))"
      ]
     },
     "execution_count": 3,
     "metadata": {},
     "output_type": "execute_result"
    }
   ],
   "source": [
    "# Create a NumPy array 'arr' with a data type of complex128 containing three complex numbers.\n",
    "arr = np.array([1+2j, 3+4j, 5+6j], dtype=np.complex128)\n",
    "\n",
    "# Display the array and its data type\n",
    "arr, arr.dtype"
   ]
  },
  {
   "cell_type": "code",
   "execution_count": 4,
   "id": "02d38ed7",
   "metadata": {},
   "outputs": [
    {
     "name": "stdout",
     "output_type": "stream",
     "text": [
      "[1. 2. 3. 4. 5.]\n",
      "float32\n"
     ]
    }
   ],
   "source": [
    "# Convert an existing NumPy array 'arr' of integers to float32 data type.\n",
    "# Original NumPy array of integers\n",
    "arr = np.array([1, 2, 3, 4, 5])\n",
    "\n",
    "# Convert to float32\n",
    "arr_float32 = arr.astype(np.float32)\n",
    "\n",
    "# Display the converted array and its data type\n",
    "print(arr_float32)\n",
    "print(arr_float32.dtype)"
   ]
  },
  {
   "cell_type": "code",
   "execution_count": 5,
   "id": "ed9ea629",
   "metadata": {},
   "outputs": [
    {
     "data": {
      "text/plain": [
       "(array([1.12345679, 2.98765432, 3.45678912]),\n",
       " dtype('float64'),\n",
       " array([1.1234568, 2.9876542, 3.456789 ], dtype=float32),\n",
       " dtype('float32'))"
      ]
     },
     "execution_count": 5,
     "metadata": {},
     "output_type": "execute_result"
    }
   ],
   "source": [
    "# Given a NumPy array 'arr' with float64 data type, convert it to float32 to reduce decimal precision.\n",
    "# Define a NumPy array with float64 data type\n",
    "arr = np.array([1.123456789, 2.987654321, 3.456789123], dtype=np.float64)\n",
    "\n",
    "# Convert the array to float32 to reduce decimal precision\n",
    "arr_float32 = arr.astype(np.float32)\n",
    "\n",
    "# Display the original and converted arrays along with their data types\n",
    "arr, arr.dtype, arr_float32, arr_float32.dtype"
   ]
  },
  {
   "cell_type": "code",
   "execution_count": 6,
   "id": "c27464ea",
   "metadata": {},
   "outputs": [
    {
     "name": "stdout",
     "output_type": "stream",
     "text": [
      "Shape: (2, 3), Size: 6, Data Type: int32\n"
     ]
    }
   ],
   "source": [
    "# Write a function array_attributes that takes a NumPy array as input and returns its shape, size, and data type.\n",
    "def array_attributes(arr):\n",
    "    \"\"\"\n",
    "    Returns the shape, size, and data type of a NumPy array.\n",
    "    \n",
    "    Parameters:\n",
    "        arr (numpy.ndarray): The input array.\n",
    "    \n",
    "    Returns:\n",
    "        tuple: A tuple containing the shape, size, and data type of the array.\n",
    "    \"\"\"\n",
    "    shape = arr.shape\n",
    "    size = arr.size\n",
    "    dtype = arr.dtype\n",
    "    return shape, size, dtype\n",
    "\n",
    "# Example usage\n",
    "if __name__ == \"__main__\":\n",
    "    array = np.array([[1, 2, 3], [4, 5, 6]])\n",
    "    attributes = array_attributes(array)\n",
    "    print(f\"Shape: {attributes[0]}, Size: {attributes[1]}, Data Type: {attributes[2]}\")"
   ]
  },
  {
   "cell_type": "code",
   "execution_count": 7,
   "id": "51fd6f0d",
   "metadata": {},
   "outputs": [
    {
     "name": "stdout",
     "output_type": "stream",
     "text": [
      "The dimensionality of the array is: 2\n"
     ]
    }
   ],
   "source": [
    "# Create a function array_dimension that takes a NumPy array as input and returns its dimensionality.\n",
    "def array_dimension(arr):\n",
    "    \"\"\"\n",
    "    Returns the dimensionality of a NumPy array.\n",
    "    \n",
    "    Parameters:\n",
    "        arr (numpy.ndarray): The input array.\n",
    "    \n",
    "    Returns:\n",
    "        int: The dimensionality of the array (number of axes).\n",
    "    \"\"\"\n",
    "    return arr.ndim\n",
    "\n",
    "# Example usage\n",
    "if __name__ == \"__main__\":\n",
    "    array = np.array([[1, 2, 3], [4, 5, 6]])\n",
    "    dimension = array_dimension(array)\n",
    "    print(f\"The dimensionality of the array is: {dimension}\")"
   ]
  },
  {
   "cell_type": "code",
   "execution_count": 8,
   "id": "db04978c",
   "metadata": {},
   "outputs": [
    {
     "name": "stdout",
     "output_type": "stream",
     "text": [
      "Dimensionality: 2\n"
     ]
    }
   ],
   "source": [
    "# Design a function item_size_info that takes a NumPy array as input and returns the item size and the total size in bytes.\n",
    "def array_dimension(arr):\n",
    "    \"\"\"\n",
    "    Returns the dimensionality of a NumPy array.\n",
    "    \n",
    "    Parameters:\n",
    "        arr (numpy.ndarray): The input array.\n",
    "    \n",
    "    Returns:\n",
    "        int: The number of dimensions of the array.\n",
    "    \"\"\"\n",
    "    return arr.ndim\n",
    "\n",
    "# Example usage\n",
    "if __name__ == \"__main__\":\n",
    "    array = np.array([[1, 2, 3], [4, 5, 6]])\n",
    "    dimension = array_dimension(array)\n",
    "    print(f\"Dimensionality: {dimension}\")"
   ]
  },
  {
   "cell_type": "code",
   "execution_count": 9,
   "id": "c0ee3230",
   "metadata": {},
   "outputs": [
    {
     "name": "stdout",
     "output_type": "stream",
     "text": [
      "Strides: (12, 4)\n"
     ]
    }
   ],
   "source": [
    "# Create a function array_strides that takes a NumPy array as input and returns the strides of the array.\n",
    "def array_strides(arr):\n",
    "    \"\"\"\n",
    "    Returns the strides of a NumPy array.\n",
    "    \n",
    "    Parameters:\n",
    "        arr (numpy.ndarray): The input array.\n",
    "    \n",
    "    Returns:\n",
    "        tuple: The strides of the array.\n",
    "    \"\"\"\n",
    "    return arr.strides\n",
    "\n",
    "# Example usage\n",
    "if __name__ == \"__main__\":\n",
    "    array = np.array([[1, 2, 3], [4, 5, 6]], dtype=np.int32)\n",
    "    strides = array_strides(array)\n",
    "    print(f\"Strides: {strides}\")"
   ]
  },
  {
   "cell_type": "code",
   "execution_count": 10,
   "id": "69b25904",
   "metadata": {},
   "outputs": [
    {
     "name": "stdout",
     "output_type": "stream",
     "text": [
      "Shape: (2, 3), Strides: (12, 4)\n"
     ]
    }
   ],
   "source": [
    "# Design a function shape_stride_relationship that takes a NumPy array as input and returns the shape and strides of the array.\n",
    "def shape_stride_relationship(arr):\n",
    "    \"\"\"\n",
    "    Returns the shape and strides of a NumPy array.\n",
    "    \n",
    "    Parameters:\n",
    "        arr (numpy.ndarray): The input array.\n",
    "    \n",
    "    Returns:\n",
    "        tuple: A tuple containing the shape and strides of the array.\n",
    "    \"\"\"\n",
    "    shape = arr.shape\n",
    "    strides = arr.strides\n",
    "    return shape, strides\n",
    "\n",
    "# Example usage\n",
    "if __name__ == \"__main__\":\n",
    "    array = np.array([[1, 2, 3], [4, 5, 6]], dtype=np.int32)\n",
    "    shape, strides = shape_stride_relationship(array)\n",
    "    print(f\"Shape: {shape}, Strides: {strides}\")"
   ]
  },
  {
   "cell_type": "code",
   "execution_count": 11,
   "id": "21a5cfbf",
   "metadata": {},
   "outputs": [
    {
     "name": "stdout",
     "output_type": "stream",
     "text": [
      "Array of zeros with 5 elements: [0. 0. 0. 0. 0.]\n"
     ]
    }
   ],
   "source": [
    "# Create a function `create_zeros_array` that takes an integer `n` as input and returns a NumPy array of zeros with `n` elements.\n",
    "def create_zeros_array(n):\n",
    "    \"\"\"\n",
    "    Creates a NumPy array of zeros with n elements.\n",
    "    \n",
    "    Parameters:\n",
    "        n (int): The number of elements in the array.\n",
    "    \n",
    "    Returns:\n",
    "        numpy.ndarray: A NumPy array of zeros with n elements.\n",
    "    \"\"\"\n",
    "    return np.zeros(n)\n",
    "\n",
    "# Example usage\n",
    "if __name__ == \"__main__\":\n",
    "    n = 5\n",
    "    zeros_array = create_zeros_array(n)\n",
    "    print(f\"Array of zeros with {n} elements: {zeros_array}\")"
   ]
  },
  {
   "cell_type": "code",
   "execution_count": 12,
   "id": "22828f19",
   "metadata": {},
   "outputs": [
    {
     "name": "stdout",
     "output_type": "stream",
     "text": [
      "Matrix of ones with size 3x4:\n",
      "[[1. 1. 1. 1.]\n",
      " [1. 1. 1. 1.]\n",
      " [1. 1. 1. 1.]]\n"
     ]
    }
   ],
   "source": [
    "# Write a function `create_ones_matrix` that takes integers `rows` and `cols` as inputs and generates a 2D NumPy array filled with ones of size `rows x cols`.\n",
    "def create_ones_matrix(rows, cols):\n",
    "    \"\"\"\n",
    "    Creates a 2D NumPy array filled with ones of size rows x cols.\n",
    "    \n",
    "    Parameters:\n",
    "        rows (int): The number of rows in the array.\n",
    "        cols (int): The number of columns in the array.\n",
    "    \n",
    "    Returns:\n",
    "        numpy.ndarray: A 2D NumPy array filled with ones.\n",
    "    \"\"\"\n",
    "    return np.ones((rows, cols))\n",
    "\n",
    "# Example usage\n",
    "if __name__ == \"__main__\":\n",
    "    rows = 3\n",
    "    cols = 4\n",
    "    ones_matrix = create_ones_matrix(rows, cols)\n",
    "    print(f\"Matrix of ones with size {rows}x{cols}:\\n{ones_matrix}\")"
   ]
  },
  {
   "cell_type": "code",
   "execution_count": 13,
   "id": "31c1ed50",
   "metadata": {},
   "outputs": [
    {
     "name": "stdout",
     "output_type": "stream",
     "text": [
      "Range array from 1 to 10 with step 2: [1 3 5 7 9]\n"
     ]
    }
   ],
   "source": [
    "# Write a function `generate_range_array` that takes three integers start, stop, and step as arguments and creates a NumPy array with a range starting from `start`, ending at stop (exclusive), and with the specified `step`.\n",
    "def generate_range_array(start, stop, step):\n",
    "    \"\"\"\n",
    "    Creates a NumPy array with a range starting from `start`,\n",
    "    ending at `stop` (exclusive), and with the specified `step`.\n",
    "    \n",
    "    Parameters:\n",
    "        start (int): The starting value of the range.\n",
    "        stop (int): The end value of the range (exclusive).\n",
    "        step (int): The step size.\n",
    "    \n",
    "    Returns:\n",
    "        numpy.ndarray: A NumPy array containing the range of values.\n",
    "    \"\"\"\n",
    "    return np.arange(start, stop, step)\n",
    "\n",
    "# Example usage\n",
    "if __name__ == \"__main__\":\n",
    "    start = 1\n",
    "    stop = 10\n",
    "    step = 2\n",
    "    range_array = generate_range_array(start, stop, step)\n",
    "    print(f\"Range array from {start} to {stop} with step {step}: {range_array}\")"
   ]
  },
  {
   "cell_type": "code",
   "execution_count": 14,
   "id": "c4c9a61a",
   "metadata": {},
   "outputs": [
    {
     "name": "stdout",
     "output_type": "stream",
     "text": [
      "5 equally spaced values between 0.0 and 1.0:\n",
      "[0.   0.25 0.5  0.75 1.  ]\n"
     ]
    }
   ],
   "source": [
    "# Design a function `generate_linear_space` that takes two floats `start`, `stop`, and an integer `num` as arguments and generates a NumPy array with num equally spaced values between `start` and `stop` (inclusive).\n",
    "def generate_linear_space(start, stop, num):\n",
    "    \"\"\"\n",
    "    Generates a NumPy array with `num` equally spaced values between \n",
    "    `start` and `stop` (inclusive).\n",
    "    \n",
    "    Parameters:\n",
    "        start (float): The starting value of the range.\n",
    "        stop (float): The end value of the range (inclusive).\n",
    "        num (int): The number of equally spaced values to generate.\n",
    "    \n",
    "    Returns:\n",
    "        numpy.ndarray: A NumPy array with the specified range and spacing.\n",
    "    \"\"\"\n",
    "    return np.linspace(start, stop, num)\n",
    "\n",
    "# Example usage\n",
    "if __name__ == \"__main__\":\n",
    "    start = 0.0\n",
    "    stop = 1.0\n",
    "    num = 5\n",
    "    linear_space_array = generate_linear_space(start, stop, num)\n",
    "    print(f\"{num} equally spaced values between {start} and {stop}:\\n{linear_space_array}\")"
   ]
  },
  {
   "cell_type": "code",
   "execution_count": 15,
   "id": "a21f9455",
   "metadata": {},
   "outputs": [
    {
     "name": "stdout",
     "output_type": "stream",
     "text": [
      "Identity matrix of size 4x4:\n",
      "[[1. 0. 0. 0.]\n",
      " [0. 1. 0. 0.]\n",
      " [0. 0. 1. 0.]\n",
      " [0. 0. 0. 1.]]\n"
     ]
    }
   ],
   "source": [
    "# Create a function `create_identity_matrix` that takes an integer `n` as input and generates a square identity matrix of size `n x n` using `numpy.eye`.\n",
    "def create_identity_matrix(n):\n",
    "    \"\"\"\n",
    "    Creates a square identity matrix of size n x n using numpy.eye.\n",
    "    \n",
    "    Parameters:\n",
    "        n (int): The size of the identity matrix.\n",
    "    \n",
    "    Returns:\n",
    "        numpy.ndarray: An n x n identity matrix.\n",
    "    \"\"\"\n",
    "    return np.eye(n)\n",
    "\n",
    "# Example usage\n",
    "if __name__ == \"__main__\":\n",
    "    n = 4\n",
    "    identity_matrix = create_identity_matrix(n)\n",
    "    print(f\"Identity matrix of size {n}x{n}:\\n{identity_matrix}\")"
   ]
  },
  {
   "cell_type": "code",
   "execution_count": 16,
   "id": "8ea8e2ed",
   "metadata": {},
   "outputs": [
    {
     "name": "stdout",
     "output_type": "stream",
     "text": [
      "Original list: [1, 2, 3, 4, 5]\n",
      "Converted NumPy array: [1 2 3 4 5]\n"
     ]
    }
   ],
   "source": [
    "# Write a function that takes a Python list and converts it into a NumPy array.\n",
    "def list_to_numpy_array(input_list):\n",
    "    \"\"\"\n",
    "    Converts a Python list into a NumPy array.\n",
    "    \n",
    "    Parameters:\n",
    "        input_list (list): The Python list to be converted.\n",
    "    \n",
    "    Returns:\n",
    "        numpy.ndarray: A NumPy array representation of the input list.\n",
    "    \"\"\"\n",
    "    return np.array(input_list)\n",
    "\n",
    "# Example usage\n",
    "if __name__ == \"__main__\":\n",
    "    python_list = [1, 2, 3, 4, 5]\n",
    "    numpy_array = list_to_numpy_array(python_list)\n",
    "    print(f\"Original list: {python_list}\")\n",
    "    print(f\"Converted NumPy array: {numpy_array}\")"
   ]
  },
  {
   "cell_type": "code",
   "execution_count": 17,
   "id": "9785be35",
   "metadata": {},
   "outputs": [
    {
     "name": "stdout",
     "output_type": "stream",
     "text": [
      "Original array: [10  2  3  4  5]\n",
      "View array: [10  2  3  4  5]\n",
      "Are original_array and view_array the same object? False\n",
      "Do original_array and view_array share the same data? True\n"
     ]
    }
   ],
   "source": [
    "# Create a NumPy array and demonstrate the use of `numpy.view` to create a new array object with the same data.\n",
    "# Create a NumPy array\n",
    "original_array = np.array([1, 2, 3, 4, 5], dtype=np.int32)\n",
    "\n",
    "# Create a view of the original array\n",
    "view_array = original_array.view()\n",
    "\n",
    "# Modify the view and observe changes in the original array\n",
    "view_array[0] = 10\n",
    "\n",
    "# Output the results\n",
    "print(\"Original array:\", original_array)\n",
    "print(\"View array:\", view_array)\n",
    "print(f\"Are original_array and view_array the same object? {original_array is view_array}\")\n",
    "print(f\"Do original_array and view_array share the same data? {np.may_share_memory(original_array, view_array)}\")"
   ]
  },
  {
   "cell_type": "code",
   "execution_count": 18,
   "id": "96224743",
   "metadata": {},
   "outputs": [
    {
     "name": "stdout",
     "output_type": "stream",
     "text": [
      "Concatenated along axis 0:\n",
      " [[1 2]\n",
      " [3 4]\n",
      " [5 6]\n",
      " [7 8]]\n",
      "Concatenated along axis 1:\n",
      " [[1 2 5 6]\n",
      " [3 4 7 8]]\n"
     ]
    }
   ],
   "source": [
    "# Write a function that takes two NumPy arrays and concatenates them along a specified axis.\n",
    "def concatenate_arrays(array1, array2, axis=0):\n",
    "    \"\"\"\n",
    "    Concatenates two NumPy arrays along the specified axis.\n",
    "    \n",
    "    Parameters:\n",
    "        array1 (numpy.ndarray): The first array.\n",
    "        array2 (numpy.ndarray): The second array.\n",
    "        axis (int): The axis along which to concatenate. Default is 0.\n",
    "    \n",
    "    Returns:\n",
    "        numpy.ndarray: The concatenated array.\n",
    "    \"\"\"\n",
    "    return np.concatenate((array1, array2), axis=axis)\n",
    "\n",
    "# Example usage\n",
    "if __name__ == \"__main__\":\n",
    "    array1 = np.array([[1, 2], [3, 4]])\n",
    "    array2 = np.array([[5, 6], [7, 8]])\n",
    "    \n",
    "    concatenated_array = concatenate_arrays(array1, array2, axis=0)\n",
    "    print(\"Concatenated along axis 0:\\n\", concatenated_array)\n",
    "\n",
    "    concatenated_array_axis1 = concatenate_arrays(array1, array2, axis=1)\n",
    "    print(\"Concatenated along axis 1:\\n\", concatenated_array_axis1)"
   ]
  },
  {
   "cell_type": "code",
   "execution_count": 19,
   "id": "7c39857f",
   "metadata": {},
   "outputs": [
    {
     "name": "stdout",
     "output_type": "stream",
     "text": [
      "Array 1:\n",
      " [[1 2]\n",
      " [3 4]]\n",
      "Array 2:\n",
      " [[ 5  6  7]\n",
      " [ 8  9 10]]\n",
      "Concatenated Array (along axis 1):\n",
      " [[ 1  2  5  6  7]\n",
      " [ 3  4  8  9 10]]\n"
     ]
    }
   ],
   "source": [
    "# Create two NumPy arrays with different shapes and concatenate them horizontally using `numpy.concatenate`.\n",
    "# Create two NumPy arrays with different shapes\n",
    "array1 = np.array([[1, 2], [3, 4]])\n",
    "array2 = np.array([[5, 6, 7], [8, 9, 10]])\n",
    "\n",
    "# Concatenate the arrays horizontally (along axis 1)\n",
    "concatenated_array = np.concatenate((array1, array2), axis=1)\n",
    "\n",
    "# Output the results\n",
    "print(\"Array 1:\\n\", array1)\n",
    "print(\"Array 2:\\n\", array2)\n",
    "print(\"Concatenated Array (along axis 1):\\n\", concatenated_array)"
   ]
  },
  {
   "cell_type": "code",
   "execution_count": 20,
   "id": "50b71167",
   "metadata": {},
   "outputs": [
    {
     "name": "stdout",
     "output_type": "stream",
     "text": [
      "Stacked array:\n",
      " [[ 1  2]\n",
      " [ 3  4]\n",
      " [ 5  6]\n",
      " [ 7  8]\n",
      " [ 9 10]\n",
      " [11 12]]\n"
     ]
    }
   ],
   "source": [
    "# Write a function that vertically stacks multiple NumPy arrays given as a list.\n",
    "def vertical_stack_arrays(arrays_list):\n",
    "    \"\"\"\n",
    "    Vertically stacks multiple NumPy arrays provided as a list.\n",
    "    \n",
    "    Parameters:\n",
    "        arrays_list (list of numpy.ndarray): List of NumPy arrays to be stacked.\n",
    "    \n",
    "    Returns:\n",
    "        numpy.ndarray: The vertically stacked array.\n",
    "    \"\"\"\n",
    "    return np.vstack(arrays_list)\n",
    "\n",
    "# Example usage\n",
    "if __name__ == \"__main__\":\n",
    "    array1 = np.array([[1, 2], [3, 4]])\n",
    "    array2 = np.array([[5, 6], [7, 8]])\n",
    "    array3 = np.array([[9, 10], [11, 12]])\n",
    "\n",
    "    arrays = [array1, array2, array3]\n",
    "    stacked_array = vertical_stack_arrays(arrays)\n",
    "    \n",
    "    print(\"Stacked array:\\n\", stacked_array)"
   ]
  },
  {
   "cell_type": "code",
   "execution_count": 21,
   "id": "7bc3d993",
   "metadata": {},
   "outputs": [
    {
     "name": "stdout",
     "output_type": "stream",
     "text": [
      "Array from 1 to 10 with step 2: [1 3 5 7 9]\n"
     ]
    }
   ],
   "source": [
    "# Write a Python function using NumPy to create an array of integers within a specified range (inclusive) with a given step size.\n",
    "def create_range_array(start, stop, step):\n",
    "    \"\"\"\n",
    "    Creates an array of integers within the specified range (inclusive)\n",
    "    with a given step size.\n",
    "    \n",
    "    Parameters:\n",
    "        start (int): The starting value of the range.\n",
    "        stop (int): The end value of the range (inclusive).\n",
    "        step (int): The step size between the values.\n",
    "    \n",
    "    Returns:\n",
    "        numpy.ndarray: A NumPy array with the specified range and step.\n",
    "    \"\"\"\n",
    "    return np.arange(start, stop + 1, step)\n",
    "\n",
    "# Example usage\n",
    "if __name__ == \"__main__\":\n",
    "    start = 1\n",
    "    stop = 10\n",
    "    step = 2\n",
    "    \n",
    "    range_array = create_range_array(start, stop, step)\n",
    "    print(f\"Array from {start} to {stop} with step {step}: {range_array}\")"
   ]
  },
  {
   "cell_type": "code",
   "execution_count": 22,
   "id": "2b60dfdf",
   "metadata": {},
   "outputs": [
    {
     "name": "stdout",
     "output_type": "stream",
     "text": [
      "Equally spaced values between 0 and 1: [0.         0.11111111 0.22222222 0.33333333 0.44444444 0.55555556\n",
      " 0.66666667 0.77777778 0.88888889 1.        ]\n"
     ]
    }
   ],
   "source": [
    "# Write a Python function using NumPy to generate an array of 10 equally spaced values between 0 and 1 (inclusive).\n",
    "def generate_equally_spaced_values():\n",
    "    \"\"\"\n",
    "    Generates an array of 10 equally spaced values between 0 and 1 (inclusive).\n",
    "    \n",
    "    Returns:\n",
    "        numpy.ndarray: A NumPy array of 10 equally spaced values between 0 and 1.\n",
    "    \"\"\"\n",
    "    return np.linspace(0, 1, 10)\n",
    "\n",
    "# Example usage\n",
    "if __name__ == \"__main__\":\n",
    "    equally_spaced_values = generate_equally_spaced_values()\n",
    "    print(f\"Equally spaced values between 0 and 1: {equally_spaced_values}\")"
   ]
  },
  {
   "cell_type": "code",
   "execution_count": 23,
   "id": "4c793f6c",
   "metadata": {},
   "outputs": [
    {
     "name": "stdout",
     "output_type": "stream",
     "text": [
      "Logarithmically spaced values between 1 and 1000: [   1.            5.62341325   31.6227766   177.827941   1000.        ]\n"
     ]
    }
   ],
   "source": [
    "# Write a Python function using NumPy to create an array of 5 logarithmically spaced values between 1 and 1000 (inclusive).\n",
    "def generate_log_spaced_values():\n",
    "    \"\"\"\n",
    "    Generates an array of 5 logarithmically spaced values between 1 and 1000 (inclusive).\n",
    "    \n",
    "    Returns:\n",
    "        numpy.ndarray: A NumPy array of 5 logarithmically spaced values between 1 and 1000.\n",
    "    \"\"\"\n",
    "    return np.logspace(np.log10(1), np.log10(1000), 5)\n",
    "\n",
    "# Example usage\n",
    "if __name__ == \"__main__\":\n",
    "    log_spaced_values = generate_log_spaced_values()\n",
    "    print(f\"Logarithmically spaced values between 1 and 1000: {log_spaced_values}\")"
   ]
  },
  {
   "cell_type": "code",
   "execution_count": 24,
   "id": "1ae5586c",
   "metadata": {},
   "outputs": [
    {
     "name": "stdout",
     "output_type": "stream",
     "text": [
      "   Column 1  Column 2  Column 3\n",
      "0        82         3        69\n",
      "1        71        50        35\n",
      "2        96        55        50\n",
      "3         1        81        69\n",
      "4        68        19        99\n"
     ]
    }
   ],
   "source": [
    "# Create a Pandas DataFrame using a NumPy array that contains 5 rows and 3 columns, where the values are random integers between 1 and 100.\n",
    "import pandas as pd\n",
    "# Generate a NumPy array with random integers between 1 and 100\n",
    "random_array = np.random.randint(1, 101, size=(5, 3))\n",
    "\n",
    "# Create a Pandas DataFrame from the NumPy array\n",
    "df = pd.DataFrame(random_array, columns=[\"Column 1\", \"Column 2\", \"Column 3\"])\n",
    "\n",
    "# Display the DataFrame\n",
    "print(df)"
   ]
  },
  {
   "cell_type": "code",
   "execution_count": 25,
   "id": "95b54c1a",
   "metadata": {},
   "outputs": [
    {
     "name": "stdout",
     "output_type": "stream",
     "text": [
      "Original DataFrame:\n",
      "    Column 1  Column 2\n",
      "0        10        20\n",
      "1        -5        25\n",
      "2        30        -5\n",
      "3        -2        15\n",
      "4        50       -10\n",
      "\n",
      "Updated DataFrame:\n",
      "    Column 1  Column 2\n",
      "0        10        20\n",
      "1         0        25\n",
      "2        30        -5\n",
      "3         0        15\n",
      "4        50       -10\n"
     ]
    }
   ],
   "source": [
    "# Write a function that takes a Pandas DataFrame and replaces all negative values in a specific column with zeros. Use NumPy operations within the Pandas DataFrame.\n",
    "def replace_negative_with_zero(df, column_name):\n",
    "    \"\"\"\n",
    "    Replaces all negative values in a specific column with zeros using NumPy operations.\n",
    "    \n",
    "    Parameters:\n",
    "        df (pandas.DataFrame): The DataFrame.\n",
    "        column_name (str): The name of the column where negative values should be replaced.\n",
    "    \n",
    "    Returns:\n",
    "        pandas.DataFrame: The updated DataFrame.\n",
    "    \"\"\"\n",
    "    # Using NumPy's where function to replace negative values with zeros\n",
    "    df[column_name] = np.where(df[column_name] < 0, 0, df[column_name])\n",
    "    return df\n",
    "\n",
    "# Example usage\n",
    "if __name__ == \"__main__\":\n",
    "    # Sample DataFrame with negative values\n",
    "    data = {\n",
    "        \"Column 1\": [10, -5, 30, -2, 50],\n",
    "        \"Column 2\": [20, 25, -5, 15, -10]\n",
    "    }\n",
    "    \n",
    "    df = pd.DataFrame(data)\n",
    "    \n",
    "    print(\"Original DataFrame:\\n\", df)\n",
    "    \n",
    "    # Replace negative values in 'Column 1' with zero\n",
    "    df_updated = replace_negative_with_zero(df, \"Column 1\")\n",
    "    \n",
    "    print(\"\\nUpdated DataFrame:\\n\", df_updated)"
   ]
  },
  {
   "cell_type": "code",
   "execution_count": 26,
   "id": "ffcbc41b",
   "metadata": {},
   "outputs": [
    {
     "name": "stdout",
     "output_type": "stream",
     "text": [
      "The 3rd element is: 30\n"
     ]
    }
   ],
   "source": [
    "# Access the 3rd element from the given NumPy array. arr = np.array([10, 20, 30, 40, 50])\n",
    "# Define the NumPy array\n",
    "arr = np.array([10, 20, 30, 40, 50])\n",
    "\n",
    "# Access the 3rd element (index 2)\n",
    "third_element = arr[2]\n",
    "\n",
    "# Output the 3rd element\n",
    "print(\"The 3rd element is:\", third_element)"
   ]
  },
  {
   "cell_type": "code",
   "execution_count": 27,
   "id": "3e439bd8",
   "metadata": {},
   "outputs": [
    {
     "name": "stdout",
     "output_type": "stream",
     "text": [
      "The element at index (1, 2) is: 6\n"
     ]
    }
   ],
   "source": [
    "# Retrieve the element at index (1, 2) from the 2D NumPy array.\n",
    "# Define the 2D NumPy array\n",
    "arr_2d = np.array([[1, 2, 3],\n",
    "                   [4, 5, 6],\n",
    "                   [7, 8, 9]])\n",
    "\n",
    "# Retrieve the element at index (1, 2)\n",
    "element = arr_2d[1, 2]\n",
    "\n",
    "# Output the element\n",
    "print(\"The element at index (1, 2) is:\", element)"
   ]
  },
  {
   "cell_type": "code",
   "execution_count": 28,
   "id": "81c38036",
   "metadata": {},
   "outputs": [
    {
     "name": "stdout",
     "output_type": "stream",
     "text": [
      "Elements greater than 5: [ 8 10  7]\n"
     ]
    }
   ],
   "source": [
    "# Using boolean indexing, extract elements greater than 5 from the given NumPy array.\n",
    "# Define the NumPy array\n",
    "arr = np.array([3, 8, 2, 10, 5, 7])\n",
    "\n",
    "# Extract elements greater than 5 using boolean indexing\n",
    "filtered_elements = arr[arr > 5]\n",
    "\n",
    "# Output the filtered elements\n",
    "print(\"Elements greater than 5:\", filtered_elements)"
   ]
  },
  {
   "cell_type": "code",
   "execution_count": 29,
   "id": "2d840bad",
   "metadata": {},
   "outputs": [
    {
     "name": "stdout",
     "output_type": "stream",
     "text": [
      "Extracted elements from index 2 to 5: [3 4 5 6]\n"
     ]
    }
   ],
   "source": [
    "# Perform basic slicing to extract elements from index 2 to 5 (inclusive) from the given NumPy array.\n",
    "# Define the NumPy array\n",
    "arr = np.array([1, 2, 3, 4, 5, 6, 7, 8, 9])\n",
    "\n",
    "# Extract elements from index 2 to 5 (inclusive)\n",
    "sliced_elements = arr[2:6]\n",
    "\n",
    "# Output the sliced elements\n",
    "print(\"Extracted elements from index 2 to 5:\", sliced_elements)"
   ]
  },
  {
   "cell_type": "code",
   "execution_count": 30,
   "id": "4c75f055",
   "metadata": {},
   "outputs": [
    {
     "name": "stdout",
     "output_type": "stream",
     "text": [
      "Extracted sub-array:\n",
      "[[2 3]\n",
      " [5 6]]\n"
     ]
    }
   ],
   "source": [
    "# Slice the 2D NumPy array to extract the sub-array `[[2, 3], [5, 6]]` from the given array.\n",
    "# Define the 2D NumPy array\n",
    "arr_2d = np.array([[1, 2, 3],\n",
    "                   [4, 5, 6],\n",
    "                   [7, 8, 9]])\n",
    "\n",
    "# Slice to extract the sub-array [[2, 3], [5, 6]]\n",
    "sub_array = arr_2d[0:2, 1:3]\n",
    "\n",
    "# Output the extracted sub-array\n",
    "print(\"Extracted sub-array:\")\n",
    "print(sub_array)"
   ]
  },
  {
   "cell_type": "code",
   "execution_count": 31,
   "id": "dd610bea",
   "metadata": {},
   "outputs": [
    {
     "name": "stdout",
     "output_type": "stream",
     "text": [
      "Extracted elements: [2 6 7]\n"
     ]
    }
   ],
   "source": [
    "# Write a NumPy function to extract elements in specific order from a given 2D array based on indices provided in another array.\n",
    "def extract_elements_by_indices(array_2d, indices):\n",
    "    \"\"\"\n",
    "    Extract elements from a 2D array based on indices provided in another array.\n",
    "    \n",
    "    Parameters:\n",
    "    - array_2d (np.ndarray): The input 2D NumPy array.\n",
    "    - indices (list of tuples): List of tuples representing row and column indices.\n",
    "    \n",
    "    Returns:\n",
    "    - np.ndarray: A 1D array of extracted elements in the specified order.\n",
    "    \"\"\"\n",
    "    return np.array([array_2d[row, col] for row, col in indices])\n",
    "# Define the 2D NumPy array\n",
    "arr_2d = np.array([[1, 2, 3],\n",
    "                   [4, 5, 6],\n",
    "                   [7, 8, 9]])\n",
    "\n",
    "# Define the indices to extract\n",
    "indices = [(0, 1), (1, 2), (2, 0)]\n",
    "\n",
    "# Extract elements using the function\n",
    "extracted_elements = extract_elements_by_indices(arr_2d, indices)\n",
    "\n",
    "# Output the result\n",
    "print(\"Extracted elements:\", extracted_elements)"
   ]
  },
  {
   "cell_type": "code",
   "execution_count": 32,
   "id": "ad2a122d",
   "metadata": {},
   "outputs": [
    {
     "name": "stdout",
     "output_type": "stream",
     "text": [
      "Filtered elements greater than 15 : [20 25]\n"
     ]
    }
   ],
   "source": [
    "# Create a NumPy function that filters elements greater than a threshold from a given 1D array using boolean indexing.\n",
    "def filter_greater_than_threshold(array_1d, threshold):\n",
    "    \"\"\"\n",
    "    Filters elements greater than a given threshold from a 1D array using boolean indexing.\n",
    "    \n",
    "    Parameters:\n",
    "    - array_1d (np.ndarray): The input 1D NumPy array.\n",
    "    - threshold (int or float): The threshold value.\n",
    "    \n",
    "    Returns:\n",
    "    - np.ndarray: A new array containing elements greater than the threshold.\n",
    "    \"\"\"\n",
    "    return array_1d[array_1d > threshold]\n",
    "# Define the 1D NumPy array\n",
    "arr_1d = np.array([10, 5, 20, 15, 2, 25])\n",
    "\n",
    "# Define the threshold value\n",
    "threshold = 15\n",
    "\n",
    "# Filter elements greater than the threshold\n",
    "filtered_array = filter_greater_than_threshold(arr_1d, threshold)\n",
    "\n",
    "# Output the result\n",
    "print(\"Filtered elements greater than\", threshold, \":\", filtered_array)\n"
   ]
  },
  {
   "cell_type": "code",
   "execution_count": 35,
   "id": "7e3a4e67",
   "metadata": {},
   "outputs": [
    {
     "name": "stdout",
     "output_type": "stream",
     "text": [
      "Extracted elements: [ 6 17 19]\n"
     ]
    }
   ],
   "source": [
    "# Develop a NumPy function that extracts specific elements from a 3D array using indices provided in three separate arrays for each dimension.\n",
    "def extract_elements_from_3d(array_3d, indices_x, indices_y, indices_z):\n",
    "    \"\"\"\n",
    "    Extracts specific elements from a 3D NumPy array based on indices from three separate arrays.\n",
    "    \n",
    "    Parameters:\n",
    "    - array_3d (np.ndarray): The input 3D NumPy array.\n",
    "    - indices_x (np.ndarray): Array of indices for the first dimension.\n",
    "    - indices_y (np.ndarray): Array of indices for the second dimension.\n",
    "    - indices_z (np.ndarray): Array of indices for the third dimension.\n",
    "    \n",
    "    Returns:\n",
    "    - np.ndarray: Array of extracted elements.\n",
    "    \"\"\"\n",
    "    return array_3d[indices_x, indices_y, indices_z]\n",
    "# Define a 3D NumPy array\n",
    "array_3d = np.array([[[ 1,  2,  3], \n",
    "                    [ 4,  5,  6], \n",
    "                    [ 7,  8,  9]],\n",
    "                   [[10, 11, 12], \n",
    "                    [13, 14, 15], \n",
    "                    [16, 17, 18]],\n",
    "                   [[19, 20, 21], \n",
    "                    [22, 23, 24],\n",
    "                    [25, 26, 27]]])\n",
    "\n",
    "# Define the indices for each dimension\n",
    "indices_x = np.array([0, 1, 2])\n",
    "indices_y = np.array([1, 2, 0])\n",
    "indices_z = np.array([2, 1, 0])\n",
    "\n",
    "# Extract elements using the function\n",
    "extracted_elements = extract_elements_from_3d(array_3d, indices_x, indices_y, indices_z)\n",
    "\n",
    "# Output the result\n",
    "print(\"Extracted elements:\", extracted_elements)\n"
   ]
  },
  {
   "cell_type": "code",
   "execution_count": 36,
   "id": "e96b26dc",
   "metadata": {},
   "outputs": [
    {
     "name": "stdout",
     "output_type": "stream",
     "text": [
      "Filtered elements: [25 30 35 40]\n"
     ]
    }
   ],
   "source": [
    "# Write a NumPy function that returns elements from an array where both two conditions are satisfied using boolean indexing.\n",
    "def filter_elements_with_conditions(array, condition1, condition2):\n",
    "    \"\"\"\n",
    "    Filters elements from a NumPy array where both conditions are satisfied.\n",
    "    \n",
    "    Parameters:\n",
    "    - array (np.ndarray): The input NumPy array.\n",
    "    - condition1 (callable): A function representing the first condition.\n",
    "    - condition2 (callable): A function representing the second condition.\n",
    "    \n",
    "    Returns:\n",
    "    - np.ndarray: Array of elements satisfying both conditions.\n",
    "    \"\"\"\n",
    "    # Combine conditions using logical AND\n",
    "    mask = condition1(array) & condition2(array)\n",
    "    return array[mask]\n",
    "# Define an array\n",
    "arr = np.array([10, 15, 20, 25, 30, 35, 40])\n",
    "\n",
    "# Define two conditions\n",
    "# Condition 1: Elements should be greater than 20\n",
    "condition1 = lambda x: x > 20\n",
    "# Condition 2: Elements should be divisible by 5\n",
    "condition2 = lambda x: x % 5 == 0\n",
    "\n",
    "# Apply the function\n",
    "filtered_elements = filter_elements_with_conditions(arr, condition1, condition2)\n",
    "\n",
    "# Output the result\n",
    "print(\"Filtered elements:\", filtered_elements)\n"
   ]
  },
  {
   "cell_type": "code",
   "execution_count": 37,
   "id": "31e16afb",
   "metadata": {},
   "outputs": [
    {
     "name": "stdout",
     "output_type": "stream",
     "text": [
      "Extracted elements: [2 4 9]\n"
     ]
    }
   ],
   "source": [
    "# Create a NumPy function that extracts elements from a 2D array using row and column indices provided in separate arrays.\n",
    "def extract_elements_by_indices(arr, row_indices, col_indices):\n",
    "    \"\"\"\n",
    "    Extracts elements from a 2D array using row and column indices.\n",
    "\n",
    "    Parameters:\n",
    "    - arr (np.ndarray): The input 2D array.\n",
    "    - row_indices (np.ndarray): Array of row indices.\n",
    "    - col_indices (np.ndarray): Array of column indices.\n",
    "\n",
    "    Returns:\n",
    "    - np.ndarray: An array of elements corresponding to the specified indices.\n",
    "    \"\"\"\n",
    "    if len(row_indices) != len(col_indices):\n",
    "        raise ValueError(\"Row and column indices arrays must have the same length.\")\n",
    "    \n",
    "    # Extract elements using advanced indexing\n",
    "    extracted_elements = arr[row_indices, col_indices]\n",
    "    return extracted_elements\n",
    "# Define a 2D array\n",
    "arr = np.array([[1, 2, 3],\n",
    "                [4, 5, 6],\n",
    "                [7, 8, 9]])\n",
    "\n",
    "# Define row and column indices\n",
    "row_indices = np.array([0, 1, 2])  # Rows: 0, 1, 2\n",
    "col_indices = np.array([1, 0, 2])  # Columns: 1, 0, 2\n",
    "\n",
    "# Extract elements\n",
    "elements = extract_elements_by_indices(arr, row_indices, col_indices)\n",
    "\n",
    "# Output the result\n",
    "print(\"Extracted elements:\", elements)\n"
   ]
  },
  {
   "cell_type": "code",
   "execution_count": 38,
   "id": "4c1c82f8",
   "metadata": {},
   "outputs": [
    {
     "name": "stdout",
     "output_type": "stream",
     "text": [
      "Original array:\n",
      " [[1 2 3]\n",
      " [4 5 6]\n",
      " [7 8 9]]\n",
      "Updated array:\n",
      " [[ 6  7  8]\n",
      " [ 9 10 11]\n",
      " [12 13 14]]\n"
     ]
    }
   ],
   "source": [
    "# Given an array arr of shape (3, 3), add a scalar value of 5 to each element using NumPy broadcasting.\n",
    "# Define the array\n",
    "arr = np.array([[1, 2, 3],\n",
    "                [4, 5, 6],\n",
    "                [7, 8, 9]])\n",
    "\n",
    "# Add scalar value of 5 using broadcasting\n",
    "result = arr + 5\n",
    "\n",
    "# Output the original and updated arrays\n",
    "print(\"Original array:\\n\", arr)\n",
    "print(\"Updated array:\\n\", result)"
   ]
  },
  {
   "cell_type": "code",
   "execution_count": 39,
   "id": "7dfef61c",
   "metadata": {},
   "outputs": [
    {
     "name": "stdout",
     "output_type": "stream",
     "text": [
      "arr1:\n",
      " [[2 3 4]]\n",
      "arr2:\n",
      " [[ 1  2  3  4]\n",
      " [ 5  6  7  8]\n",
      " [ 9 10 11 12]]\n",
      "Result:\n",
      " [[ 2  4  6  8]\n",
      " [15 18 21 24]\n",
      " [36 40 44 48]]\n"
     ]
    }
   ],
   "source": [
    "# Consider two arrays arr1 of shape (1, 3) and arr2 of shape (3, 4). Multiply each row of arr2 by the corresponding element in arr1 using NumPy broadcasting.\n",
    "# Define the arrays\n",
    "arr1 = np.array([[2, 3, 4]])  # Shape (1, 3)\n",
    "arr2 = np.array([[1, 2, 3, 4], \n",
    "                 [5, 6, 7, 8], \n",
    "                 [9, 10, 11, 12]])  # Shape (3, 4)\n",
    "\n",
    "# Multiply each row of arr2 by the corresponding element of arr1 using broadcasting\n",
    "result = arr1.T * arr2\n",
    "\n",
    "# Output the arrays and the result\n",
    "print(\"arr1:\\n\", arr1)\n",
    "print(\"arr2:\\n\", arr2)\n",
    "print(\"Result:\\n\", result)"
   ]
  },
  {
   "cell_type": "code",
   "execution_count": 40,
   "id": "81151368",
   "metadata": {},
   "outputs": [
    {
     "name": "stdout",
     "output_type": "stream",
     "text": [
      "arr1:\n",
      " [[1 2 3 4]]\n",
      "arr2:\n",
      " [[ 10  20  30]\n",
      " [ 40  50  60]\n",
      " [ 70  80  90]\n",
      " [100 110 120]]\n",
      "Result:\n",
      " [[ 11  21  31]\n",
      " [ 42  52  62]\n",
      " [ 73  83  93]\n",
      " [104 114 124]]\n"
     ]
    }
   ],
   "source": [
    "# Given a 1D array arr1 of shape (1, 4) and a 2D array arr2 of shape (4, 3), add arr1 to each row of arr2 using NumPy broadcasting.\n",
    "# Define the arrays\n",
    "arr1 = np.array([[1, 2, 3, 4]])  # Shape (1, 4)\n",
    "arr2 = np.array([[10, 20, 30], \n",
    "                 [40, 50, 60], \n",
    "                 [70, 80, 90], \n",
    "                 [100, 110, 120]])  # Shape (4, 3)\n",
    "\n",
    "# Add arr1 to each row of arr2 using broadcasting\n",
    "result = arr2 + arr1.T\n",
    "\n",
    "# Output the arrays and the result\n",
    "print(\"arr1:\\n\", arr1)\n",
    "print(\"arr2:\\n\", arr2)\n",
    "print(\"Result:\\n\", result)"
   ]
  },
  {
   "cell_type": "code",
   "execution_count": 41,
   "id": "19c02217",
   "metadata": {},
   "outputs": [
    {
     "name": "stdout",
     "output_type": "stream",
     "text": [
      "arr1:\n",
      " [[1]\n",
      " [2]\n",
      " [3]]\n",
      "arr2:\n",
      " [[10 20 30]]\n",
      "Result:\n",
      " [[11 21 31]\n",
      " [12 22 32]\n",
      " [13 23 33]]\n"
     ]
    }
   ],
   "source": [
    "# Consider two arrays arr1 of shape (3, 1) and arr2 of shape (1, 3). Add these arrays using NumPy broadcasting.\n",
    "# Define the arrays\n",
    "arr1 = np.array([[1], [2], [3]])  # Shape (3, 1)\n",
    "arr2 = np.array([[10, 20, 30]])   # Shape (1, 3)\n",
    "\n",
    "# Add the arrays using broadcasting\n",
    "result = arr1 + arr2\n",
    "\n",
    "# Output the arrays and the result\n",
    "print(\"arr1:\\n\", arr1)\n",
    "print(\"arr2:\\n\", arr2)\n",
    "print(\"Result:\\n\", result)"
   ]
  },
  {
   "cell_type": "code",
   "execution_count": 42,
   "id": "c6a81875",
   "metadata": {},
   "outputs": [
    {
     "name": "stdout",
     "output_type": "stream",
     "text": [
      "arr1:\n",
      " [[1 2 3]\n",
      " [4 5 6]]\n",
      "reshaped_arr2:\n",
      " [[10]\n",
      " [30]]\n",
      "Result:\n",
      " [[ 10  20  30]\n",
      " [120 150 180]]\n"
     ]
    }
   ],
   "source": [
    "# Given arrays arr1 of shape (2, 3) and arr2 of shape (2, 2), perform multiplication using NumPy broadcasting. Handle the shape incompatibility.\n",
    "# Define the arrays\n",
    "arr1 = np.array([[1, 2, 3],\n",
    "                 [4, 5, 6]])  # Shape (2, 3)\n",
    "\n",
    "arr2 = np.array([[10, 20],\n",
    "                 [30, 40]])   # Shape (2, 2)\n",
    "\n",
    "# Reshape arr2 to align dimensions\n",
    "reshaped_arr2 = arr2[:, :1]  # Select the first column and reshape to (2, 1)\n",
    "\n",
    "# Multiply the arrays using broadcasting\n",
    "result = arr1 * reshaped_arr2\n",
    "\n",
    "# Output the arrays and the result\n",
    "print(\"arr1:\\n\", arr1)\n",
    "print(\"reshaped_arr2:\\n\", reshaped_arr2)\n",
    "print(\"Result:\\n\", result)"
   ]
  },
  {
   "cell_type": "code",
   "execution_count": 43,
   "id": "ca296cd5",
   "metadata": {},
   "outputs": [
    {
     "name": "stdout",
     "output_type": "stream",
     "text": [
      "Column-wise Mean: [2.5 3.5 4.5]\n"
     ]
    }
   ],
   "source": [
    "# Calculate column wise mean for the given array:\n",
    "# Define the array\n",
    "arr = np.array([[1, 2, 3],\n",
    "                [4, 5, 6]])\n",
    "\n",
    "# Calculate column-wise mean\n",
    "column_mean = np.mean(arr, axis=0)\n",
    "\n",
    "# Print the result\n",
    "print(\"Column-wise Mean:\", column_mean)"
   ]
  },
  {
   "cell_type": "code",
   "execution_count": 44,
   "id": "b53b2f4f",
   "metadata": {},
   "outputs": [
    {
     "name": "stdout",
     "output_type": "stream",
     "text": [
      "Maximum values in each row: [3 6]\n"
     ]
    }
   ],
   "source": [
    "# Find maximum value in each row of the given array:\n",
    "# Define the array\n",
    "arr = np.array([[1, 2, 3],\n",
    "                [4, 5, 6]])\n",
    "\n",
    "# Find the maximum value in each row\n",
    "row_max = np.max(arr, axis=1)\n",
    "\n",
    "# Print the result\n",
    "print(\"Maximum values in each row:\", row_max)"
   ]
  },
  {
   "cell_type": "code",
   "execution_count": 45,
   "id": "5f2ff55c",
   "metadata": {},
   "outputs": [
    {
     "name": "stdout",
     "output_type": "stream",
     "text": [
      "Indices of maximum values in each column: [1 1 1]\n"
     ]
    }
   ],
   "source": [
    "# For the given array, find indices of maximum value in each column.\n",
    "# Define the array\n",
    "arr = np.array([[1, 2, 3],\n",
    "                [4, 5, 6]])\n",
    "\n",
    "# Find the indices of the maximum value in each column\n",
    "indices = np.argmax(arr, axis=0)\n",
    "\n",
    "# Print the result\n",
    "print(\"Indices of maximum values in each column:\", indices)"
   ]
  },
  {
   "cell_type": "code",
   "execution_count": 46,
   "id": "da892095",
   "metadata": {},
   "outputs": [
    {
     "name": "stdout",
     "output_type": "stream",
     "text": [
      "Moving sum along rows:\n",
      " [[ 1  3  6]\n",
      " [ 4  9 15]]\n"
     ]
    }
   ],
   "source": [
    "# For the given array, apply custom function to calculate moving sum along rows.\n",
    "# Define the array\n",
    "arr = np.array([[1, 2, 3],\n",
    "                [4, 5, 6]])\n",
    "\n",
    "# Define the custom function for calculating moving sum\n",
    "def moving_sum(arr):\n",
    "    return np.cumsum(arr)\n",
    "\n",
    "# Apply the moving sum along rows (axis=1)\n",
    "moving_sum_result = np.apply_along_axis(moving_sum, axis=1, arr=arr)\n",
    "\n",
    "# Print the result\n",
    "print(\"Moving sum along rows:\\n\", moving_sum_result)"
   ]
  },
  {
   "cell_type": "code",
   "execution_count": 47,
   "id": "9e9622e3",
   "metadata": {},
   "outputs": [
    {
     "name": "stdout",
     "output_type": "stream",
     "text": [
      "All elements in each column are even: [False False False]\n"
     ]
    }
   ],
   "source": [
    "# In the given array, check if all elements in each column are even.\n",
    "# Define the array\n",
    "arr = np.array([[2, 4, 6], [3, 5, 7]])\n",
    "\n",
    "# Check if all elements in each column are even\n",
    "all_even_per_column = np.all(arr % 2 == 0, axis=0)\n",
    "\n",
    "# Print the result\n",
    "print(\"All elements in each column are even:\", all_even_per_column)"
   ]
  },
  {
   "cell_type": "code",
   "execution_count": 48,
   "id": "753bf7d9",
   "metadata": {},
   "outputs": [
    {
     "name": "stdout",
     "output_type": "stream",
     "text": [
      "Reshaped Matrix:\n",
      " [[1 2 3]\n",
      " [4 5 6]]\n"
     ]
    }
   ],
   "source": [
    "# Given a NumPy array arr, reshape it into a matrix of dimensions `m` rows and `n` columns. Return the reshaped matrix.\n",
    "# Original array\n",
    "original_array = np.array([1, 2, 3, 4, 5, 6])\n",
    "\n",
    "# Define the desired shape (m rows, n columns)\n",
    "m, n = 2, 3\n",
    "\n",
    "# Reshape the array into a matrix of dimensions (m, n)\n",
    "reshaped_array = original_array.reshape(m, n)\n",
    "\n",
    "# Print the reshaped matrix\n",
    "print(\"Reshaped Matrix:\\n\", reshaped_array)"
   ]
  },
  {
   "cell_type": "code",
   "execution_count": 49,
   "id": "517068bb",
   "metadata": {},
   "outputs": [
    {
     "name": "stdout",
     "output_type": "stream",
     "text": [
      "Flattened Array: [1 2 3 4 5 6]\n"
     ]
    }
   ],
   "source": [
    "# Create a function that takes a matrix as input and returns the flattened array.\n",
    "# Function to flatten the input matrix\n",
    "def flatten_matrix(matrix):\n",
    "    return matrix.flatten()\n",
    "\n",
    "# Define the input matrix\n",
    "input_matrix = np.array([[1, 2, 3], [4, 5, 6]])\n",
    "\n",
    "# Call the function to flatten the matrix\n",
    "flattened_array = flatten_matrix(input_matrix)\n",
    "\n",
    "# Print the flattened array\n",
    "print(\"Flattened Array:\", flattened_array)"
   ]
  },
  {
   "cell_type": "code",
   "execution_count": 50,
   "id": "3e064433",
   "metadata": {},
   "outputs": [
    {
     "name": "stdout",
     "output_type": "stream",
     "text": [
      "Concatenated along axis 0 (rows):\n",
      " [[1 2]\n",
      " [3 4]\n",
      " [5 6]\n",
      " [7 8]]\n",
      "Concatenated along axis 1 (columns):\n",
      " [[1 2 5 6]\n",
      " [3 4 7 8]]\n"
     ]
    }
   ],
   "source": [
    "# Write a function that concatenates two given arrays along a specified axis.\n",
    "# Function to concatenate two arrays along a specified axis\n",
    "def concatenate_arrays(array1, array2, axis):\n",
    "    return np.concatenate((array1, array2), axis=axis)\n",
    "\n",
    "# Define the arrays\n",
    "array1 = np.array([[1, 2], [3, 4]])\n",
    "array2 = np.array([[5, 6], [7, 8]])\n",
    "\n",
    "# Concatenate arrays along axis 0 (row-wise)\n",
    "concatenated_array_rows = concatenate_arrays(array1, array2, axis=0)\n",
    "\n",
    "# Concatenate arrays along axis 1 (column-wise)\n",
    "concatenated_array_columns = concatenate_arrays(array1, array2, axis=1)\n",
    "\n",
    "# Print the results\n",
    "print(\"Concatenated along axis 0 (rows):\\n\", concatenated_array_rows)\n",
    "print(\"Concatenated along axis 1 (columns):\\n\", concatenated_array_columns)"
   ]
  },
  {
   "cell_type": "code",
   "execution_count": 51,
   "id": "d5d276e9",
   "metadata": {},
   "outputs": [
    {
     "name": "stdout",
     "output_type": "stream",
     "text": [
      "Split along axis 0 (rows):\n",
      "[[1 2 3]]\n",
      "[[4 5 6]]\n",
      "[[7 8 9]]\n",
      "\n",
      "Split along axis 1 (columns):\n",
      "[[1]\n",
      " [4]\n",
      " [7]]\n",
      "[[2]\n",
      " [5]\n",
      " [8]]\n",
      "[[3]\n",
      " [6]\n",
      " [9]]\n"
     ]
    }
   ],
   "source": [
    "# Create a function that splits an array into multiple sub-arrays along a specified axis.\n",
    "# Function to split an array into multiple sub-arrays along a specified axis\n",
    "def split_array(array, num_splits, axis):\n",
    "    return np.split(array, num_splits, axis=axis)\n",
    "\n",
    "# Define the original array\n",
    "original_array = np.array([[1, 2, 3], [4, 5, 6], [7, 8, 9]])\n",
    "\n",
    "# Split the array along axis 0 (rows) into 3 sub-arrays\n",
    "split_array_rows = split_array(original_array, 3, axis=0)\n",
    "\n",
    "# Split the array along axis 1 (columns) into 3 sub-arrays\n",
    "split_array_columns = split_array(original_array, 3, axis=1)\n",
    "\n",
    "# Print the results\n",
    "print(\"Split along axis 0 (rows):\")\n",
    "for sub_array in split_array_rows:\n",
    "    print(sub_array)\n",
    "\n",
    "print(\"\\nSplit along axis 1 (columns):\")\n",
    "for sub_array in split_array_columns:\n",
    "    print(sub_array)\n"
   ]
  },
  {
   "cell_type": "code",
   "execution_count": 52,
   "id": "345ab1ae",
   "metadata": {},
   "outputs": [
    {
     "name": "stdout",
     "output_type": "stream",
     "text": [
      "Resulting array after insertions and deletions:\n",
      "[ 1 10  4 11  5]\n"
     ]
    }
   ],
   "source": [
    "# Write a function that inserts and then deletes elements from a given array at specified indices.\n",
    "# Function to insert and delete elements from an array at specified indices\n",
    "def insert_and_delete(array, indices_to_insert, values_to_insert, indices_to_delete):\n",
    "    # Insert elements at the specified indices\n",
    "    array = np.insert(array, indices_to_insert, values_to_insert)\n",
    "    \n",
    "    # Delete elements at the specified indices\n",
    "    array = np.delete(array, indices_to_delete)\n",
    "    \n",
    "    return array\n",
    "\n",
    "# Given original array\n",
    "original_array = np.array([1, 2, 3, 4, 5])\n",
    "\n",
    "# Indices and values to insert\n",
    "indices_to_insert = [2, 4]\n",
    "values_to_insert = [10, 11]\n",
    "\n",
    "# Indices to delete\n",
    "indices_to_delete = [1, 3]\n",
    "\n",
    "# Call the function\n",
    "result = insert_and_delete(original_array, indices_to_insert, values_to_insert, indices_to_delete)\n",
    "\n",
    "# Print the resulting array\n",
    "print(\"Resulting array after insertions and deletions:\")\n",
    "print(result)"
   ]
  },
  {
   "cell_type": "code",
   "execution_count": 53,
   "id": "638c1ae8",
   "metadata": {},
   "outputs": [
    {
     "name": "stdout",
     "output_type": "stream",
     "text": [
      "Array 1 (random integers): [15 12  2]\n",
      "Array 2 (integers from 1 to 3): [1 2 3]\n",
      "Result of element-wise addition: [16 14  5]\n"
     ]
    }
   ],
   "source": [
    "# Create a NumPy array `arr1` with random integers and another array `arr2` with integers from 1 to 10. Perform element-wise addition between `arr1` and `arr2`.\n",
    "# Create arr1 with random integers of shape (3,)\n",
    "arr1 = np.random.randint(1, 20, size=3)  # Random integers between 1 and 20\n",
    "\n",
    "# Create arr2 with integers from 1 to 10\n",
    "arr2 = np.array([1, 2, 3])\n",
    "\n",
    "# Perform element-wise addition\n",
    "result = arr1 + arr2\n",
    "\n",
    "# Print the arrays and their result\n",
    "print(\"Array 1 (random integers):\", arr1)\n",
    "print(\"Array 2 (integers from 1 to 3):\", arr2)\n",
    "print(\"Result of element-wise addition:\", result)"
   ]
  },
  {
   "cell_type": "code",
   "execution_count": 54,
   "id": "94394f2b",
   "metadata": {},
   "outputs": [
    {
     "name": "stdout",
     "output_type": "stream",
     "text": [
      "Array 1 (sequential integers from 10 to 1): [10  9  8  7  6  5  4  3  2  1]\n",
      "Array 2 (integers from 1 to 10): [ 1  2  3  4  5  6  7  8  9 10]\n",
      "Result of element-wise subtraction: [ 9  7  5  3  1 -1 -3 -5 -7 -9]\n"
     ]
    }
   ],
   "source": [
    "# Generate a NumPy array `arr1` with sequential integers from 10 to 1 and another array `arr2` with integers from 1 to 10. Subtract `arr2` from `arr1` element-wise.\n",
    "# Create arr1 with sequential integers from 10 to 1\n",
    "arr1 = np.arange(10, 0, -1)\n",
    "\n",
    "# Create arr2 with integers from 1 to 10\n",
    "arr2 = np.array([1, 2, 3, 4, 5, 6, 7, 8, 9, 10])\n",
    "\n",
    "# Perform element-wise subtraction\n",
    "result = arr1 - arr2\n",
    "\n",
    "# Print the arrays and the result\n",
    "print(\"Array 1 (sequential integers from 10 to 1):\", arr1)\n",
    "print(\"Array 2 (integers from 1 to 10):\", arr2)\n",
    "print(\"Result of element-wise subtraction:\", result)"
   ]
  },
  {
   "cell_type": "code",
   "execution_count": 55,
   "id": "6ea08592",
   "metadata": {},
   "outputs": [
    {
     "name": "stdout",
     "output_type": "stream",
     "text": [
      "Array 1 (random integers): [4 6 9 4 8]\n",
      "Array 2 (integers from 1 to 5): [1 2 3 4 5]\n",
      "Result of element-wise multiplication: [ 4 12 27 16 40]\n"
     ]
    }
   ],
   "source": [
    "# Create a NumPy array `arr1` with random integers and another array `arr2` with integers from 1 to 5. Perform element-wise multiplication between `arr1` and `arr2`.\n",
    "# Create arr1 with random integers (let's assume 5 elements as an example)\n",
    "arr1 = np.random.randint(1, 10, size=5)\n",
    "\n",
    "# Create arr2 with integers from 1 to 5\n",
    "arr2 = np.array([1, 2, 3, 4, 5])\n",
    "\n",
    "# Perform element-wise multiplication\n",
    "result = arr1 * arr2\n",
    "\n",
    "# Print the arrays and the result\n",
    "print(\"Array 1 (random integers):\", arr1)\n",
    "print(\"Array 2 (integers from 1 to 5):\", arr2)\n",
    "print(\"Result of element-wise multiplication:\", result)"
   ]
  },
  {
   "cell_type": "code",
   "execution_count": 56,
   "id": "a284cdc2",
   "metadata": {},
   "outputs": [
    {
     "name": "stdout",
     "output_type": "stream",
     "text": [
      "Array 1 (even integers from 2 to 10): [ 2  4  6  8 10]\n",
      "Array 2 (integers from 1 to 5): [1 2 3 4 5]\n",
      "Result of element-wise division: [2. 2. 2. 2. 2.]\n"
     ]
    }
   ],
   "source": [
    "# Generate a NumPy array `arr1` with even integers from 2 to 10 and another array `arr2` with integers from 1 to 5. Perform element-wise division of `arr1` by `arr2`.\n",
    "# Generate arr1 with even integers from 2 to 10\n",
    "arr1 = np.array([2, 4, 6, 8, 10])\n",
    "\n",
    "# Generate arr2 with integers from 1 to 5\n",
    "arr2 = np.array([1, 2, 3, 4, 5])\n",
    "\n",
    "# Perform element-wise division\n",
    "result = arr1 / arr2\n",
    "\n",
    "# Print the arrays and the result\n",
    "print(\"Array 1 (even integers from 2 to 10):\", arr1)\n",
    "print(\"Array 2 (integers from 1 to 5):\", arr2)\n",
    "print(\"Result of element-wise division:\", result)"
   ]
  },
  {
   "cell_type": "code",
   "execution_count": 57,
   "id": "dc34da0e",
   "metadata": {},
   "outputs": [
    {
     "name": "stdout",
     "output_type": "stream",
     "text": [
      "Array 1 (integers from 1 to 5): [1 2 3 4 5]\n",
      "Array 2 (integers reversed): [5 4 3 2 1]\n",
      "Result of exponentiation (arr1 raised to the power of arr2): [ 1 16 27 16  5]\n"
     ]
    }
   ],
   "source": [
    "# Create a NumPy array `arr1` with integers from 1 to 5 and another array `arr2` with the same numbers reversed. Calculate the exponentiation of `arr1` raised to the power of `arr2` element-wise.\n",
    "# Generate arr1 with integers from 1 to 5\n",
    "arr1 = np.array([1, 2, 3, 4, 5])\n",
    "\n",
    "# Generate arr2 with the same integers but reversed\n",
    "arr2 = arr1[::-1]\n",
    "\n",
    "# Perform element-wise exponentiation (arr1 raised to the power of arr2)\n",
    "result = np.power(arr1, arr2)\n",
    "\n",
    "# Print the arrays and the result\n",
    "print(\"Array 1 (integers from 1 to 5):\", arr1)\n",
    "print(\"Array 2 (integers reversed):\", arr2)\n",
    "print(\"Result of exponentiation (arr1 raised to the power of arr2):\", result)"
   ]
  },
  {
   "cell_type": "code",
   "execution_count": 58,
   "id": "f8325d32",
   "metadata": {},
   "outputs": [
    {
     "name": "stdout",
     "output_type": "stream",
     "text": [
      "Occurrences of 'hello': 3\n"
     ]
    }
   ],
   "source": [
    "# Write a function that counts the occurrences of a specific substring within a NumPy array of strings.\n",
    "def count_substring_occurrences(arr, substring):\n",
    "    # Use a vectorized operation to check for the substring in each element of the array\n",
    "    count = np.sum(np.char.find(arr, substring) != -1)\n",
    "    return count\n",
    "\n",
    "# Example array\n",
    "arr = np.array(['hello', 'world', 'hello', 'numpy', 'hello'])\n",
    "\n",
    "# Count occurrences of 'hello'\n",
    "substring = 'hello'\n",
    "result = count_substring_occurrences(arr, substring)\n",
    "\n",
    "print(f\"Occurrences of '{substring}':\", result)"
   ]
  },
  {
   "cell_type": "code",
   "execution_count": 59,
   "id": "e2a32990",
   "metadata": {},
   "outputs": [
    {
     "name": "stdout",
     "output_type": "stream",
     "text": [
      "Uppercase characters: ['H' 'W' 'OAI' 'GPT']\n"
     ]
    }
   ],
   "source": [
    "# Write a function that extracts uppercase characters from a NumPy array of strings.\n",
    "def extract_uppercase_chars(arr):\n",
    "    # Use vectorized operation to filter out uppercase characters from each string in the array\n",
    "    uppercase_chars = np.array([''.join([char for char in string if char.isupper()]) for string in arr])\n",
    "    return uppercase_chars\n",
    "\n",
    "# Example array\n",
    "arr = np.array(['Hello', 'World', 'OpenAI', 'GPT'])\n",
    "\n",
    "# Extract uppercase characters\n",
    "result = extract_uppercase_chars(arr)\n",
    "\n",
    "print(\"Uppercase characters:\", result)"
   ]
  },
  {
   "cell_type": "code",
   "execution_count": 60,
   "id": "509dca17",
   "metadata": {},
   "outputs": [
    {
     "name": "stdout",
     "output_type": "stream",
     "text": [
      "Updated Array: ['orange' 'banana' 'grape' 'pineorange']\n"
     ]
    }
   ],
   "source": [
    "# Write a function that replaces occurrences of a substring in a NumPy array of strings with a new string.\n",
    "def replace_substring(arr, old_substring, new_substring):\n",
    "    # Use np.char.replace to replace occurrences of old_substring with new_substring\n",
    "    updated_array = np.char.replace(arr, old_substring, new_substring)\n",
    "    return updated_array\n",
    "\n",
    "# Example array\n",
    "arr = np.array(['apple', 'banana', 'grape', 'pineapple'])\n",
    "\n",
    "# Replace occurrences of 'apple' with 'orange'\n",
    "old_substring = 'apple'\n",
    "new_substring = 'orange'\n",
    "result = replace_substring(arr, old_substring, new_substring)\n",
    "\n",
    "print(\"Updated Array:\", result)"
   ]
  },
  {
   "cell_type": "code",
   "execution_count": 61,
   "id": "06807cd5",
   "metadata": {},
   "outputs": [
    {
     "name": "stdout",
     "output_type": "stream",
     "text": [
      "Concatenated Array: ['applebanana' 'bananagrape' 'grapepineapple']\n"
     ]
    }
   ],
   "source": [
    "# Write a function that concatenates strings in a NumPy array element-wise.\n",
    "def concatenate_strings(arr):\n",
    "    # Use np.char.add to concatenate strings element-wise\n",
    "    concatenated_array = np.char.add(arr[:-1], arr[1:])\n",
    "    return concatenated_array\n",
    "\n",
    "# Example array\n",
    "arr = np.array(['apple', 'banana', 'grape', 'pineapple'])\n",
    "\n",
    "# Concatenate strings element-wise\n",
    "result = concatenate_strings(arr)\n",
    "\n",
    "print(\"Concatenated Array:\", result)"
   ]
  },
  {
   "cell_type": "code",
   "execution_count": 62,
   "id": "7e805a9d",
   "metadata": {},
   "outputs": [
    {
     "name": "stdout",
     "output_type": "stream",
     "text": [
      "Length of the longest string: 9\n"
     ]
    }
   ],
   "source": [
    "# Write a function that finds the length of the longest string in a NumPy array.\n",
    "def longest_string_length(arr):\n",
    "    # Find the length of the longest string in the array\n",
    "    lengths = np.char.str_len(arr)  # Get lengths of all strings in the array\n",
    "    return np.max(lengths)  # Return the maximum length\n",
    "\n",
    "# Example array\n",
    "arr = np.array(['apple', 'banana', 'grape', 'pineapple'])\n",
    "\n",
    "# Find the length of the longest string\n",
    "longest_length = longest_string_length(arr)\n",
    "\n",
    "print(\"Length of the longest string:\", longest_length)"
   ]
  },
  {
   "cell_type": "code",
   "execution_count": 63,
   "id": "205f8ec9",
   "metadata": {},
   "outputs": [
    {
     "name": "stdout",
     "output_type": "stream",
     "text": [
      "Mean: 512.68\n",
      "Median: 485.0\n",
      "Variance: 86501.3976\n",
      "Standard Deviation: 294.1111993787384\n"
     ]
    }
   ],
   "source": [
    "# Create a dataset of 100 random integers between 1 and 1000. Compute the mean, median, variance, and standard deviation of the dataset using NumPy's functions.\n",
    "# Generate a dataset of 100 random integers between 1 and 1000\n",
    "data = np.random.randint(1, 1001, size=100)\n",
    "\n",
    "# Calculate mean, median, variance, and standard deviation\n",
    "mean = np.mean(data)\n",
    "median = np.median(data)\n",
    "variance = np.var(data)\n",
    "std_deviation = np.std(data)\n",
    "\n",
    "# Display the results\n",
    "print(f\"Mean: {mean}\")\n",
    "print(f\"Median: {median}\")\n",
    "print(f\"Variance: {variance}\")\n",
    "print(f\"Standard Deviation: {std_deviation}\")"
   ]
  },
  {
   "cell_type": "code",
   "execution_count": 65,
   "id": "e420ee91",
   "metadata": {},
   "outputs": [
    {
     "name": "stdout",
     "output_type": "stream",
     "text": [
      "Generated Data: [60.98234104 17.0766175  53.06133663 66.80971329 49.2736374  14.54123712\n",
      " 31.34965508 85.50571758 60.6667105  70.68338368 63.54935273 43.78198496\n",
      " 44.90644185 48.3091945  61.61345144 86.39492772 16.9519893  27.9145477\n",
      " 33.90595379 60.54200864 10.15431746 40.27469975 57.35551279 25.51969071\n",
      "  3.07275812 14.96871992 81.34082922 88.29084696  1.48102031 41.25697958\n",
      " 16.0470926  16.18878124 53.72583415 52.53067651  2.76530062 70.80799878\n",
      " 60.1075814  55.00250521 72.8566761  84.46359121 59.95765819 24.62798745\n",
      " 72.22684621 83.97441571 61.20584595  2.30509563 85.62727356 91.43139607\n",
      " 67.82580573  8.8662295 ]\n",
      "25th Percentile: 24.85091326921926\n",
      "75th Percentile: 67.57178262297862\n"
     ]
    }
   ],
   "source": [
    "# Generate an array of 50 random numbers between 1 and 100. Find the 25th and 75th percentiles of the dataset.\n",
    "\n",
    "data = np.random.uniform(1, 100, size=50)\n",
    "\n",
    "# Find the 25th and 75th percentiles\n",
    "percentile_25 = np.percentile(data, 25)\n",
    "percentile_75 = np.percentile(data, 75)\n",
    "\n",
    "# Display the results\n",
    "print(f\"Generated Data: {data}\")\n",
    "print(f\"25th Percentile: {percentile_25}\")\n",
    "print(f\"75th Percentile: {percentile_75}\")"
   ]
  },
  {
   "cell_type": "code",
   "execution_count": 66,
   "id": "713b6e9d",
   "metadata": {},
   "outputs": [
    {
     "name": "stdout",
     "output_type": "stream",
     "text": [
      "Array 1: [20.81990938  9.32224452 98.6317038  53.32066678 23.5747156  44.5454537\n",
      " 12.06675942 16.40512148 92.94285061  6.01725918]\n",
      "Array 2: [45.43261973 58.5290807  98.68201479 48.52171684 16.11681043 93.99902739\n",
      "  9.37040125 34.42993115 27.28037846 84.28027932]\n",
      "Correlation Coefficient: 0.26526028010516933\n"
     ]
    }
   ],
   "source": [
    "# Create two arrays representing two sets of variables. Compute the correlation coefficient between these arrays using NumPy's `corrcoef` function.\n",
    "array1 = np.random.rand(10) * 100  # Random numbers between 0 and 100\n",
    "array2 = np.random.rand(10) * 100  # Random numbers between 0 and 100\n",
    "\n",
    "# Compute the correlation coefficient\n",
    "correlation_matrix = np.corrcoef(array1, array2)\n",
    "\n",
    "# Extract the correlation coefficient\n",
    "correlation_coefficient = correlation_matrix[0, 1]\n",
    "\n",
    "# Display the results\n",
    "print(f\"Array 1: {array1}\")\n",
    "print(f\"Array 2: {array2}\")\n",
    "print(f\"Correlation Coefficient: {correlation_coefficient}\")"
   ]
  },
  {
   "cell_type": "code",
   "execution_count": 67,
   "id": "f9863424",
   "metadata": {},
   "outputs": [
    {
     "name": "stdout",
     "output_type": "stream",
     "text": [
      "Matrix 1:\n",
      "[[1 2 3]\n",
      " [4 5 6]]\n",
      "\n",
      "Matrix 2:\n",
      "[[ 7  8]\n",
      " [ 9 10]\n",
      " [11 12]]\n",
      "\n",
      "Matrix Multiplication Result:\n",
      "[[ 58  64]\n",
      " [139 154]]\n"
     ]
    }
   ],
   "source": [
    "# Create two matrices and perform matrix multiplication using NumPy's `dot` function.\n",
    "# Create two matrices\n",
    "matrix1 = np.array([[1, 2, 3], [4, 5, 6]])\n",
    "matrix2 = np.array([[7, 8], [9, 10], [11, 12]])\n",
    "\n",
    "# Perform matrix multiplication using np.dot\n",
    "result = np.dot(matrix1, matrix2)\n",
    "\n",
    "# Display the matrices and result\n",
    "print(\"Matrix 1:\")\n",
    "print(matrix1)\n",
    "\n",
    "print(\"\\nMatrix 2:\")\n",
    "print(matrix2)\n",
    "\n",
    "print(\"\\nMatrix Multiplication Result:\")\n",
    "print(result)"
   ]
  },
  {
   "cell_type": "code",
   "execution_count": 68,
   "id": "ccba606a",
   "metadata": {},
   "outputs": [
    {
     "name": "stdout",
     "output_type": "stream",
     "text": [
      "Generated Array: [849 189 725 231 579 330 608 532 183 301  17 911 109 602 900 703 363 582\n",
      " 856 765 217 330 769 158 652 206 795 229 256  87 185 554 861 447 109 232\n",
      "  43 823 304 632  86 228 914 657  48 486 444 449 639 160]\n",
      "10th Percentile: 106.80000000000001\n",
      "Median (50th Percentile): 445.5\n",
      "90th Percentile: 849.7\n",
      "First Quartile (25th Percentile): 208.75\n",
      "Third Quartile (75th Percentile): 655.75\n"
     ]
    }
   ],
   "source": [
    "# Create an array of 50 integers between 10 and 1000. Calculate the 10th, 50th (median), and 90th percentiles along with the first and third quartiles.\n",
    "# Generate an array of 50 random integers between 10 and 1000\n",
    "random_array = np.random.randint(10, 1000, size=50)\n",
    "\n",
    "# Calculate the required percentiles\n",
    "tenth_percentile = np.percentile(random_array, 10)\n",
    "median = np.percentile(random_array, 50)\n",
    "ninetieth_percentile = np.percentile(random_array, 90)\n",
    "first_quartile = np.percentile(random_array, 25)\n",
    "third_quartile = np.percentile(random_array, 75)\n",
    "\n",
    "# Display the results\n",
    "print(\"Generated Array:\", random_array)\n",
    "print(f\"10th Percentile: {tenth_percentile}\")\n",
    "print(f\"Median (50th Percentile): {median}\")\n",
    "print(f\"90th Percentile: {ninetieth_percentile}\")\n",
    "print(f\"First Quartile (25th Percentile): {first_quartile}\")\n",
    "print(f\"Third Quartile (75th Percentile): {third_quartile}\")"
   ]
  },
  {
   "cell_type": "code",
   "execution_count": 69,
   "id": "0088402b",
   "metadata": {},
   "outputs": [
    {
     "name": "stdout",
     "output_type": "stream",
     "text": [
      "The index of 40 is 3.\n"
     ]
    }
   ],
   "source": [
    "# Create a NumPy array of integers and find the index of a specific element.\n",
    "arr = np.array([10, 20, 30, 40, 50, 60, 70])\n",
    "\n",
    "# Define the element whose index you want to find\n",
    "element_to_find = 40\n",
    "\n",
    "# Find the index of the specific element\n",
    "try:\n",
    "    index = np.where(arr == element_to_find)[0][0]  # Find indices where the condition is True\n",
    "    print(f\"The index of {element_to_find} is {index}.\")\n",
    "except IndexError:\n",
    "    print(f\"The element {element_to_find} is not in the array.\")"
   ]
  },
  {
   "cell_type": "code",
   "execution_count": 70,
   "id": "457518d1",
   "metadata": {},
   "outputs": [
    {
     "name": "stdout",
     "output_type": "stream",
     "text": [
      "Original Array: [30 66 55 53 39 33 63 28 65 65]\n",
      "Sorted Array: [28 30 33 39 53 55 63 65 65 66]\n"
     ]
    }
   ],
   "source": [
    "# Generate a random NumPy array and sort it in ascending order.\n",
    "random_array = np.random.randint(1, 101, size=10)  # Array of size 10 with values between 1 and 100\n",
    "\n",
    "# Sort the array in ascending order\n",
    "sorted_array = np.sort(random_array)\n",
    "\n",
    "# Print the original and sorted arrays\n",
    "print(\"Original Array:\", random_array)\n",
    "print(\"Sorted Array:\", sorted_array)"
   ]
  },
  {
   "cell_type": "code",
   "execution_count": 71,
   "id": "e44b1352",
   "metadata": {},
   "outputs": [
    {
     "name": "stdout",
     "output_type": "stream",
     "text": [
      "Original Array: [12 25  6 42  8 30]\n",
      "Filtered Array (elements > 20): [25 42 30]\n"
     ]
    }
   ],
   "source": [
    "# Filter elements >20  in the given NumPy array.\n",
    "# Given array\n",
    "arr = np.array([12, 25, 6, 42, 8, 30])\n",
    "\n",
    "# Filter elements greater than 20\n",
    "filtered_array = arr[arr > 20]\n",
    "\n",
    "# Print the result\n",
    "print(\"Original Array:\", arr)\n",
    "print(\"Filtered Array (elements > 20):\", filtered_array)"
   ]
  },
  {
   "cell_type": "code",
   "execution_count": 72,
   "id": "8fce815c",
   "metadata": {},
   "outputs": [
    {
     "name": "stdout",
     "output_type": "stream",
     "text": [
      "Original Array: [ 1  5  8 12 15]\n",
      "Filtered Array (elements divisible by 3): [12 15]\n"
     ]
    }
   ],
   "source": [
    "# Filter elements which are divisible by 3 from a given NumPy array.\n",
    "# Given array\n",
    "arr = np.array([1, 5, 8, 12, 15])\n",
    "\n",
    "# Filter elements divisible by 3\n",
    "divisible_by_3 = arr[arr % 3 == 0]\n",
    "\n",
    "# Print the result\n",
    "print(\"Original Array:\", arr)\n",
    "print(\"Filtered Array (elements divisible by 3):\", divisible_by_3)"
   ]
  },
  {
   "cell_type": "code",
   "execution_count": 73,
   "id": "37a54c57",
   "metadata": {},
   "outputs": [
    {
     "name": "stdout",
     "output_type": "stream",
     "text": [
      "Original Array: [10 20 30 40 50]\n",
      "Filtered Array (elements ≥ 20 and ≤ 40): [20 30 40]\n"
     ]
    }
   ],
   "source": [
    "# Filter elements which are ≥ 20 and ≤ 40 from a given NumPy array.\n",
    "# Given array\n",
    "arr = np.array([10, 20, 30, 40, 50])\n",
    "\n",
    "# Filter elements between 20 and 40 (inclusive)\n",
    "filtered_arr = arr[(arr >= 20) & (arr <= 40)]\n",
    "\n",
    "# Print the result\n",
    "print(\"Original Array:\", arr)\n",
    "print(\"Filtered Array (elements ≥ 20 and ≤ 40):\", filtered_arr)"
   ]
  },
  {
   "cell_type": "code",
   "execution_count": 74,
   "id": "1855408b",
   "metadata": {},
   "outputs": [
    {
     "name": "stdout",
     "output_type": "stream",
     "text": [
      "The array uses the native byte order of the system.\n"
     ]
    }
   ],
   "source": [
    "# For the given NumPy array, check its byte order using the `dtype` attribute byteorder.\n",
    "# Given array\n",
    "arr = np.array([1, 2, 3])\n",
    "\n",
    "# Check byte order using dtype.byteorder\n",
    "byte_order = arr.dtype.byteorder\n",
    "\n",
    "# Print the result\n",
    "if byte_order == \"=\":\n",
    "    print(\"The array uses the native byte order of the system.\")\n",
    "elif byte_order == \">\":\n",
    "    print(\"The array uses big-endian byte order.\")\n",
    "elif byte_order == \"<\":\n",
    "    print(\"The array uses little-endian byte order.\")\n",
    "else:\n",
    "    print(\"Unknown byte order.\")"
   ]
  },
  {
   "cell_type": "code",
   "execution_count": 75,
   "id": "85d3b61d",
   "metadata": {},
   "outputs": [
    {
     "name": "stdout",
     "output_type": "stream",
     "text": [
      "Array after byte swapping: [16777216 33554432 50331648]\n"
     ]
    }
   ],
   "source": [
    "# For the given NumPy array, perform byte swapping in place using `byteswap()`.\n",
    "# Given array of int32 type\n",
    "arr = np.array([1, 2, 3], dtype=np.int32)\n",
    "\n",
    "# Perform byte swapping in place\n",
    "arr.byteswap(True)\n",
    "\n",
    "# Print the result\n",
    "print(\"Array after byte swapping:\", arr)"
   ]
  },
  {
   "cell_type": "code",
   "execution_count": 76,
   "id": "8a14feba",
   "metadata": {},
   "outputs": [
    {
     "name": "stdout",
     "output_type": "stream",
     "text": [
      "Original array: [1 2 3]\n",
      "Swapped array: [16777216 33554432 50331648]\n"
     ]
    }
   ],
   "source": [
    "# For the given NumPy array, swap its byte order without modifying the original array using `newbyteorder()`.\n",
    "# Given array of int32 type\n",
    "arr = np.array([1, 2, 3], dtype=np.int32)\n",
    "\n",
    "# Swap byte order without modifying the original array\n",
    "swapped_arr = arr.newbyteorder()\n",
    "\n",
    "# Print original and swapped arrays\n",
    "print(\"Original array:\", arr)\n",
    "print(\"Swapped array:\", swapped_arr)"
   ]
  },
  {
   "cell_type": "code",
   "execution_count": 79,
   "id": "66f29351",
   "metadata": {},
   "outputs": [
    {
     "name": "stdout",
     "output_type": "stream",
     "text": [
      "Original array: [1 2 3]\n",
      "Swapped array: [16777216 33554432 50331648]\n"
     ]
    }
   ],
   "source": [
    "# For the given NumPy array and swap its byte order conditionally based on system endianness using `newbyteorder()`.\n",
    "import sys  # Importing the sys module\n",
    "# Given array of int32 type\n",
    "arr = np.array([1, 2, 3], dtype=np.int32)\n",
    "\n",
    "# Check the system's endianness\n",
    "if sys.byteorder == 'little':\n",
    "    # If the system is little-endian, swap to big-endian\n",
    "    swapped_arr = arr.newbyteorder('>')\n",
    "else:\n",
    "    # If the system is big-endian, swap to little-endian\n",
    "    swapped_arr = arr.newbyteorder('<')\n",
    "\n",
    "# Print original and swapped arrays\n",
    "print(\"Original array:\", arr)\n",
    "print(\"Swapped array:\", swapped_arr)"
   ]
  },
  {
   "cell_type": "code",
   "execution_count": 80,
   "id": "fcab26bb",
   "metadata": {},
   "outputs": [
    {
     "name": "stdout",
     "output_type": "stream",
     "text": [
      "Byte swapping is necessary.\n",
      "Array after byte swapping: [16777216 33554432 50331648]\n"
     ]
    }
   ],
   "source": [
    "# For the given NumPy array, check if byte swapping is necessary for the current system using `dtype` attribute `byteorder`.\n",
    "# Given array of int32 type\n",
    "arr = np.array([1, 2, 3], dtype=np.int32)\n",
    "\n",
    "# Check if byte swapping is necessary\n",
    "if arr.dtype.byteorder != sys.byteorder:\n",
    "    print(\"Byte swapping is necessary.\")\n",
    "    swapped_arr = arr.byteswap()\n",
    "    print(\"Array after byte swapping:\", swapped_arr)\n",
    "else:\n",
    "    print(\"No byte swapping is necessary.\")\n",
    "    print(\"Original array:\", arr)"
   ]
  },
  {
   "cell_type": "code",
   "execution_count": 81,
   "id": "c2c6da11",
   "metadata": {},
   "outputs": [
    {
     "name": "stdout",
     "output_type": "stream",
     "text": [
      "Original array (arr1): [ 1  2  3  4  5  6  7  8  9 10]\n",
      "Modified copy array (copy_arr): [100   2   3   4   5   6   7   8   9  10]\n"
     ]
    }
   ],
   "source": [
    "# Create a NumPy array `arr1` with values from 1 to 10. Create a copy of `arr1` named `copy_arr` and modify an element in `copy_arr`. Check if modifying `copy_arr` affects `arr1`.\n",
    "# Create an array arr1 with values from 1 to 10\n",
    "arr1 = np.arange(1, 11)\n",
    "\n",
    "# Create a copy of arr1\n",
    "copy_arr = arr1.copy()\n",
    "\n",
    "# Modify an element in the copy_arr\n",
    "copy_arr[0] = 100\n",
    "\n",
    "# Check if modifying copy_arr affects arr1\n",
    "print(\"Original array (arr1):\", arr1)\n",
    "print(\"Modified copy array (copy_arr):\", copy_arr)"
   ]
  },
  {
   "cell_type": "code",
   "execution_count": 82,
   "id": "29d734ef",
   "metadata": {},
   "outputs": [
    {
     "name": "stdout",
     "output_type": "stream",
     "text": [
      "Original matrix after modifying view_slice:\n",
      "[[ 75  14  88]\n",
      " [ 98 999  51]\n",
      " [ 68  64  33]]\n",
      "\n",
      "Modified view_slice:\n",
      "[[999  51]\n",
      " [ 64  33]]\n"
     ]
    }
   ],
   "source": [
    "# Create a 2D NumPy array `matrix` of shape (3, 3) with random integers. Extract a slice `view_slice` from the matrix. Modify an element in `view_slice` and observe if it changes the original `matrix`.\n",
    "# Create a 3x3 matrix with random integers between 1 and 100\n",
    "matrix = np.random.randint(1, 101, size=(3, 3))\n",
    "\n",
    "# Extract a slice (view) from the matrix\n",
    "view_slice = matrix[1:, 1:]\n",
    "\n",
    "# Modify an element in the view_slice\n",
    "view_slice[0, 0] = 999\n",
    "\n",
    "# Observe changes in the matrix and view_slice\n",
    "print(\"Original matrix after modifying view_slice:\")\n",
    "print(matrix)\n",
    "print(\"\\nModified view_slice:\")\n",
    "print(view_slice)"
   ]
  },
  {
   "cell_type": "code",
   "execution_count": 83,
   "id": "e48715c1",
   "metadata": {},
   "outputs": [
    {
     "name": "stdout",
     "output_type": "stream",
     "text": [
      "Original array_a after modifying view_b:\n",
      "[[ 1  2  3]\n",
      " [ 4 10 11]\n",
      " [ 7 13 14]\n",
      " [10 16 17]]\n",
      "\n",
      "Modified view_b:\n",
      "[[10 11]\n",
      " [13 14]\n",
      " [16 17]]\n"
     ]
    }
   ],
   "source": [
    "# Create a NumPy array `array_a` of shape (4, 3) with sequential integers from 1 to 12. Extract a slice `view_b` from `array_a` and broadcast the addition of 5 to view_b. Check if it alters the original `array_a`.\n",
    "# Create array_a with sequential integers from 1 to 12\n",
    "array_a = np.arange(1, 13).reshape(4, 3)\n",
    "\n",
    "# Extract a slice (view) from array_a\n",
    "view_b = array_a[1:, 1:]\n",
    "\n",
    "# Broadcast the addition of 5 to view_b\n",
    "view_b += 5\n",
    "\n",
    "# Observe changes in the original array_a and view_b\n",
    "print(\"Original array_a after modifying view_b:\")\n",
    "print(array_a)\n",
    "print(\"\\nModified view_b:\")\n",
    "print(view_b)"
   ]
  },
  {
   "cell_type": "code",
   "execution_count": 84,
   "id": "db6c320d",
   "metadata": {},
   "outputs": [
    {
     "name": "stdout",
     "output_type": "stream",
     "text": [
      "Original orig_array after modifying reshaped_view:\n",
      "[[ 1 99  3  4]\n",
      " [ 5  6  7  8]]\n",
      "\n",
      "Modified reshaped_view:\n",
      "[[ 1 99]\n",
      " [ 3  4]\n",
      " [ 5  6]\n",
      " [ 7  8]]\n"
     ]
    }
   ],
   "source": [
    "# Create a NumPy array `orig_array` of shape (2, 4) with values from 1 to 8. Create a reshaped view `reshaped_view` of shape (4, 2) from orig_array. Modify an element in `reshaped_view` and check if it reflects changes in the original `orig_array`.\n",
    "# Create orig_array with values from 1 to 8\n",
    "orig_array = np.arange(1, 9).reshape(2, 4)\n",
    "\n",
    "# Create a reshaped view of orig_array with shape (4, 2)\n",
    "reshaped_view = orig_array.reshape(4, 2)\n",
    "\n",
    "# Modify an element in reshaped_view\n",
    "reshaped_view[0, 1] = 99\n",
    "\n",
    "# Check changes in both orig_array and reshaped_view\n",
    "print(\"Original orig_array after modifying reshaped_view:\")\n",
    "print(orig_array)\n",
    "print(\"\\nModified reshaped_view:\")\n",
    "print(reshaped_view)"
   ]
  },
  {
   "cell_type": "code",
   "execution_count": 85,
   "id": "80dd8c66",
   "metadata": {},
   "outputs": [
    {
     "name": "stdout",
     "output_type": "stream",
     "text": [
      "Original 'data' array:\n",
      "[[7 4 8 5]\n",
      " [7 3 7 8]\n",
      " [5 4 8 8]]\n",
      "\n",
      "Modified 'data_copy' array:\n",
      "[100   8   7   7   8   8   8]\n"
     ]
    }
   ],
   "source": [
    "# Create a NumPy array `data` of shape (3, 4) with random integers. Extract a copy `data_copy` of elements greater than 5. Modify an element in `data_copy` and verify if it affects the original `data`\n",
    "# Create a NumPy array 'data' with random integers (let's set a random seed for reproducibility)\n",
    "np.random.seed(42)\n",
    "data = np.random.randint(1, 10, size=(3, 4))\n",
    "\n",
    "# Extract a copy of elements greater than 5 from 'data'\n",
    "data_copy = data[data > 5].copy()\n",
    "\n",
    "# Modify an element in 'data_copy'\n",
    "data_copy[0] = 100\n",
    "\n",
    "# Check if modifying 'data_copy' affects 'data'\n",
    "print(\"Original 'data' array:\")\n",
    "print(data)\n",
    "print(\"\\nModified 'data_copy' array:\")\n",
    "print(data_copy)"
   ]
  },
  {
   "cell_type": "code",
   "execution_count": 86,
   "id": "049c817d",
   "metadata": {},
   "outputs": [
    {
     "name": "stdout",
     "output_type": "stream",
     "text": [
      "Matrix A:\n",
      "[[3 6 5]\n",
      " [2 8 6]\n",
      " [2 5 1]]\n",
      "\n",
      "Matrix B:\n",
      "[[6 9 1]\n",
      " [3 7 4]\n",
      " [9 3 5]]\n",
      "\n",
      "Addition result (A + B):\n",
      "[[ 9 15  6]\n",
      " [ 5 15 10]\n",
      " [11  8  6]]\n",
      "\n",
      "Subtraction result (A - B):\n",
      "[[-3 -3  4]\n",
      " [-1  1  2]\n",
      " [-7  2 -4]]\n"
     ]
    }
   ],
   "source": [
    "# Create two matrices A and B of identical shape containing integers and perform addition and subtraction operations between them.\n",
    "# Create two 2D matrices A and B with random integers\n",
    "A = np.random.randint(1, 10, size=(3, 3))\n",
    "B = np.random.randint(1, 10, size=(3, 3))\n",
    "\n",
    "# Perform addition and subtraction operations\n",
    "addition_result = A + B\n",
    "subtraction_result = A - B\n",
    "\n",
    "# Display the matrices and results\n",
    "print(\"Matrix A:\")\n",
    "print(A)\n",
    "print(\"\\nMatrix B:\")\n",
    "print(B)\n",
    "\n",
    "print(\"\\nAddition result (A + B):\")\n",
    "print(addition_result)\n",
    "\n",
    "print(\"\\nSubtraction result (A - B):\")\n",
    "print(subtraction_result)"
   ]
  },
  {
   "cell_type": "code",
   "execution_count": 88,
   "id": "9f73782c",
   "metadata": {},
   "outputs": [
    {
     "name": "stdout",
     "output_type": "stream",
     "text": [
      "Matrix C (3x2):\n",
      "[[3 7]\n",
      " [5 9]\n",
      " [7 2]]\n",
      "\n",
      "Matrix D (2x4):\n",
      "[[4 9 2 9]\n",
      " [5 2 4 7]]\n",
      "\n",
      "Matrix multiplication result (C x D):\n",
      "[[ 47  41  34  76]\n",
      " [ 65  63  46 108]\n",
      " [ 38  67  22  77]]\n"
     ]
    }
   ],
   "source": [
    "# Generate two matrices `C` (3x2) and `D` (2x4) and perform matrix multiplication.\n",
    "# Create matrices C (3x2) and D (2x4) with random integers\n",
    "C = np.random.randint(1, 10, size=(3, 2))\n",
    "D = np.random.randint(1, 10, size=(2, 4))\n",
    "\n",
    "# Perform matrix multiplication (dot product)\n",
    "result = np.dot(C, D)\n",
    "\n",
    "# Display the matrices and the result\n",
    "print(\"Matrix C (3x2):\")\n",
    "print(C)\n",
    "\n",
    "print(\"\\nMatrix D (2x4):\")\n",
    "print(D)\n",
    "\n",
    "print(\"\\nMatrix multiplication result (C x D):\")\n",
    "print(result)"
   ]
  },
  {
   "cell_type": "code",
   "execution_count": 89,
   "id": "322d322e",
   "metadata": {},
   "outputs": [
    {
     "name": "stdout",
     "output_type": "stream",
     "text": [
      "Matrix E:\n",
      "[[8 3]\n",
      " [1 4]\n",
      " [2 8]]\n",
      "\n",
      "Transpose of Matrix E:\n",
      "[[8 1 2]\n",
      " [3 4 8]]\n"
     ]
    }
   ],
   "source": [
    "# Create a matrix `E` and find its transpose.\n",
    "# Create a matrix E (3x2) with random integers\n",
    "E = np.random.randint(1, 10, size=(3, 2))\n",
    "\n",
    "# Find the transpose of matrix E\n",
    "E_transpose = E.T\n",
    "\n",
    "# Display the original matrix and its transpose\n",
    "print(\"Matrix E:\")\n",
    "print(E)\n",
    "\n",
    "print(\"\\nTranspose of Matrix E:\")\n",
    "print(E_transpose)"
   ]
  },
  {
   "cell_type": "code",
   "execution_count": 90,
   "id": "76477c61",
   "metadata": {},
   "outputs": [
    {
     "name": "stdout",
     "output_type": "stream",
     "text": [
      "Matrix F:\n",
      "[[4 2 6]\n",
      " [6 4 6]\n",
      " [2 2 4]]\n",
      "\n",
      "Determinant of Matrix F:\n",
      "15.999999999999998\n"
     ]
    }
   ],
   "source": [
    "# Generate a square matrix `F` and compute its determinant.\n",
    "# Generate a square matrix F (e.g., 3x3) with random integers\n",
    "F = np.random.randint(1, 10, size=(3, 3))\n",
    "\n",
    "# Compute the determinant of matrix F\n",
    "det_F = np.linalg.det(F)\n",
    "\n",
    "# Display the matrix and its determinant\n",
    "print(\"Matrix F:\")\n",
    "print(F)\n",
    "\n",
    "print(\"\\nDeterminant of Matrix F:\")\n",
    "print(det_F)"
   ]
  },
  {
   "cell_type": "code",
   "execution_count": 91,
   "id": "3638d24f",
   "metadata": {},
   "outputs": [
    {
     "name": "stdout",
     "output_type": "stream",
     "text": [
      "Matrix G:\n",
      "[[8 7 9]\n",
      " [8 5 2]\n",
      " [5 8 9]]\n",
      "\n",
      "Inverse of Matrix G:\n",
      "[[ 0.19463087  0.06040268 -0.20805369]\n",
      " [-0.41610738  0.18120805  0.37583893]\n",
      " [ 0.26174497 -0.19463087 -0.10738255]]\n"
     ]
    }
   ],
   "source": [
    "# Create a square matrix `G` and find its inverse.\n",
    "# Generate a square matrix G (e.g., 3x3) with random integers\n",
    "G = np.random.randint(1, 10, size=(3, 3))\n",
    "\n",
    "# Compute the inverse of matrix G\n",
    "# Note: The matrix must be non-singular (its determinant should not be 0)\n",
    "try:\n",
    "    inv_G = np.linalg.inv(G)\n",
    "    print(\"Matrix G:\")\n",
    "    print(G)\n",
    "    print(\"\\nInverse of Matrix G:\")\n",
    "    print(inv_G)\n",
    "except np.linalg.LinAlgError:\n",
    "    print(\"Matrix G is singular and cannot be inverted.\")"
   ]
  },
  {
   "cell_type": "code",
   "execution_count": null,
   "id": "aed0bbcf",
   "metadata": {},
   "outputs": [],
   "source": []
  }
 ],
 "metadata": {
  "kernelspec": {
   "display_name": "Python 3",
   "language": "python",
   "name": "python3"
  },
  "language_info": {
   "codemirror_mode": {
    "name": "ipython",
    "version": 3
   },
   "file_extension": ".py",
   "mimetype": "text/x-python",
   "name": "python",
   "nbconvert_exporter": "python",
   "pygments_lexer": "ipython3",
   "version": "3.8.8"
  }
 },
 "nbformat": 4,
 "nbformat_minor": 5
}
