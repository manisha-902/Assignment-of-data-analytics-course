{
 "cells": [
  {
   "cell_type": "code",
   "execution_count": 4,
   "id": "47db2ead",
   "metadata": {},
   "outputs": [
    {
     "name": "stdout",
     "output_type": "stream",
     "text": [
      "Original String: Hello, World!\n",
      "Reversed String: !dlroW ,olleH\n"
     ]
    }
   ],
   "source": [
    "# Write a Code to reverse a string\n",
    "def reverse_string(input_string):\n",
    "    return input_string[::-1]\n",
    "\n",
    "# Example usage\n",
    "string_to_reverse = \"Hello, World!\"\n",
    "reversed_string = reverse_string(string_to_reverse)\n",
    "print(\"Original String:\", string_to_reverse)\n",
    "print(\"Reversed String:\", reversed_string)\n"
   ]
  },
  {
   "cell_type": "code",
   "execution_count": 5,
   "id": "8f126d2d",
   "metadata": {},
   "outputs": [
    {
     "name": "stdout",
     "output_type": "stream",
     "text": [
      "Input String: Hello, World!\n",
      "Number of Vowels: 3\n"
     ]
    }
   ],
   "source": [
    "# Write a Code to count the number of vowels in a string\n",
    "def count_vowels(input_string):\n",
    "    vowels = \"aeiouAEIOU\"\n",
    "    count = 0\n",
    "    for char in input_string:\n",
    "        if char in vowels:\n",
    "            count += 1\n",
    "    return count\n",
    "\n",
    "# Example usage\n",
    "string_to_check = \"Hello, World!\"\n",
    "vowel_count = count_vowels(string_to_check)\n",
    "print(\"Input String:\", string_to_check)\n",
    "print(\"Number of Vowels:\", vowel_count)\n"
   ]
  },
  {
   "cell_type": "code",
   "execution_count": 7,
   "id": "09f6ded3",
   "metadata": {},
   "outputs": [
    {
     "name": "stdout",
     "output_type": "stream",
     "text": [
      "\"madam\" is a palindrome.\n"
     ]
    }
   ],
   "source": [
    " # Write a code to check if a given string is a palindrome or not\n",
    "def is_palindrome(input_string):\n",
    "    # Remove spaces and convert to lowercase for a case-insensitive check\n",
    "    input_string = input_string.replace(\" \", \"\").lower()\n",
    "    return input_string == input_string[::-1]\n",
    "\n",
    "# Example usage\n",
    "string_to_check = \"madam\"\n",
    "if is_palindrome(string_to_check):\n",
    "    print(f'\"{string_to_check}\" is a palindrome.')\n",
    "else:\n",
    "    print(f'\"{string_to_check}\" is not a palindrome.')\n"
   ]
  },
  {
   "cell_type": "code",
   "execution_count": 8,
   "id": "d16f45a8",
   "metadata": {},
   "outputs": [
    {
     "name": "stdout",
     "output_type": "stream",
     "text": [
      "\"listen\" and \"silent\" are anagrams.\n"
     ]
    }
   ],
   "source": [
    "# Write a code to check if two given strings are anagrams of each other\n",
    "def are_anagrams(str1, str2):\n",
    "    # Remove spaces and convert to lowercase for uniformity\n",
    "    str1 = str1.replace(\" \", \"\").lower()\n",
    "    str2 = str2.replace(\" \", \"\").lower()\n",
    "    \n",
    "    # Compare sorted characters of both strings\n",
    "    return sorted(str1) == sorted(str2)\n",
    "\n",
    "# Example usage\n",
    "string1 = \"listen\"\n",
    "string2 = \"silent\"\n",
    "\n",
    "if are_anagrams(string1, string2):\n",
    "    print(f'\"{string1}\" and \"{string2}\" are anagrams.')\n",
    "else:\n",
    "    print(f'\"{string1}\" and \"{string2}\" are not anagrams.')\n"
   ]
  },
  {
   "cell_type": "code",
   "execution_count": 9,
   "id": "7ccb37d3",
   "metadata": {},
   "outputs": [
    {
     "name": "stdout",
     "output_type": "stream",
     "text": [
      "Finding 'Example' in: 'This is a simple example. Example is fun. Example found.'\n",
      "Substring found at index: 26\n",
      "Substring found at index: 42\n"
     ]
    }
   ],
   "source": [
    "# Write a code to find all occurrences of a given substring within another string\n",
    "def find_all_occurrences(text, substring):\n",
    "    # Find starting index of all occurrences\n",
    "    start = 0\n",
    "    while True:\n",
    "        # Use find() to locate substring\n",
    "        start = text.find(substring, start)\n",
    "        if start == -1:  # No more occurrences\n",
    "            break\n",
    "        print(f\"Substring found at index: {start}\")\n",
    "        start += len(substring)  # Move index past the current match\n",
    "\n",
    "\n",
    "# Example usage\n",
    "text_to_search = \"This is a simple example. Example is fun. Example found.\"\n",
    "substring_to_find = \"Example\"\n",
    "\n",
    "print(f\"Finding '{substring_to_find}' in: '{text_to_search}'\")\n",
    "find_all_occurrences(text_to_search, substring_to_find)\n"
   ]
  },
  {
   "cell_type": "code",
   "execution_count": 10,
   "id": "f0aa7717",
   "metadata": {},
   "outputs": [
    {
     "name": "stdout",
     "output_type": "stream",
     "text": [
      "Original String: aaabbcdee\n",
      "Compressed String: a3b2c1d1e2\n"
     ]
    }
   ],
   "source": [
    "# Write a code to perform basic string compression using the counts of repeated character.\n",
    "def basic_string_compression(input_string):\n",
    "    compressed = []\n",
    "    count = 1\n",
    "\n",
    "    # Loop through the string to count consecutive repeated characters\n",
    "    for i in range(len(input_string) - 1):\n",
    "        # Compare the current character with the next one\n",
    "        if input_string[i] == input_string[i + 1]:\n",
    "            count += 1\n",
    "        else:\n",
    "            compressed.append(input_string[i] + str(count))  # Append the character and its count\n",
    "            count = 1  # Reset the count for a new sequence\n",
    "\n",
    "    # Append the last character and its count\n",
    "    compressed.append(input_string[-1] + str(count))\n",
    "\n",
    "    # Join the list into a single string\n",
    "    compressed_string = ''.join(compressed)\n",
    "\n",
    "    # Return the compressed string\n",
    "    return compressed_string\n",
    "\n",
    "\n",
    "# Example usage\n",
    "string_to_compress = \"aaabbcdee\"\n",
    "compressed_result = basic_string_compression(string_to_compress)\n",
    "print(\"Original String:\", string_to_compress)\n",
    "print(\"Compressed String:\", compressed_result)\n"
   ]
  },
  {
   "cell_type": "code",
   "execution_count": 11,
   "id": "363e8f65",
   "metadata": {},
   "outputs": [
    {
     "name": "stdout",
     "output_type": "stream",
     "text": [
      "Type 'upper' to convert to UPPERCASE or 'lower' to convert to lowercase: upper\n",
      "Original String: Hello, World!\n",
      "Converted String: HELLO, WORLD!\n"
     ]
    }
   ],
   "source": [
    "# Write a code to convert a given string to uppercase or lowercase\n",
    "def convert_case(input_string, choice):\n",
    "    if choice == \"upper\":\n",
    "        return input_string.upper()\n",
    "    elif choice == \"lower\":\n",
    "        return input_string.lower()\n",
    "    else:\n",
    "        return \"Invalid choice! Please select 'upper' or 'lower'.\"\n",
    "\n",
    "\n",
    "# Example usage\n",
    "string_to_convert = \"Hello, World!\"\n",
    "\n",
    "# Ask user for conversion choice\n",
    "choice = input(\"Type 'upper' to convert to UPPERCASE or 'lower' to convert to lowercase: \").strip().lower()\n",
    "\n",
    "# Perform the conversion\n",
    "result = convert_case(string_to_convert, choice)\n",
    "\n",
    "# Display the result\n",
    "print(\"Original String:\", string_to_convert)\n",
    "print(\"Converted String:\", result)\n"
   ]
  },
  {
   "cell_type": "code",
   "execution_count": 12,
   "id": "059553fe",
   "metadata": {},
   "outputs": [
    {
     "name": "stdout",
     "output_type": "stream",
     "text": [
      "Input String: The quick brown fox jumps over the lazy dog\n",
      "Number of Words: 9\n"
     ]
    }
   ],
   "source": [
    "# Write a code to count the number of words in a string\n",
    "def count_words(input_string):\n",
    "    # Split the string into words based on spaces and count them\n",
    "    words = input_string.split()\n",
    "    return len(words)\n",
    "\n",
    "\n",
    "# Example usage\n",
    "string_to_count = \"The quick brown fox jumps over the lazy dog\"\n",
    "\n",
    "# Count words in the string\n",
    "word_count = count_words(string_to_count)\n",
    "\n",
    "# Display the result\n",
    "print(\"Input String:\", string_to_count)\n",
    "print(\"Number of Words:\", word_count)\n"
   ]
  },
  {
   "cell_type": "code",
   "execution_count": 13,
   "id": "bfa65802",
   "metadata": {},
   "outputs": [
    {
     "name": "stdout",
     "output_type": "stream",
     "text": [
      "String 1: Hello, \n",
      "String 2: World!\n",
      "Concatenated String: Hello, World!\n"
     ]
    }
   ],
   "source": [
    "# Write a code to concatenate two strings without using the + operator.\n",
    "def concatenate_strings(str1, str2):\n",
    "    # Use join to concatenate strings\n",
    "    return ''.join([str1, str2])\n",
    "\n",
    "\n",
    "# Example usage\n",
    "string1 = \"Hello, \"\n",
    "string2 = \"World!\"\n",
    "\n",
    "# Concatenate strings\n",
    "result = concatenate_strings(string1, string2)\n",
    "\n",
    "# Display the result\n",
    "print(\"String 1:\", string1)\n",
    "print(\"String 2:\", string2)\n",
    "print(\"Concatenated String:\", result)\n"
   ]
  },
  {
   "cell_type": "code",
   "execution_count": 14,
   "id": "ce7dca7d",
   "metadata": {},
   "outputs": [
    {
     "name": "stdout",
     "output_type": "stream",
     "text": [
      "Original List: [1, 2, 3, 4, 2, 5, 2, 6]\n",
      "List after removing all occurrences of 2: [1, 3, 4, 5, 6]\n"
     ]
    }
   ],
   "source": [
    "# Write a code to remove all occurrences of a specific element from a list\n",
    "def remove_element_from_list(input_list, element_to_remove):\n",
    "    # Use list comprehension to remove all occurrences of the element\n",
    "    return [item for item in input_list if item != element_to_remove]\n",
    "\n",
    "\n",
    "# Example usage\n",
    "original_list = [1, 2, 3, 4, 2, 5, 2, 6]\n",
    "element_to_remove = 2\n",
    "\n",
    "# Remove the element\n",
    "updated_list = remove_element_from_list(original_list, element_to_remove)\n",
    "\n",
    "# Display the results\n",
    "print(\"Original List:\", original_list)\n",
    "print(f\"List after removing all occurrences of {element_to_remove}:\", updated_list)\n"
   ]
  },
  {
   "cell_type": "code",
   "execution_count": 15,
   "id": "9808e3ed",
   "metadata": {},
   "outputs": [
    {
     "name": "stdout",
     "output_type": "stream",
     "text": [
      "Numbers List: [10, 20, 4, 8, 50, 25, 30]\n",
      "Second Largest Number: 30\n"
     ]
    }
   ],
   "source": [
    "# Implement a code to find the second largest number in a given list of integers.\n",
    "def find_second_largest(input_list):\n",
    "    # Sort the list in ascending order and get the second last element\n",
    "    if len(input_list) < 2:\n",
    "        return None  # Not enough elements to determine second largest\n",
    "    sorted_list = sorted(input_list)  # Sort the list\n",
    "    return sorted_list[-2]  # Return the second last element\n",
    "\n",
    "\n",
    "# Example usage\n",
    "numbers = [10, 20, 4, 8, 50, 25, 30]\n",
    "\n",
    "second_largest = find_second_largest(numbers)\n",
    "\n",
    "# Display the result\n",
    "print(\"Numbers List:\", numbers)\n",
    "print(\"Second Largest Number:\", second_largest)\n"
   ]
  },
  {
   "cell_type": "code",
   "execution_count": 16,
   "id": "5987724d",
   "metadata": {},
   "outputs": [
    {
     "name": "stdout",
     "output_type": "stream",
     "text": [
      "Numbers List: [1, 2, 4, 2, 3, 1, 2, 3, 3, 4]\n",
      "Occurrences Dictionary: {1: 2, 2: 3, 4: 2, 3: 3}\n"
     ]
    }
   ],
   "source": [
    "# Create a code to count the occurrences of each element in a list and return a dictionary with elements as keys and their counts as values\n",
    "def count_occurrences(input_list):\n",
    "    # Initialize an empty dictionary to store counts\n",
    "    counts = {}\n",
    "    \n",
    "    # Loop through each element in the list\n",
    "    for num in input_list:\n",
    "        # If the element is not in the dictionary, add it with a count of 1\n",
    "        if num not in counts:\n",
    "            counts[num] = 1\n",
    "        else:\n",
    "            # If it's already in the dictionary, increment its count\n",
    "            counts[num] += 1\n",
    "    \n",
    "    return counts\n",
    "\n",
    "\n",
    "# Example usage\n",
    "numbers = [1, 2, 4, 2, 3, 1, 2, 3, 3, 4]\n",
    "\n",
    "# Count occurrences\n",
    "occurrences = count_occurrences(numbers)\n",
    "\n",
    "# Display the result\n",
    "print(\"Numbers List:\", numbers)\n",
    "print(\"Occurrences Dictionary:\", occurrences)\n"
   ]
  },
  {
   "cell_type": "code",
   "execution_count": 17,
   "id": "5cce7b99",
   "metadata": {},
   "outputs": [
    {
     "name": "stdout",
     "output_type": "stream",
     "text": [
      "Reversed List: [6, 5, 4, 3, 2, 1]\n"
     ]
    }
   ],
   "source": [
    "#  Write a code to reverse a list in-place without using any built-in reverse functions\n",
    "def reverse_list_in_place(input_list):\n",
    "    # Use two-pointer technique to reverse the list in place\n",
    "    left, right = 0, len(input_list) - 1\n",
    "    while left < right:\n",
    "        # Swap the elements at left and right indices\n",
    "        input_list[left], input_list[right] = input_list[right], input_list[left]\n",
    "        # Move the pointers toward each other\n",
    "        left += 1\n",
    "        right -= 1\n",
    "\n",
    "\n",
    "# Example usage\n",
    "numbers = [1, 2, 3, 4, 5, 6]\n",
    "\n",
    "# Reverse the list in-place\n",
    "reverse_list_in_place(numbers)\n",
    "\n",
    "# Display the result\n",
    "print(\"Reversed List:\", numbers)\n"
   ]
  },
  {
   "cell_type": "code",
   "execution_count": 18,
   "id": "11effb5c",
   "metadata": {},
   "outputs": [
    {
     "name": "stdout",
     "output_type": "stream",
     "text": [
      "Original List: [1, 2, 2, 3, 4, 3, 5, 1, 6, 4]\n",
      "List after removing duplicates: [1, 2, 3, 4, 5, 6]\n"
     ]
    }
   ],
   "source": [
    "# Implement a code to find and remove duplicates from a list while preserving the original order of elements\n",
    "def remove_duplicates(input_list):\n",
    "    # Create a set to track seen elements\n",
    "    seen = set()\n",
    "    # Create a new list to store the result\n",
    "    result = []\n",
    "    \n",
    "    # Loop through each element in the original list\n",
    "    for item in input_list:\n",
    "        # Add only unseen items to the result list\n",
    "        if item not in seen:\n",
    "            seen.add(item)\n",
    "            result.append(item)\n",
    "    \n",
    "    return result\n",
    "\n",
    "\n",
    "# Example usage\n",
    "numbers = [1, 2, 2, 3, 4, 3, 5, 1, 6, 4]\n",
    "\n",
    "# Remove duplicates while preserving order\n",
    "unique_list = remove_duplicates(numbers)\n",
    "\n",
    "# Display the result\n",
    "print(\"Original List:\", numbers)\n",
    "print(\"List after removing duplicates:\", unique_list)\n"
   ]
  },
  {
   "cell_type": "code",
   "execution_count": 19,
   "id": "33e76fe2",
   "metadata": {},
   "outputs": [
    {
     "name": "stdout",
     "output_type": "stream",
     "text": [
      "List: [1, 2, 3, 4, 5]\n",
      "Sort Status: Ascending\n"
     ]
    }
   ],
   "source": [
    "# Create a code to check if a given list is sorted (either in ascending or descending order) or not\n",
    "def is_sorted(input_list):\n",
    "    # Check if the list is empty or has only one element\n",
    "    if len(input_list) < 2:\n",
    "        return \"Sorted\"  # A list with fewer than 2 elements is trivially sorted\n",
    "\n",
    "    # Check if the list is sorted in ascending order\n",
    "    if all(input_list[i] <= input_list[i+1] for i in range(len(input_list) - 1)):\n",
    "        return \"Ascending\"\n",
    "    \n",
    "    # Check if the list is sorted in descending order\n",
    "    if all(input_list[i] >= input_list[i+1] for i in range(len(input_list) - 1)):\n",
    "        return \"Descending\"\n",
    "    \n",
    "    # If neither ascending nor descending\n",
    "    return \"Unsorted\"\n",
    "\n",
    "\n",
    "# Example usage\n",
    "numbers = [1, 2, 3, 4, 5]  # Change this list to test different cases\n",
    "result = is_sorted(numbers)\n",
    "\n",
    "# Display the result\n",
    "print(\"List:\", numbers)\n",
    "print(\"Sort Status:\", result)\n"
   ]
  },
  {
   "cell_type": "code",
   "execution_count": 20,
   "id": "1d200157",
   "metadata": {},
   "outputs": [
    {
     "name": "stdout",
     "output_type": "stream",
     "text": [
      "List 1: [1, 3, 5, 7]\n",
      "List 2: [2, 4, 6, 8]\n",
      "Merged Sorted List: [1, 2, 3, 4, 5, 6, 7, 8]\n"
     ]
    }
   ],
   "source": [
    "# Write a code to merge two sorted lists into a single sorted list\n",
    "def merge_sorted_lists(list1, list2):\n",
    "    # Pointers for both lists\n",
    "    i, j = 0, 0\n",
    "    merged_list = []\n",
    "\n",
    "    # Traverse both lists and merge in sorted order\n",
    "    while i < len(list1) and j < len(list2):\n",
    "        if list1[i] < list2[j]:\n",
    "            merged_list.append(list1[i])\n",
    "            i += 1\n",
    "        else:\n",
    "            merged_list.append(list2[j])\n",
    "            j += 1\n",
    "\n",
    "    # Add remaining elements in list1, if any\n",
    "    while i < len(list1):\n",
    "        merged_list.append(list1[i])\n",
    "        i += 1\n",
    "\n",
    "    # Add remaining elements in list2, if any\n",
    "    while j < len(list2):\n",
    "        merged_list.append(list2[j])\n",
    "        j += 1\n",
    "\n",
    "    return merged_list\n",
    "\n",
    "\n",
    "# Example usage\n",
    "list1 = [1, 3, 5, 7]\n",
    "list2 = [2, 4, 6, 8]\n",
    "\n",
    "# Merge the sorted lists\n",
    "result = merge_sorted_lists(list1, list2)\n",
    "\n",
    "# Display the merged list\n",
    "print(\"List 1:\", list1)\n",
    "print(\"List 2:\", list2)\n",
    "print(\"Merged Sorted List:\", result)\n"
   ]
  },
  {
   "cell_type": "code",
   "execution_count": 21,
   "id": "ee9ce7ab",
   "metadata": {},
   "outputs": [
    {
     "name": "stdout",
     "output_type": "stream",
     "text": [
      "List 1: [1, 2, 3, 4, 5]\n",
      "List 2: [3, 4, 5, 6, 7]\n",
      "Intersection: [3, 4, 5]\n"
     ]
    }
   ],
   "source": [
    "#  Implement a code to find the intersection of two given lists\n",
    "def find_intersection(list1, list2):\n",
    "    # Convert lists to sets and find their intersection\n",
    "    set1 = set(list1)\n",
    "    set2 = set(list2)\n",
    "    intersection = list(set1 & set2)  # Use the set intersection operator '&'\n",
    "    \n",
    "    # Return the sorted intersection if needed\n",
    "    return sorted(intersection)\n",
    "\n",
    "\n",
    "# Example usage\n",
    "list1 = [1, 2, 3, 4, 5]\n",
    "list2 = [3, 4, 5, 6, 7]\n",
    "\n",
    "# Find intersection\n",
    "result = find_intersection(list1, list2)\n",
    "\n",
    "# Display the result\n",
    "print(\"List 1:\", list1)\n",
    "print(\"List 2:\", list2)\n",
    "print(\"Intersection:\", result)\n"
   ]
  },
  {
   "cell_type": "code",
   "execution_count": 23,
   "id": "e169e33d",
   "metadata": {},
   "outputs": [
    {
     "name": "stdout",
     "output_type": "stream",
     "text": [
      "List 1: [1, 2, 3, 4, 5]\n",
      "List 2: [4, 5, 6, 7, 8]\n",
      "Union without duplicates: [1, 2, 3, 4, 5, 6, 7, 8]\n"
     ]
    }
   ],
   "source": [
    "# Create a code to find the union of two lists without duplicates\n",
    "def find_union(list1, list2):\n",
    "    # Convert both lists to sets to remove duplicates\n",
    "    set1 = set(list1)\n",
    "    set2 = set(list2)\n",
    "    \n",
    "    # Perform the union operation\n",
    "    union_result = list(set1 | set2)  # Use the '|' operator for union\n",
    "    \n",
    "    # Optionally sort the result\n",
    "    return sorted(union_result)\n",
    "\n",
    "\n",
    "# Example usage\n",
    "list1 = [1, 2, 3, 4, 5]\n",
    "list2 = [4, 5, 6, 7, 8]\n",
    "\n",
    "# Find the union\n",
    "result = find_union(list1, list2)\n",
    "\n",
    "# Display the result\n",
    "print(\"List 1:\", list1)\n",
    "print(\"List 2:\", list2)\n",
    "print(\"Union without duplicates:\", result)\n"
   ]
  },
  {
   "cell_type": "code",
   "execution_count": 24,
   "id": "9b70a16b",
   "metadata": {},
   "outputs": [
    {
     "name": "stdout",
     "output_type": "stream",
     "text": [
      "Original List: [1, 2, 3, 4, 5, 6, 7, 8]\n",
      "Shuffled List: [8, 2, 5, 6, 4, 7, 3, 1]\n"
     ]
    }
   ],
   "source": [
    "# Write a code to shuffle a given list randomly without using any built-in shuffle functions\n",
    "import random\n",
    "\n",
    "\n",
    "def shuffle_list(my_list):\n",
    "    # Perform Fisher-Yates Shuffle\n",
    "    for i in range(len(my_list) - 1, 0, -1):\n",
    "        # Pick a random index from 0 to i (inclusive)\n",
    "        j = random.randint(0, i)\n",
    "        # Swap elements at index i and j\n",
    "        my_list[i], my_list[j] = my_list[j], my_list[i]\n",
    "\n",
    "    return my_list\n",
    "\n",
    "\n",
    "# Example usage\n",
    "original_list = [1, 2, 3, 4, 5, 6, 7, 8]\n",
    "\n",
    "# Shuffle the list\n",
    "shuffled_list = shuffle_list(original_list.copy())  # Use copy to preserve the original\n",
    "print(\"Original List:\", original_list)\n",
    "print(\"Shuffled List:\", shuffled_list)\n"
   ]
  },
  {
   "cell_type": "code",
   "execution_count": 25,
   "id": "547f1ae9",
   "metadata": {},
   "outputs": [
    {
     "name": "stdout",
     "output_type": "stream",
     "text": [
      "Tuple 1: (1, 2, 3, 4, 5)\n",
      "Tuple 2: (3, 4, 5, 6, 7)\n",
      "Common elements: (3, 4, 5)\n"
     ]
    }
   ],
   "source": [
    "# Write a code that takes two tuples as input and returns a new tuple containing elements that are common to both input tuples\n",
    "def common_elements(tuple1, tuple2):\n",
    "    # Convert tuples into sets\n",
    "    set1 = set(tuple1)\n",
    "    set2 = set(tuple2)\n",
    "    \n",
    "    # Find the intersection of the two sets\n",
    "    common_set = set1 & set2  # Use '&' for intersection\n",
    "    \n",
    "    # Return the intersection as a sorted tuple (optional sorting for better readability)\n",
    "    return tuple(sorted(common_set))\n",
    "\n",
    "\n",
    "# Example usage\n",
    "tuple1 = (1, 2, 3, 4, 5)\n",
    "tuple2 = (3, 4, 5, 6, 7)\n",
    "\n",
    "# Get common elements\n",
    "result = common_elements(tuple1, tuple2)\n",
    "\n",
    "# Display the result\n",
    "print(\"Tuple 1:\", tuple1)\n",
    "print(\"Tuple 2:\", tuple2)\n",
    "print(\"Common elements:\", result)\n"
   ]
  },
  {
   "cell_type": "code",
   "execution_count": 26,
   "id": "168518f1",
   "metadata": {},
   "outputs": [
    {
     "name": "stdout",
     "output_type": "stream",
     "text": [
      "Enter the first set of integers (comma-separated): 2,3,5,7\n",
      "Enter the second set of integers (comma-separated): 4,3,6,7\n",
      "Intersection of the two sets: {3, 7}\n"
     ]
    }
   ],
   "source": [
    "#  Create a code that prompts the user to enter two sets of integers separated by commas. Then, print the intersection of these two sets\n",
    "def get_user_input():\n",
    "    # Prompt user to input two sets of integers separated by commas\n",
    "    user_input1 = input(\"Enter the first set of integers (comma-separated): \")\n",
    "    user_input2 = input(\"Enter the second set of integers (comma-separated): \")\n",
    "\n",
    "    # Convert the input strings into sets of integers\n",
    "    set1 = set(int(x) for x in user_input1.split(\",\"))\n",
    "    set2 = set(int(x) for x in user_input2.split(\",\"))\n",
    "\n",
    "    # Find intersection\n",
    "    common_elements = set1 & set2  # Find common elements using set intersection\n",
    "\n",
    "    # Print the result\n",
    "    print(\"Intersection of the two sets:\", common_elements)\n",
    "\n",
    "\n",
    "# Call the function\n",
    "get_user_input()\n"
   ]
  },
  {
   "cell_type": "code",
   "execution_count": 27,
   "id": "c9326c89",
   "metadata": {},
   "outputs": [
    {
     "name": "stdout",
     "output_type": "stream",
     "text": [
      "Tuple 1: (1, 2, 3)\n",
      "Tuple 2: (4, 5, 6)\n",
      "Concatenated Tuple: (1, 2, 3, 4, 5, 6)\n"
     ]
    }
   ],
   "source": [
    "# Write a code to concatenate two tuples. The function should take two tuples as input and return a new tuple containing elements from both input tuples\n",
    "def concatenate_tuples(tuple1, tuple2):\n",
    "    # Concatenate two tuples using the `+` operator\n",
    "    result = tuple1 + tuple2\n",
    "    return result\n",
    "\n",
    "\n",
    "# Example usage\n",
    "tuple_a = (1, 2, 3)\n",
    "tuple_b = (4, 5, 6)\n",
    "\n",
    "# Call the function to concatenate\n",
    "result_tuple = concatenate_tuples(tuple_a, tuple_b)\n",
    "\n",
    "# Print the result\n",
    "print(\"Tuple 1:\", tuple_a)\n",
    "print(\"Tuple 2:\", tuple_b)\n",
    "print(\"Concatenated Tuple:\", result_tuple)\n"
   ]
  },
  {
   "cell_type": "code",
   "execution_count": 28,
   "id": "8b1e389d",
   "metadata": {},
   "outputs": [
    {
     "name": "stdout",
     "output_type": "stream",
     "text": [
      "Enter the first set of strings (comma-separated): 2,5,7,8\n",
      "Enter the second set of strings (comma-separated): 5,7,6,9,0\n",
      "Elements in the first set but not in the second set: {'2', '8'}\n"
     ]
    }
   ],
   "source": [
    "# Develop a code that prompts the user to input two sets of strings. Then, print the elements that are present in the first set but not in the second set\n",
    "def get_user_input():\n",
    "    # Prompt user to input two sets of strings separated by commas\n",
    "    user_input1 = input(\"Enter the first set of strings (comma-separated): \")\n",
    "    user_input2 = input(\"Enter the second set of strings (comma-separated): \")\n",
    "\n",
    "    # Convert the input strings into sets\n",
    "    set1 = set(user_input1.split(\",\"))\n",
    "    set2 = set(user_input2.split(\",\"))\n",
    "\n",
    "    # Find elements in the first set but not in the second set\n",
    "    result_set = set1 - set2  # Set difference operation\n",
    "\n",
    "    # Print the result\n",
    "    print(\"Elements in the first set but not in the second set:\", result_set)\n",
    "\n",
    "\n",
    "# Call the function\n",
    "get_user_input()\n"
   ]
  },
  {
   "cell_type": "code",
   "execution_count": 30,
   "id": "c2978c73",
   "metadata": {},
   "outputs": [
    {
     "name": "stdout",
     "output_type": "stream",
     "text": [
      "Enter the elements of the tuple separated by commas: 1,2,3,4,5\n",
      "Enter the starting index: 2\n",
      "Enter the ending index: 4\n",
      "Original Tuple: ('1', '2', '3', '4', '5')\n",
      "Resultant Tuple within range: ('3', '4')\n"
     ]
    }
   ],
   "source": [
    "# Create a code that takes a tuple and two integers as input. The function should return a new tuple containing elements from the original tuple within the specified range of indices\n",
    "def get_elements_in_range(input_tuple, start_index, end_index):\n",
    "    # Return a slice of the input tuple from start_index to end_index\n",
    "    return input_tuple[start_index:end_index]\n",
    "\n",
    "\n",
    "# Example usage\n",
    "try:\n",
    "    # Input tuple and range values\n",
    "    user_tuple = tuple(input(\"Enter the elements of the tuple separated by commas: \").split(\",\"))\n",
    "    start_idx = int(input(\"Enter the starting index: \"))\n",
    "    end_idx = int(input(\"Enter the ending index: \"))\n",
    "\n",
    "    # Call the function to get elements in the specified range\n",
    "    result = get_elements_in_range(user_tuple, start_idx, end_idx)\n",
    "\n",
    "    # Display the results\n",
    "    print(\"Original Tuple:\", user_tuple)\n",
    "    print(\"Resultant Tuple within range:\", result)\n",
    "except IndexError:\n",
    "    print(\"Error: Index out of range. Please enter valid indices.\")\n",
    "except ValueError:\n",
    "    print(\"Error: Invalid input. Please enter integers and strings correctly.\")\n"
   ]
  },
  {
   "cell_type": "code",
   "execution_count": 31,
   "id": "9e836578",
   "metadata": {},
   "outputs": [
    {
     "name": "stdout",
     "output_type": "stream",
     "text": [
      "Enter the first set of characters (comma-separated): a,y,h,j,k\n",
      "Enter the second set of characters (comma-separated): t,j,k,y,u\n",
      "Union of the two sets: {'j', 't', 'a', 'u', 'y', 'k', 'h'}\n"
     ]
    }
   ],
   "source": [
    "# Write a code that prompts the user to input two sets of characters. Then, print the union of these two sets\n",
    "def get_user_input_and_union():\n",
    "    # Prompt user for input\n",
    "    user_input1 = input(\"Enter the first set of characters (comma-separated): \")\n",
    "    user_input2 = input(\"Enter the second set of characters (comma-separated): \")\n",
    "\n",
    "    # Convert input strings to sets\n",
    "    set1 = set(user_input1.split(\",\"))\n",
    "    set2 = set(user_input2.split(\",\"))\n",
    "\n",
    "    # Compute union\n",
    "    union_result = set1.union(set2)\n",
    "\n",
    "    # Print the result\n",
    "    print(\"Union of the two sets:\", union_result)\n",
    "\n",
    "\n",
    "# Call the function\n",
    "get_user_input_and_union()\n"
   ]
  },
  {
   "cell_type": "code",
   "execution_count": 32,
   "id": "4eb0559e",
   "metadata": {},
   "outputs": [
    {
     "name": "stdout",
     "output_type": "stream",
     "text": [
      "Enter integers separated by commas: 3,6,7,8\n",
      "Original Tuple: (3, 6, 7, 8)\n",
      "Maximum value: 8\n",
      "Minimum value: 3\n"
     ]
    }
   ],
   "source": [
    "# Develop a code that takes a tuple of integers as input. The function should return the maximum and minimum values from the tuple using tuple unpacking&\n",
    "\n",
    "def get_max_min(input_tuple):\n",
    "    # Use tuple unpacking to extract max and min\n",
    "    max_val, min_val = max(input_tuple), min(input_tuple)\n",
    "    \n",
    "    # Return the values as a tuple\n",
    "    return max_val, min_val\n",
    "\n",
    "\n",
    "# Example usage\n",
    "try:\n",
    "    # Prompt user to input integers for the tuple\n",
    "    user_input = input(\"Enter integers separated by commas: \")\n",
    "    user_tuple = tuple(int(x) for x in user_input.split(\",\"))  # Convert user input string to a tuple of integers\n",
    "    \n",
    "    # Call the function to get max and min values\n",
    "    max_value, min_value = get_max_min(user_tuple)\n",
    "\n",
    "    # Output the results\n",
    "    print(\"Original Tuple:\", user_tuple)\n",
    "    print(\"Maximum value:\", max_value)\n",
    "    print(\"Minimum value:\", min_value)\n",
    "except ValueError:\n",
    "    print(\"Error: Please enter only integers separated by commas.\")\n"
   ]
  },
  {
   "cell_type": "code",
   "execution_count": 33,
   "id": "c5cab929",
   "metadata": {},
   "outputs": [
    {
     "name": "stdout",
     "output_type": "stream",
     "text": [
      "Set 1: {1, 2, 3, 4, 5}\n",
      "Set 2: {4, 5, 6, 7, 8}\n",
      "Union: {1, 2, 3, 4, 5, 6, 7, 8}\n",
      "Intersection: {4, 5}\n",
      "Difference (set1 - set2): {1, 2, 3}\n"
     ]
    }
   ],
   "source": [
    "# Create a code that defines two sets of integers. Then, print the union, intersection, and difference of these two sets\n",
    "# Define two sets of integers\n",
    "set1 = {1, 2, 3, 4, 5}\n",
    "set2 = {4, 5, 6, 7, 8}\n",
    "\n",
    "# Calculate union, intersection, and difference\n",
    "union_result = set1.union(set2)  # Union of two sets\n",
    "intersection_result = set1.intersection(set2)  # Intersection of two sets\n",
    "difference_result = set1.difference(set2)  # Difference of two sets (elements in set1 but not in set2)\n",
    "\n",
    "# Print the results\n",
    "print(\"Set 1:\", set1)\n",
    "print(\"Set 2:\", set2)\n",
    "print(\"Union:\", union_result)\n",
    "print(\"Intersection:\", intersection_result)\n",
    "print(\"Difference (set1 - set2):\", difference_result)\n"
   ]
  },
  {
   "cell_type": "code",
   "execution_count": 34,
   "id": "2c10903a",
   "metadata": {},
   "outputs": [
    {
     "name": "stdout",
     "output_type": "stream",
     "text": [
      "Enter elements for the tuple separated by commas: 1,2,3,4\n",
      "Enter the element to count in the tuple: 3\n",
      "Tuple: ('1', '2', '3', '4')\n",
      "Element to count: 3\n",
      "Occurrences: 1\n"
     ]
    }
   ],
   "source": [
    "# Write a code that takes a tuple and an element as input. The function should return the count of occurrences of the given element in the tuple\n",
    "def count_element_in_tuple(input_tuple, element):\n",
    "    # Use the count method to find the occurrences of the element\n",
    "    return input_tuple.count(element)\n",
    "\n",
    "\n",
    "# Example usage\n",
    "try:\n",
    "    # Prompt user to input the tuple elements as comma-separated values\n",
    "    user_input = input(\"Enter elements for the tuple separated by commas: \")\n",
    "    user_tuple = tuple(user_input.split(\",\"))  # Create a tuple from user input\n",
    "\n",
    "    # Prompt user for the element to count\n",
    "    element_to_count = input(\"Enter the element to count in the tuple: \")\n",
    "\n",
    "    # Call the function to count occurrences\n",
    "    occurrences = count_element_in_tuple(user_tuple, element_to_count)\n",
    "\n",
    "    # Output the result\n",
    "    print(\"Tuple:\", user_tuple)\n",
    "    print(\"Element to count:\", element_to_count)\n",
    "    print(\"Occurrences:\", occurrences)\n",
    "except Exception as e:\n",
    "    print(\"Error:\", e)\n"
   ]
  },
  {
   "cell_type": "code",
   "execution_count": 35,
   "id": "f9ed7897",
   "metadata": {},
   "outputs": [
    {
     "name": "stdout",
     "output_type": "stream",
     "text": [
      "Enter the first set of strings separated by commas: 1,2,3\n",
      "Enter the second set of strings separated by commas: 4,3,2\n",
      "Set 1: {'1', '2', '3'}\n",
      "Set 2: {'3', '2', '4'}\n",
      "Symmetric Difference: {'1', '4'}\n"
     ]
    }
   ],
   "source": [
    "# Develop a code that prompts the user to input two sets of strings. Then, print the symmetric difference of these two sets\n",
    "# Prompt the user to input two sets of strings\n",
    "try:\n",
    "    # Input sets of strings as comma-separated values\n",
    "    set1_input = input(\"Enter the first set of strings separated by commas: \")\n",
    "    set2_input = input(\"Enter the second set of strings separated by commas: \")\n",
    "\n",
    "    # Convert the input strings into sets\n",
    "    set1 = set(s.strip() for s in set1_input.split(\",\"))\n",
    "    set2 = set(s.strip() for s in set2_input.split(\",\"))\n",
    "\n",
    "    # Calculate the symmetric difference of the two sets\n",
    "    symmetric_diff = set1.symmetric_difference(set2)\n",
    "\n",
    "    # Output the result\n",
    "    print(\"Set 1:\", set1)\n",
    "    print(\"Set 2:\", set2)\n",
    "    print(\"Symmetric Difference:\", symmetric_diff)\n",
    "\n",
    "except Exception as e:\n",
    "    print(\"Error:\", e)\n"
   ]
  },
  {
   "cell_type": "code",
   "execution_count": 38,
   "id": "03effd65",
   "metadata": {},
   "outputs": [
    {
     "name": "stdout",
     "output_type": "stream",
     "text": [
      "Enter a list of words separated by spaces: kit hi, for you,\n",
      "Input List of Words: ['kit', 'hi,', 'for', 'you,']\n",
      "Word Frequencies Dictionary: {'kit': 1, 'hi,': 1, 'for': 1, 'you,': 1}\n"
     ]
    }
   ],
   "source": [
    "# Write a code that takes a list of words as input and returns a dictionary where the keys are unique words and the values are the frequencies of those words in the input list\n",
    "def count_word_frequencies(word_list):\n",
    "    # Create an empty dictionary to store word frequencies\n",
    "    word_count = {}\n",
    "\n",
    "    # Iterate over each word in the list\n",
    "    for word in word_list:\n",
    "        # If the word is not in the dictionary, initialize it to 1\n",
    "        # Otherwise, increment its value by 1\n",
    "        word_count[word] = word_count.get(word, 0) + 1\n",
    "\n",
    "    # Return the dictionary\n",
    "    return word_count\n",
    "\n",
    "\n",
    "# Example usage\n",
    "try:\n",
    "    # Prompt the user to enter a list of words separated by spaces\n",
    "    user_input = input(\"Enter a list of words separated by spaces: \")\n",
    "    word_list = user_input.split()  # Split the input string into a list of words\n",
    "\n",
    "    # Call the function to count word frequencies\n",
    "    result = count_word_frequencies(word_list)\n",
    "\n",
    "    # Print the resulting dictionary\n",
    "    print(\"Input List of Words:\", word_list)\n",
    "    print(\"Word Frequencies Dictionary:\", result)\n",
    "except Exception as e:\n",
    "    print(\"Error:\", e)\n"
   ]
  },
  {
   "cell_type": "code",
   "execution_count": 39,
   "id": "210bbde7",
   "metadata": {},
   "outputs": [
    {
     "name": "stdout",
     "output_type": "stream",
     "text": [
      "Enter the first dictionary (in the format key1:value1,key2:value2): yes: 7, No: 6\n",
      "Enter the second dictionary (in the format key1:value1,key2:value2): yes: 5, No: 9\n",
      "First Dictionary: {'yes': 7, ' No': 6}\n",
      "Second Dictionary: {'yes': 5, ' No': 9}\n",
      "Merged Dictionary: {'yes': 12, ' No': 15}\n"
     ]
    }
   ],
   "source": [
    "# Write a code that takes two dictionaries as input and merges them into a single dictionary. If there are common keys, the values should be added together\n",
    "def merge_dictionaries(dict1, dict2):\n",
    "    # Create a new dictionary to hold the merged result\n",
    "    merged_dict = dict1.copy()  # Start with the first dictionary's keys and values\n",
    "\n",
    "    # Iterate over the keys and values of the second dictionary\n",
    "    for key, value in dict2.items():\n",
    "        # If the key already exists in the merged dictionary, sum the values\n",
    "        if key in merged_dict:\n",
    "            merged_dict[key] += value\n",
    "        # Otherwise, directly add the key-value pair\n",
    "        else:\n",
    "            merged_dict[key] = value\n",
    "\n",
    "    return merged_dict\n",
    "\n",
    "\n",
    "# Example usage\n",
    "try:\n",
    "    # Prompt user to input the first dictionary\n",
    "    dict1_input = input(\"Enter the first dictionary (in the format key1:value1,key2:value2): \")\n",
    "    dict2_input = input(\"Enter the second dictionary (in the format key1:value1,key2:value2): \")\n",
    "\n",
    "    # Convert user input strings into dictionaries\n",
    "    dict1 = dict([item.split(':') for item in dict1_input.split(',')])\n",
    "    dict2 = dict([item.split(':') for item in dict2_input.split(',')])\n",
    "\n",
    "    # Convert string values to integers\n",
    "    dict1 = {k: int(v) for k, v in dict1.items()}\n",
    "    dict2 = {k: int(v) for k, v in dict2.items()}\n",
    "\n",
    "    # Merge the dictionaries\n",
    "    merged_result = merge_dictionaries(dict1, dict2)\n",
    "\n",
    "    # Output the result\n",
    "    print(\"First Dictionary:\", dict1)\n",
    "    print(\"Second Dictionary:\", dict2)\n",
    "    print(\"Merged Dictionary:\", merged_result)\n",
    "\n",
    "except Exception as e:\n",
    "    print(\"Error:\", e)\n"
   ]
  },
  {
   "cell_type": "code",
   "execution_count": 46,
   "id": "83ad8aff",
   "metadata": {},
   "outputs": [
    {
     "name": "stdout",
     "output_type": "stream",
     "text": [
      "Enter the keys to access the nested value (comma-separated): user1, address, city\n",
      "Value Found: New York\n"
     ]
    }
   ],
   "source": [
    "# Write a code to access a value in a nested dictionary. The function should take the dictionary and a list of keys as input, and return the corresponding value. If any of the keys do not exist in the dictionary, the  function should return None\n",
    "def access_nested_value(dictionary, keys):\n",
    "    try:\n",
    "        # Traverse the dictionary using the list of keys\n",
    "        for key in keys:\n",
    "            if key in dictionary:\n",
    "                dictionary = dictionary[key]  # Move to the next level\n",
    "            else:\n",
    "                return None  # Return None if key doesn't exist\n",
    "        return dictionary  # Return the found value\n",
    "    except TypeError:\n",
    "        # Handle unexpected non-dictionary types\n",
    "        return None\n",
    "\n",
    "\n",
    "# Example usage\n",
    "try:\n",
    "    # Define a nested dictionary\n",
    "    nested_dict = {\n",
    "        'user1': {\n",
    "            'name': 'Alice',\n",
    "            'address': {\n",
    "                'city': 'New York',\n",
    "                'zip': '10001'\n",
    "            },\n",
    "            'contacts': {\n",
    "                'phone': '123456789',\n",
    "                'email': 'alice@example.com'\n",
    "            }\n",
    "        },\n",
    "        'user2': {\n",
    "            'name': 'Bob',\n",
    "            'address': {\n",
    "                'city': 'Los Angeles',\n",
    "                'zip': '90001'\n",
    "            },\n",
    "            'contacts': {\n",
    "                'phone': '987654321',\n",
    "                'email': 'bob@example.com'\n",
    "            }\n",
    "        }\n",
    "    }\n",
    "\n",
    "    # Input: List of keys\n",
    "    keys_to_access = input(\"Enter the keys to access the nested value (comma-separated): \").split(',')\n",
    "    keys_to_access = [key.strip() for key in keys_to_access]  # Clean spaces around keys\n",
    "\n",
    "    # Call the function to get the value\n",
    "    result = access_nested_value(nested_dict, keys_to_access)\n",
    "\n",
    "    # Output the result\n",
    "    if result is not None:\n",
    "        print(\"Value Found:\", result)\n",
    "    else:\n",
    "        print(\"The keys do not exist in the dictionary.\")\n",
    "except Exception as e:\n",
    "    print(\"Error:\", e)\n"
   ]
  },
  {
   "cell_type": "code",
   "execution_count": 47,
   "id": "a0472bc8",
   "metadata": {},
   "outputs": [
    {
     "name": "stdout",
     "output_type": "stream",
     "text": [
      "Enter a dictionary in the format key1:value1,key2:value2: yes: 9, no:8\n",
      "Enter sorting order (ascending/descending): descending\n",
      "Sorted Dictionary: {' no': '8', 'yes': ' 9'}\n"
     ]
    }
   ],
   "source": [
    "# Write a code that takes a dictionary as input and returns a sorted version of it based on the values. You can choose whether to sort in ascending or descending order\n",
    "def sort_dictionary_by_value(dictionary, order='ascending'):\n",
    "    # Sort dictionary items based on the values\n",
    "    sorted_items = sorted(dictionary.items(), key=lambda x: x[1], reverse=(order == 'descending'))\n",
    "    \n",
    "    # Convert the sorted items back into a dictionary\n",
    "    sorted_dict = dict(sorted_items)\n",
    "    \n",
    "    return sorted_dict\n",
    "\n",
    "\n",
    "# Example usage\n",
    "try:\n",
    "    # Take dictionary input from the user\n",
    "    user_input = input(\"Enter a dictionary in the format key1:value1,key2:value2: \")\n",
    "    # Convert string input into a valid dictionary\n",
    "    input_dict = dict(item.split(':') for item in user_input.split(','))\n",
    "\n",
    "    # Ask user for sorting order\n",
    "    sort_order = input(\"Enter sorting order (ascending/descending): \").strip().lower()\n",
    "    \n",
    "    # Validate user input for sort_order\n",
    "    if sort_order not in ['ascending', 'descending']:\n",
    "        print(\"Invalid sort order. Defaulting to ascending.\")\n",
    "        sort_order = 'ascending'\n",
    "\n",
    "    # Call the function to sort the dictionary\n",
    "    result = sort_dictionary_by_value(input_dict, order=sort_order)\n",
    "\n",
    "    # Output the sorted dictionary\n",
    "    print(\"Sorted Dictionary:\", result)\n",
    "except Exception as e:\n",
    "    print(\"Error:\", e)\n"
   ]
  },
  {
   "cell_type": "code",
   "execution_count": 48,
   "id": "d4809c66",
   "metadata": {},
   "outputs": [
    {
     "name": "stdout",
     "output_type": "stream",
     "text": [
      "Enter a dictionary in the format key1:value1,key2:value2: yes: 8 , No: 7\n",
      "Inverted Dictionary: {' 8 ': 'yes', ' 7': ' No'}\n"
     ]
    }
   ],
   "source": [
    "#  Write a code that inverts a dictionary, swapping keys and values. Ensure that the inverted dictionary correctly handles cases where multiple keys have the same value by storing the keys as a list in the inverted dictionary\n",
    "def invert_dictionary(dictionary):\n",
    "    inverted = {}\n",
    "    for key, value in dictionary.items():\n",
    "        # If value is already a key in the inverted dictionary\n",
    "        if value in inverted:\n",
    "            # If it's not a list, convert it to a list\n",
    "            if isinstance(inverted[value], list):\n",
    "                inverted[value].append(key)\n",
    "            else:\n",
    "                inverted[value] = [inverted[value], key]\n",
    "        else:\n",
    "            # If value isn't in inverted dictionary, add it with the key as its first value\n",
    "            inverted[value] = key\n",
    "    return inverted\n",
    "\n",
    "\n",
    "# Example usage\n",
    "try:\n",
    "    # Take dictionary input from the user\n",
    "    user_input = input(\"Enter a dictionary in the format key1:value1,key2:value2: \")\n",
    "    \n",
    "    # Convert string input into a valid dictionary\n",
    "    input_dict = dict(item.split(':') for item in user_input.split(','))\n",
    "\n",
    "    # Call the invert dictionary function\n",
    "    inverted_dict = invert_dictionary(input_dict)\n",
    "\n",
    "    # Output the inverted dictionary\n",
    "    print(\"Inverted Dictionary:\", inverted_dict)\n",
    "except Exception as e:\n",
    "    print(\"Error:\", e)\n"
   ]
  },
  {
   "cell_type": "code",
   "execution_count": null,
   "id": "35fc0bcc",
   "metadata": {},
   "outputs": [],
   "source": []
  }
 ],
 "metadata": {
  "kernelspec": {
   "display_name": "Python 3",
   "language": "python",
   "name": "python3"
  },
  "language_info": {
   "codemirror_mode": {
    "name": "ipython",
    "version": 3
   },
   "file_extension": ".py",
   "mimetype": "text/x-python",
   "name": "python",
   "nbconvert_exporter": "python",
   "pygments_lexer": "ipython3",
   "version": "3.8.8"
  }
 },
 "nbformat": 4,
 "nbformat_minor": 5
}
